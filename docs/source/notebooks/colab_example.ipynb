{
  "cells": [
    {
      "cell_type": "markdown",
      "metadata": {
        "id": "I_iiHOpKuUTE"
      },
      "source": [
        "# Running Tile2Net on Colab\n",
        "\n",
        "If you don't have access to a physical GPU on your computer, or your GPU is not powerful enough, you can use the following workflow to use the tool!\n",
        "\n",
        "There are two ways to use Tile2Net - via the command line or via imported python modules. Using a colab workflow, the first way is a bit more straightforward, but both are possible.\n",
        "\n",
        "You will notice exclamation points `!` and percent symbols `%` at the front of many code blocks in this notebook. Both are Colab syntax used to execute bash commands and \"magic\" commands in the colab environment. The relevant magic commands will be explained as they come up.\n",
        "\n",
        "## Command Line Interface\n",
        "\n",
        "### Step 0: Mount Google Drive\n",
        "\n",
        "This step is optional, and is only necessary if you plan to upload your own tiles to the tool."
      ]
    },
    {
      "cell_type": "code",
      "execution_count": null,
      "metadata": {
        "colab": {
          "base_uri": "https://localhost:8080/"
        },
        "id": "j9DfBKFnBuSn",
        "outputId": "da9d1c7f-8624-4f6a-fb0d-a3cce73d5321"
      },
      "outputs": [
        {
          "name": "stdout",
          "output_type": "stream",
          "text": [
            "Mounted at /content/drive\n"
          ]
        }
      ],
      "source": [
        "from google.colab import drive\n",
        "drive.mount('/content/drive')"
      ]
    },
    {
      "cell_type": "markdown",
      "metadata": {
        "id": "FZxvTk1pBDxy"
      },
      "source": [
        "### Step 1: Clone the Repository"
      ]
    },
    {
      "cell_type": "code",
      "execution_count": null,
      "metadata": {
        "colab": {
          "base_uri": "https://localhost:8080/"
        },
        "id": "jRu2L-ME6bxl",
        "outputId": "6b23b8cb-92f0-4782-b95c-90e535dc4921"
      },
      "outputs": [
        {
          "name": "stdout",
          "output_type": "stream",
          "text": [
            "Cloning into 'tile2net'...\n",
            "remote: Enumerating objects: 1086, done.\u001b[K\n",
            "remote: Counting objects: 100% (607/607), done.\u001b[K\n",
            "remote: Compressing objects: 100% (187/187), done.\u001b[K\n",
            "remote: Total 1086 (delta 414), reused 487 (delta 381), pack-reused 479\u001b[K\n",
            "Receiving objects: 100% (1086/1086), 1.83 MiB | 21.56 MiB/s, done.\n",
            "Resolving deltas: 100% (606/606), done.\n"
          ]
        }
      ],
      "source": [
        "!git clone https://github.com/VIDA-NYU/tile2net.git"
      ]
    },
    {
      "cell_type": "markdown",
      "metadata": {
        "id": "aWksRf4huUTN"
      },
      "source": [
        "Once the repository has cloned, you can use the magic `%cd` command to go into the resulting    tile2net `directory`. It is important to use the magic command rather than calling `!cd`, because the latter creates a temporary subshell in which the command is called, whereas the former will persist the directory change."
      ]
    },
    {
      "cell_type": "code",
      "execution_count": null,
      "metadata": {
        "colab": {
          "base_uri": "https://localhost:8080/"
        },
        "id": "iyN62x3Wufz5",
        "outputId": "b2621559-fbfe-4b41-c342-3e9c953189a4"
      },
      "outputs": [
        {
          "name": "stdout",
          "output_type": "stream",
          "text": [
            "/content\n"
          ]
        }
      ],
      "source": [
        "!cd tile2net\n",
        "!pwd"
      ]
    },
    {
      "cell_type": "code",
      "execution_count": null,
      "metadata": {
        "colab": {
          "base_uri": "https://localhost:8080/"
        },
        "id": "LcQdVR4-6u2Z",
        "outputId": "fbe62649-cf2c-4bb7-94cd-46e270ee0a22"
      },
      "outputs": [
        {
          "name": "stdout",
          "output_type": "stream",
          "text": [
            "/content/tile2net\n",
            "/content/tile2net\n"
          ]
        }
      ],
      "source": [
        "%cd tile2net\n",
        "!pwd"
      ]
    },
    {
      "cell_type": "markdown",
      "metadata": {
        "id": "QjY6xjO_uUTR"
      },
      "source": [
        "Always make sure you're up to date with the latest version of the code!"
      ]
    },
    {
      "cell_type": "code",
      "execution_count": null,
      "metadata": {
        "colab": {
          "base_uri": "https://localhost:8080/"
        },
        "id": "LE67k4kKwc8-",
        "outputId": "185b2978-504e-45c5-d7ca-bda2fa4a2324"
      },
      "outputs": [
        {
          "name": "stdout",
          "output_type": "stream",
          "text": [
            "Already up to date.\n"
          ]
        }
      ],
      "source": [
        "!git pull"
      ]
    },
    {
      "cell_type": "markdown",
      "metadata": {
        "id": "1ng5TNAjuUTW"
      },
      "source": [
        "### Step 2: Activate a Virtual Environment and Install Dependencies\n",
        "\n",
        "It is highly recommended to create a virtual environment using either pip or conda to install Tile2Net and its dependencies. The following commands create an environment with conda and python version 3.11 and install all of the dependencies present in the [requirements-dev.txt](https://github.com/VIDA-NYU/tile2net/blob/main/requirements-dev.txt) file (That's what the period at the end does!)"
      ]
    },
    {
      "cell_type": "code",
      "execution_count": null,
      "metadata": {
        "colab": {
          "base_uri": "https://localhost:8080/"
        },
        "id": "ZZ5c_ZGO27Ln",
        "outputId": "66b9da29-e65f-4d52-be56-67d4c26600fd"
      },
      "outputs": [
        {
          "name": "stdout",
          "output_type": "stream",
          "text": [
            "Obtaining file:///content/tile2net\n",
            "  Installing build dependencies ... \u001b[?25l\u001b[?25hdone\n",
            "  Checking if build backend supports build_editable ... \u001b[?25l\u001b[?25hdone\n",
            "  Getting requirements to build editable ... \u001b[?25l\u001b[?25hdone\n",
            "  Preparing editable metadata (pyproject.toml) ... \u001b[?25l\u001b[?25hdone\n",
            "Collecting centerline (from tile2net==0.3.0)\n",
            "  Downloading centerline-1.0.1-py2.py3-none-any.whl (7.9 kB)\n",
            "Collecting jupyter (from tile2net==0.3.0)\n",
            "  Downloading jupyter-1.0.0-py2.py3-none-any.whl (2.7 kB)\n",
            "Requirement already satisfied: geopandas in /usr/local/lib/python3.10/dist-packages (from tile2net==0.3.0) (0.13.2)\n",
            "Requirement already satisfied: geopy in /usr/local/lib/python3.10/dist-packages (from tile2net==0.3.0) (2.3.0)\n",
            "Requirement already satisfied: matplotlib in /usr/local/lib/python3.10/dist-packages (from tile2net==0.3.0) (3.7.1)\n",
            "Collecting momepy (from tile2net==0.3.0)\n",
            "  Downloading momepy-0.7.0-py3-none-any.whl (277 kB)\n",
            "\u001b[2K     \u001b[90m━━━━━━━━━━━━━━━━━━━━━━━━━━━━━━━━━━━━━━━━\u001b[0m \u001b[32m277.8/277.8 kB\u001b[0m \u001b[31m4.4 MB/s\u001b[0m eta \u001b[36m0:00:00\u001b[0m\n",
            "\u001b[?25hRequirement already satisfied: numba in /usr/local/lib/python3.10/dist-packages (from tile2net==0.3.0) (0.58.1)\n",
            "Requirement already satisfied: opencv-python in /usr/local/lib/python3.10/dist-packages (from tile2net==0.3.0) (4.8.0.76)\n",
            "Collecting osmnx (from tile2net==0.3.0)\n",
            "  Downloading osmnx-1.8.0-py3-none-any.whl (102 kB)\n",
            "\u001b[2K     \u001b[90m━━━━━━━━━━━━━━━━━━━━━━━━━━━━━━━━━━━━━━━━\u001b[0m \u001b[32m102.9/102.9 kB\u001b[0m \u001b[31m7.2 MB/s\u001b[0m eta \u001b[36m0:00:00\u001b[0m\n",
            "\u001b[?25hRequirement already satisfied: pillow in /usr/local/lib/python3.10/dist-packages (from tile2net==0.3.0) (9.4.0)\n",
            "Requirement already satisfied: pyarrow in /usr/local/lib/python3.10/dist-packages (from tile2net==0.3.0) (10.0.1)\n",
            "Collecting pyogrio (from tile2net==0.3.0)\n",
            "  Downloading pyogrio-0.7.2-cp310-cp310-manylinux_2_17_x86_64.manylinux2014_x86_64.whl (22.0 MB)\n",
            "\u001b[2K     \u001b[90m━━━━━━━━━━━━━━━━━━━━━━━━━━━━━━━━━━━━━━━━\u001b[0m \u001b[32m22.0/22.0 MB\u001b[0m \u001b[31m59.8 MB/s\u001b[0m eta \u001b[36m0:00:00\u001b[0m\n",
            "\u001b[?25hCollecting rasterio (from tile2net==0.3.0)\n",
            "  Downloading rasterio-1.3.9-cp310-cp310-manylinux2014_x86_64.whl (20.6 MB)\n",
            "\u001b[2K     \u001b[90m━━━━━━━━━━━━━━━━━━━━━━━━━━━━━━━━━━━━━━━━\u001b[0m \u001b[32m20.6/20.6 MB\u001b[0m \u001b[31m75.1 MB/s\u001b[0m eta \u001b[36m0:00:00\u001b[0m\n",
            "\u001b[?25hRequirement already satisfied: scikit-image in /usr/local/lib/python3.10/dist-packages (from tile2net==0.3.0) (0.19.3)\n",
            "Requirement already satisfied: scikit-learn in /usr/local/lib/python3.10/dist-packages (from tile2net==0.3.0) (1.2.2)\n",
            "Collecting shapely==2.0.1 (from tile2net==0.3.0)\n",
            "  Downloading shapely-2.0.1-cp310-cp310-manylinux_2_17_x86_64.manylinux2014_x86_64.whl (2.3 MB)\n",
            "\u001b[2K     \u001b[90m━━━━━━━━━━━━━━━━━━━━━━━━━━━━━━━━━━━━━━━━\u001b[0m \u001b[32m2.3/2.3 MB\u001b[0m \u001b[31m96.2 MB/s\u001b[0m eta \u001b[36m0:00:00\u001b[0m\n",
            "\u001b[?25hRequirement already satisfied: tqdm in /usr/local/lib/python3.10/dist-packages (from tile2net==0.3.0) (4.66.1)\n",
            "Requirement already satisfied: torch in /usr/local/lib/python3.10/dist-packages (from tile2net==0.3.0) (2.1.0+cu118)\n",
            "Requirement already satisfied: torchvision in /usr/local/lib/python3.10/dist-packages (from tile2net==0.3.0) (0.16.0+cu118)\n",
            "Collecting argh==0.29.4 (from tile2net==0.3.0)\n",
            "  Downloading argh-0.29.4-py3-none-any.whl (40 kB)\n",
            "\u001b[2K     \u001b[90m━━━━━━━━━━━━━━━━━━━━━━━━━━━━━━━━━━━━━━━━\u001b[0m \u001b[32m40.5/40.5 kB\u001b[0m \u001b[31m5.0 MB/s\u001b[0m eta \u001b[36m0:00:00\u001b[0m\n",
            "\u001b[?25hCollecting coolname (from tile2net==0.3.0)\n",
            "  Downloading coolname-2.2.0-py2.py3-none-any.whl (37 kB)\n",
            "Requirement already satisfied: tabulate in /usr/local/lib/python3.10/dist-packages (from tile2net==0.3.0) (0.9.0)\n",
            "Collecting tensorboardx (from tile2net==0.3.0)\n",
            "  Downloading tensorboardX-2.6.2.2-py2.py3-none-any.whl (101 kB)\n",
            "\u001b[2K     \u001b[90m━━━━━━━━━━━━━━━━━━━━━━━━━━━━━━━━━━━━━━━━\u001b[0m \u001b[32m101.7/101.7 kB\u001b[0m \u001b[31m13.7 MB/s\u001b[0m eta \u001b[36m0:00:00\u001b[0m\n",
            "\u001b[?25hRequirement already satisfied: packaging in /usr/local/lib/python3.10/dist-packages (from tile2net==0.3.0) (23.2)\n",
            "Requirement already satisfied: sphinx in /usr/local/lib/python3.10/dist-packages (from tile2net==0.3.0) (5.0.2)\n",
            "Requirement already satisfied: torchaudio in /usr/local/lib/python3.10/dist-packages (from tile2net==0.3.0) (2.1.0+cu118)\n",
            "Collecting runx (from tile2net==0.3.0)\n",
            "  Downloading runx-0.0.11-py3-none-any.whl (29 kB)\n",
            "Requirement already satisfied: toolz in /usr/local/lib/python3.10/dist-packages (from tile2net==0.3.0) (0.12.0)\n",
            "Requirement already satisfied: more-itertools in /usr/local/lib/python3.10/dist-packages (from tile2net==0.3.0) (10.1.0)\n",
            "Requirement already satisfied: gdown in /usr/local/lib/python3.10/dist-packages (from tile2net==0.3.0) (4.6.6)\n",
            "Requirement already satisfied: pytest in /usr/local/lib/python3.10/dist-packages (from tile2net==0.3.0) (7.4.3)\n",
            "Requirement already satisfied: imageio in /usr/local/lib/python3.10/dist-packages (from tile2net==0.3.0) (2.31.6)\n",
            "Requirement already satisfied: numpy>=1.14 in /usr/local/lib/python3.10/dist-packages (from shapely==2.0.1->tile2net==0.3.0) (1.23.5)\n",
            "Requirement already satisfied: Fiona>=1.7.0 in /usr/local/lib/python3.10/dist-packages (from centerline->tile2net==0.3.0) (1.9.5)\n",
            "Requirement already satisfied: scipy>=0.16.1 in /usr/local/lib/python3.10/dist-packages (from centerline->tile2net==0.3.0) (1.11.4)\n",
            "Requirement already satisfied: Click>=7.0 in /usr/local/lib/python3.10/dist-packages (from centerline->tile2net==0.3.0) (8.1.7)\n",
            "Requirement already satisfied: filelock in /usr/local/lib/python3.10/dist-packages (from gdown->tile2net==0.3.0) (3.13.1)\n",
            "Requirement already satisfied: requests[socks] in /usr/local/lib/python3.10/dist-packages (from gdown->tile2net==0.3.0) (2.31.0)\n",
            "Requirement already satisfied: six in /usr/local/lib/python3.10/dist-packages (from gdown->tile2net==0.3.0) (1.16.0)\n",
            "Requirement already satisfied: beautifulsoup4 in /usr/local/lib/python3.10/dist-packages (from gdown->tile2net==0.3.0) (4.11.2)\n",
            "Requirement already satisfied: pandas>=1.1.0 in /usr/local/lib/python3.10/dist-packages (from geopandas->tile2net==0.3.0) (1.5.3)\n",
            "Requirement already satisfied: pyproj>=3.0.1 in /usr/local/lib/python3.10/dist-packages (from geopandas->tile2net==0.3.0) (3.6.1)\n",
            "Requirement already satisfied: geographiclib<3,>=1.52 in /usr/local/lib/python3.10/dist-packages (from geopy->tile2net==0.3.0) (2.0)\n",
            "Requirement already satisfied: notebook in /usr/local/lib/python3.10/dist-packages (from jupyter->tile2net==0.3.0) (6.5.5)\n",
            "Collecting qtconsole (from jupyter->tile2net==0.3.0)\n",
            "  Downloading qtconsole-5.5.1-py3-none-any.whl (123 kB)\n",
            "\u001b[2K     \u001b[90m━━━━━━━━━━━━━━━━━━━━━━━━━━━━━━━━━━━━━━━━\u001b[0m \u001b[32m123.4/123.4 kB\u001b[0m \u001b[31m16.4 MB/s\u001b[0m eta \u001b[36m0:00:00\u001b[0m\n",
            "\u001b[?25hRequirement already satisfied: jupyter-console in /usr/local/lib/python3.10/dist-packages (from jupyter->tile2net==0.3.0) (6.1.0)\n",
            "Requirement already satisfied: nbconvert in /usr/local/lib/python3.10/dist-packages (from jupyter->tile2net==0.3.0) (6.5.4)\n",
            "Requirement already satisfied: ipykernel in /usr/local/lib/python3.10/dist-packages (from jupyter->tile2net==0.3.0) (5.5.6)\n",
            "Requirement already satisfied: ipywidgets in /usr/local/lib/python3.10/dist-packages (from jupyter->tile2net==0.3.0) (7.7.1)\n",
            "Requirement already satisfied: contourpy>=1.0.1 in /usr/local/lib/python3.10/dist-packages (from matplotlib->tile2net==0.3.0) (1.2.0)\n",
            "Requirement already satisfied: cycler>=0.10 in /usr/local/lib/python3.10/dist-packages (from matplotlib->tile2net==0.3.0) (0.12.1)\n",
            "Requirement already satisfied: fonttools>=4.22.0 in /usr/local/lib/python3.10/dist-packages (from matplotlib->tile2net==0.3.0) (4.46.0)\n",
            "Requirement already satisfied: kiwisolver>=1.0.1 in /usr/local/lib/python3.10/dist-packages (from matplotlib->tile2net==0.3.0) (1.4.5)\n",
            "Requirement already satisfied: pyparsing>=2.3.1 in /usr/local/lib/python3.10/dist-packages (from matplotlib->tile2net==0.3.0) (3.1.1)\n",
            "Requirement already satisfied: python-dateutil>=2.7 in /usr/local/lib/python3.10/dist-packages (from matplotlib->tile2net==0.3.0) (2.8.2)\n",
            "Collecting libpysal>=4.6.0 (from momepy->tile2net==0.3.0)\n",
            "  Downloading libpysal-4.9.2-py3-none-any.whl (2.8 MB)\n",
            "\u001b[2K     \u001b[90m━━━━━━━━━━━━━━━━━━━━━━━━━━━━━━━━━━━━━━━━\u001b[0m \u001b[32m2.8/2.8 MB\u001b[0m \u001b[31m99.3 MB/s\u001b[0m eta \u001b[36m0:00:00\u001b[0m\n",
            "\u001b[?25hRequirement already satisfied: networkx>=2.7 in /usr/local/lib/python3.10/dist-packages (from momepy->tile2net==0.3.0) (3.2.1)\n",
            "Requirement already satisfied: llvmlite<0.42,>=0.41.0dev0 in /usr/local/lib/python3.10/dist-packages (from numba->tile2net==0.3.0) (0.41.1)\n",
            "Requirement already satisfied: certifi in /usr/local/lib/python3.10/dist-packages (from pyogrio->tile2net==0.3.0) (2023.11.17)\n",
            "Requirement already satisfied: iniconfig in /usr/local/lib/python3.10/dist-packages (from pytest->tile2net==0.3.0) (2.0.0)\n",
            "Requirement already satisfied: pluggy<2.0,>=0.12 in /usr/local/lib/python3.10/dist-packages (from pytest->tile2net==0.3.0) (1.3.0)\n",
            "Requirement already satisfied: exceptiongroup>=1.0.0rc8 in /usr/local/lib/python3.10/dist-packages (from pytest->tile2net==0.3.0) (1.2.0)\n",
            "Requirement already satisfied: tomli>=1.0.0 in /usr/local/lib/python3.10/dist-packages (from pytest->tile2net==0.3.0) (2.0.1)\n",
            "Collecting affine (from rasterio->tile2net==0.3.0)\n",
            "  Downloading affine-2.4.0-py3-none-any.whl (15 kB)\n",
            "Requirement already satisfied: attrs in /usr/local/lib/python3.10/dist-packages (from rasterio->tile2net==0.3.0) (23.1.0)\n",
            "Requirement already satisfied: cligj>=0.5 in /usr/local/lib/python3.10/dist-packages (from rasterio->tile2net==0.3.0) (0.7.2)\n",
            "Collecting snuggs>=1.4.1 (from rasterio->tile2net==0.3.0)\n",
            "  Downloading snuggs-1.4.7-py3-none-any.whl (5.4 kB)\n",
            "Requirement already satisfied: click-plugins in /usr/local/lib/python3.10/dist-packages (from rasterio->tile2net==0.3.0) (1.1.1)\n",
            "Requirement already satisfied: setuptools in /usr/local/lib/python3.10/dist-packages (from rasterio->tile2net==0.3.0) (67.7.2)\n",
            "Requirement already satisfied: pyyaml>=5.1.1 in /usr/local/lib/python3.10/dist-packages (from runx->tile2net==0.3.0) (6.0.1)\n",
            "Requirement already satisfied: protobuf>=3.20 in /usr/local/lib/python3.10/dist-packages (from tensorboardx->tile2net==0.3.0) (3.20.3)\n",
            "Requirement already satisfied: tifffile>=2019.7.26 in /usr/local/lib/python3.10/dist-packages (from scikit-image->tile2net==0.3.0) (2023.9.26)\n",
            "Requirement already satisfied: PyWavelets>=1.1.1 in /usr/local/lib/python3.10/dist-packages (from scikit-image->tile2net==0.3.0) (1.5.0)\n",
            "Requirement already satisfied: joblib>=1.1.1 in /usr/local/lib/python3.10/dist-packages (from scikit-learn->tile2net==0.3.0) (1.3.2)\n",
            "Requirement already satisfied: threadpoolctl>=2.0.0 in /usr/local/lib/python3.10/dist-packages (from scikit-learn->tile2net==0.3.0) (3.2.0)\n",
            "Requirement already satisfied: sphinxcontrib-applehelp in /usr/local/lib/python3.10/dist-packages (from sphinx->tile2net==0.3.0) (1.0.7)\n",
            "Requirement already satisfied: sphinxcontrib-devhelp in /usr/local/lib/python3.10/dist-packages (from sphinx->tile2net==0.3.0) (1.0.5)\n",
            "Requirement already satisfied: sphinxcontrib-jsmath in /usr/local/lib/python3.10/dist-packages (from sphinx->tile2net==0.3.0) (1.0.1)\n",
            "Requirement already satisfied: sphinxcontrib-htmlhelp>=2.0.0 in /usr/local/lib/python3.10/dist-packages (from sphinx->tile2net==0.3.0) (2.0.4)\n",
            "Requirement already satisfied: sphinxcontrib-serializinghtml>=1.1.5 in /usr/local/lib/python3.10/dist-packages (from sphinx->tile2net==0.3.0) (1.1.9)\n",
            "Requirement already satisfied: sphinxcontrib-qthelp in /usr/local/lib/python3.10/dist-packages (from sphinx->tile2net==0.3.0) (1.0.6)\n",
            "Requirement already satisfied: Jinja2>=2.3 in /usr/local/lib/python3.10/dist-packages (from sphinx->tile2net==0.3.0) (3.1.2)\n",
            "Requirement already satisfied: Pygments>=2.0 in /usr/local/lib/python3.10/dist-packages (from sphinx->tile2net==0.3.0) (2.16.1)\n",
            "Requirement already satisfied: docutils<0.19,>=0.14 in /usr/local/lib/python3.10/dist-packages (from sphinx->tile2net==0.3.0) (0.18.1)\n",
            "Requirement already satisfied: snowballstemmer>=1.1 in /usr/local/lib/python3.10/dist-packages (from sphinx->tile2net==0.3.0) (2.2.0)\n",
            "Requirement already satisfied: babel>=1.3 in /usr/local/lib/python3.10/dist-packages (from sphinx->tile2net==0.3.0) (2.13.1)\n",
            "Requirement already satisfied: alabaster<0.8,>=0.7 in /usr/local/lib/python3.10/dist-packages (from sphinx->tile2net==0.3.0) (0.7.13)\n",
            "Requirement already satisfied: imagesize in /usr/local/lib/python3.10/dist-packages (from sphinx->tile2net==0.3.0) (1.4.1)\n",
            "Requirement already satisfied: typing-extensions in /usr/local/lib/python3.10/dist-packages (from torch->tile2net==0.3.0) (4.5.0)\n",
            "Requirement already satisfied: sympy in /usr/local/lib/python3.10/dist-packages (from torch->tile2net==0.3.0) (1.12)\n",
            "Requirement already satisfied: fsspec in /usr/local/lib/python3.10/dist-packages (from torch->tile2net==0.3.0) (2023.6.0)\n",
            "Requirement already satisfied: triton==2.1.0 in /usr/local/lib/python3.10/dist-packages (from torch->tile2net==0.3.0) (2.1.0)\n",
            "Requirement already satisfied: MarkupSafe>=2.0 in /usr/local/lib/python3.10/dist-packages (from Jinja2>=2.3->sphinx->tile2net==0.3.0) (2.1.3)\n",
            "Requirement already satisfied: platformdirs>=2.0.2 in /usr/local/lib/python3.10/dist-packages (from libpysal>=4.6.0->momepy->tile2net==0.3.0) (4.1.0)\n",
            "Requirement already satisfied: soupsieve>1.2 in /usr/local/lib/python3.10/dist-packages (from beautifulsoup4->gdown->tile2net==0.3.0) (2.5)\n",
            "Requirement already satisfied: pytz>=2020.1 in /usr/local/lib/python3.10/dist-packages (from pandas>=1.1.0->geopandas->tile2net==0.3.0) (2023.3.post1)\n",
            "Requirement already satisfied: charset-normalizer<4,>=2 in /usr/local/lib/python3.10/dist-packages (from requests[socks]->gdown->tile2net==0.3.0) (3.3.2)\n",
            "Requirement already satisfied: idna<4,>=2.5 in /usr/local/lib/python3.10/dist-packages (from requests[socks]->gdown->tile2net==0.3.0) (3.6)\n",
            "Requirement already satisfied: urllib3<3,>=1.21.1 in /usr/local/lib/python3.10/dist-packages (from requests[socks]->gdown->tile2net==0.3.0) (2.0.7)\n",
            "Requirement already satisfied: ipython-genutils in /usr/local/lib/python3.10/dist-packages (from ipykernel->jupyter->tile2net==0.3.0) (0.2.0)\n",
            "Requirement already satisfied: ipython>=5.0.0 in /usr/local/lib/python3.10/dist-packages (from ipykernel->jupyter->tile2net==0.3.0) (7.34.0)\n",
            "Requirement already satisfied: traitlets>=4.1.0 in /usr/local/lib/python3.10/dist-packages (from ipykernel->jupyter->tile2net==0.3.0) (5.7.1)\n",
            "Requirement already satisfied: jupyter-client in /usr/local/lib/python3.10/dist-packages (from ipykernel->jupyter->tile2net==0.3.0) (6.1.12)\n",
            "Requirement already satisfied: tornado>=4.2 in /usr/local/lib/python3.10/dist-packages (from ipykernel->jupyter->tile2net==0.3.0) (6.3.2)\n",
            "Requirement already satisfied: widgetsnbextension~=3.6.0 in /usr/local/lib/python3.10/dist-packages (from ipywidgets->jupyter->tile2net==0.3.0) (3.6.6)\n",
            "Requirement already satisfied: jupyterlab-widgets>=1.0.0 in /usr/local/lib/python3.10/dist-packages (from ipywidgets->jupyter->tile2net==0.3.0) (3.0.9)\n",
            "Requirement already satisfied: prompt-toolkit!=3.0.0,!=3.0.1,<3.1.0,>=2.0.0 in /usr/local/lib/python3.10/dist-packages (from jupyter-console->jupyter->tile2net==0.3.0) (3.0.41)\n",
            "Requirement already satisfied: lxml in /usr/local/lib/python3.10/dist-packages (from nbconvert->jupyter->tile2net==0.3.0) (4.9.3)\n",
            "Requirement already satisfied: bleach in /usr/local/lib/python3.10/dist-packages (from nbconvert->jupyter->tile2net==0.3.0) (6.1.0)\n",
            "Requirement already satisfied: defusedxml in /usr/local/lib/python3.10/dist-packages (from nbconvert->jupyter->tile2net==0.3.0) (0.7.1)\n",
            "Requirement already satisfied: entrypoints>=0.2.2 in /usr/local/lib/python3.10/dist-packages (from nbconvert->jupyter->tile2net==0.3.0) (0.4)\n",
            "Requirement already satisfied: jupyter-core>=4.7 in /usr/local/lib/python3.10/dist-packages (from nbconvert->jupyter->tile2net==0.3.0) (5.5.0)\n",
            "Requirement already satisfied: jupyterlab-pygments in /usr/local/lib/python3.10/dist-packages (from nbconvert->jupyter->tile2net==0.3.0) (0.3.0)\n",
            "Requirement already satisfied: mistune<2,>=0.8.1 in /usr/local/lib/python3.10/dist-packages (from nbconvert->jupyter->tile2net==0.3.0) (0.8.4)\n",
            "Requirement already satisfied: nbclient>=0.5.0 in /usr/local/lib/python3.10/dist-packages (from nbconvert->jupyter->tile2net==0.3.0) (0.9.0)\n",
            "Requirement already satisfied: nbformat>=5.1 in /usr/local/lib/python3.10/dist-packages (from nbconvert->jupyter->tile2net==0.3.0) (5.9.2)\n",
            "Requirement already satisfied: pandocfilters>=1.4.1 in /usr/local/lib/python3.10/dist-packages (from nbconvert->jupyter->tile2net==0.3.0) (1.5.0)\n",
            "Requirement already satisfied: tinycss2 in /usr/local/lib/python3.10/dist-packages (from nbconvert->jupyter->tile2net==0.3.0) (1.2.1)\n",
            "Requirement already satisfied: pyzmq<25,>=17 in /usr/local/lib/python3.10/dist-packages (from notebook->jupyter->tile2net==0.3.0) (23.2.1)\n",
            "Requirement already satisfied: argon2-cffi in /usr/local/lib/python3.10/dist-packages (from notebook->jupyter->tile2net==0.3.0) (23.1.0)\n",
            "Requirement already satisfied: nest-asyncio>=1.5 in /usr/local/lib/python3.10/dist-packages (from notebook->jupyter->tile2net==0.3.0) (1.5.8)\n",
            "Requirement already satisfied: Send2Trash>=1.8.0 in /usr/local/lib/python3.10/dist-packages (from notebook->jupyter->tile2net==0.3.0) (1.8.2)\n",
            "Requirement already satisfied: terminado>=0.8.3 in /usr/local/lib/python3.10/dist-packages (from notebook->jupyter->tile2net==0.3.0) (0.18.0)\n",
            "Requirement already satisfied: prometheus-client in /usr/local/lib/python3.10/dist-packages (from notebook->jupyter->tile2net==0.3.0) (0.19.0)\n",
            "Requirement already satisfied: nbclassic>=0.4.7 in /usr/local/lib/python3.10/dist-packages (from notebook->jupyter->tile2net==0.3.0) (1.0.0)\n",
            "Collecting qtpy>=2.4.0 (from qtconsole->jupyter->tile2net==0.3.0)\n",
            "  Downloading QtPy-2.4.1-py3-none-any.whl (93 kB)\n",
            "\u001b[2K     \u001b[90m━━━━━━━━━━━━━━━━━━━━━━━━━━━━━━━━━━━━━━━━\u001b[0m \u001b[32m93.5/93.5 kB\u001b[0m \u001b[31m12.0 MB/s\u001b[0m eta \u001b[36m0:00:00\u001b[0m\n",
            "\u001b[?25hRequirement already satisfied: PySocks!=1.5.7,>=1.5.6 in /usr/local/lib/python3.10/dist-packages (from requests[socks]->gdown->tile2net==0.3.0) (1.7.1)\n",
            "Requirement already satisfied: mpmath>=0.19 in /usr/local/lib/python3.10/dist-packages (from sympy->torch->tile2net==0.3.0) (1.3.0)\n",
            "Collecting jedi>=0.16 (from ipython>=5.0.0->ipykernel->jupyter->tile2net==0.3.0)\n",
            "  Downloading jedi-0.19.1-py2.py3-none-any.whl (1.6 MB)\n",
            "\u001b[2K     \u001b[90m━━━━━━━━━━━━━━━━━━━━━━━━━━━━━━━━━━━━━━━━\u001b[0m \u001b[32m1.6/1.6 MB\u001b[0m \u001b[31m66.1 MB/s\u001b[0m eta \u001b[36m0:00:00\u001b[0m\n",
            "\u001b[?25hRequirement already satisfied: decorator in /usr/local/lib/python3.10/dist-packages (from ipython>=5.0.0->ipykernel->jupyter->tile2net==0.3.0) (4.4.2)\n",
            "Requirement already satisfied: pickleshare in /usr/local/lib/python3.10/dist-packages (from ipython>=5.0.0->ipykernel->jupyter->tile2net==0.3.0) (0.7.5)\n",
            "Requirement already satisfied: backcall in /usr/local/lib/python3.10/dist-packages (from ipython>=5.0.0->ipykernel->jupyter->tile2net==0.3.0) (0.2.0)\n",
            "Requirement already satisfied: matplotlib-inline in /usr/local/lib/python3.10/dist-packages (from ipython>=5.0.0->ipykernel->jupyter->tile2net==0.3.0) (0.1.6)\n",
            "Requirement already satisfied: pexpect>4.3 in /usr/local/lib/python3.10/dist-packages (from ipython>=5.0.0->ipykernel->jupyter->tile2net==0.3.0) (4.9.0)\n",
            "Requirement already satisfied: jupyter-server>=1.8 in /usr/local/lib/python3.10/dist-packages (from nbclassic>=0.4.7->notebook->jupyter->tile2net==0.3.0) (1.24.0)\n",
            "Requirement already satisfied: notebook-shim>=0.2.3 in /usr/local/lib/python3.10/dist-packages (from nbclassic>=0.4.7->notebook->jupyter->tile2net==0.3.0) (0.2.3)\n",
            "Requirement already satisfied: fastjsonschema in /usr/local/lib/python3.10/dist-packages (from nbformat>=5.1->nbconvert->jupyter->tile2net==0.3.0) (2.19.0)\n",
            "Requirement already satisfied: jsonschema>=2.6 in /usr/local/lib/python3.10/dist-packages (from nbformat>=5.1->nbconvert->jupyter->tile2net==0.3.0) (4.19.2)\n",
            "Requirement already satisfied: wcwidth in /usr/local/lib/python3.10/dist-packages (from prompt-toolkit!=3.0.0,!=3.0.1,<3.1.0,>=2.0.0->jupyter-console->jupyter->tile2net==0.3.0) (0.2.12)\n",
            "Requirement already satisfied: ptyprocess in /usr/local/lib/python3.10/dist-packages (from terminado>=0.8.3->notebook->jupyter->tile2net==0.3.0) (0.7.0)\n",
            "Requirement already satisfied: argon2-cffi-bindings in /usr/local/lib/python3.10/dist-packages (from argon2-cffi->notebook->jupyter->tile2net==0.3.0) (21.2.0)\n",
            "Requirement already satisfied: webencodings in /usr/local/lib/python3.10/dist-packages (from bleach->nbconvert->jupyter->tile2net==0.3.0) (0.5.1)\n",
            "Requirement already satisfied: parso<0.9.0,>=0.8.3 in /usr/local/lib/python3.10/dist-packages (from jedi>=0.16->ipython>=5.0.0->ipykernel->jupyter->tile2net==0.3.0) (0.8.3)\n",
            "Requirement already satisfied: jsonschema-specifications>=2023.03.6 in /usr/local/lib/python3.10/dist-packages (from jsonschema>=2.6->nbformat>=5.1->nbconvert->jupyter->tile2net==0.3.0) (2023.11.2)\n",
            "Requirement already satisfied: referencing>=0.28.4 in /usr/local/lib/python3.10/dist-packages (from jsonschema>=2.6->nbformat>=5.1->nbconvert->jupyter->tile2net==0.3.0) (0.31.1)\n",
            "Requirement already satisfied: rpds-py>=0.7.1 in /usr/local/lib/python3.10/dist-packages (from jsonschema>=2.6->nbformat>=5.1->nbconvert->jupyter->tile2net==0.3.0) (0.13.2)\n",
            "Requirement already satisfied: anyio<4,>=3.1.0 in /usr/local/lib/python3.10/dist-packages (from jupyter-server>=1.8->nbclassic>=0.4.7->notebook->jupyter->tile2net==0.3.0) (3.7.1)\n",
            "Requirement already satisfied: websocket-client in /usr/local/lib/python3.10/dist-packages (from jupyter-server>=1.8->nbclassic>=0.4.7->notebook->jupyter->tile2net==0.3.0) (1.7.0)\n",
            "Requirement already satisfied: cffi>=1.0.1 in /usr/local/lib/python3.10/dist-packages (from argon2-cffi-bindings->argon2-cffi->notebook->jupyter->tile2net==0.3.0) (1.16.0)\n",
            "Requirement already satisfied: sniffio>=1.1 in /usr/local/lib/python3.10/dist-packages (from anyio<4,>=3.1.0->jupyter-server>=1.8->nbclassic>=0.4.7->notebook->jupyter->tile2net==0.3.0) (1.3.0)\n",
            "Requirement already satisfied: pycparser in /usr/local/lib/python3.10/dist-packages (from cffi>=1.0.1->argon2-cffi-bindings->argon2-cffi->notebook->jupyter->tile2net==0.3.0) (2.21)\n",
            "Building wheels for collected packages: tile2net\n",
            "  Building editable for tile2net (pyproject.toml) ... \u001b[?25l\u001b[?25hdone\n",
            "  Created wheel for tile2net: filename=tile2net-0.3.0-0.editable-py3-none-any.whl size=7130 sha256=dea3e8969b58bd29336fd221974c7407a0f319ba369793f876d5d4fcff3e10ff\n",
            "  Stored in directory: /tmp/pip-ephem-wheel-cache-nezb13h3/wheels/a5/bd/75/79a9fbaad70a2644aa29bcc252739705b54fab92852d511c64\n",
            "Successfully built tile2net\n",
            "Installing collected packages: coolname, tensorboardx, snuggs, shapely, qtpy, pyogrio, jedi, argh, affine, runx, rasterio, centerline, qtconsole, osmnx, libpysal, momepy, jupyter, tile2net\n",
            "  Attempting uninstall: shapely\n",
            "    Found existing installation: shapely 2.0.2\n",
            "    Uninstalling shapely-2.0.2:\n",
            "      Successfully uninstalled shapely-2.0.2\n",
            "\u001b[31mERROR: pip's dependency resolver does not currently take into account all the packages that are installed. This behaviour is the source of the following dependency conflicts.\n",
            "lida 0.0.10 requires fastapi, which is not installed.\n",
            "lida 0.0.10 requires kaleido, which is not installed.\n",
            "lida 0.0.10 requires python-multipart, which is not installed.\n",
            "lida 0.0.10 requires uvicorn, which is not installed.\u001b[0m\u001b[31m\n",
            "\u001b[0mSuccessfully installed affine-2.4.0 argh-0.29.4 centerline-1.0.1 coolname-2.2.0 jedi-0.19.1 jupyter-1.0.0 libpysal-4.9.2 momepy-0.7.0 osmnx-1.8.0 pyogrio-0.7.2 qtconsole-5.5.1 qtpy-2.4.1 rasterio-1.3.9 runx-0.0.11 shapely-2.0.1 snuggs-1.4.7 tensorboardx-2.6.2.2 tile2net-0.3.0\n"
          ]
        }
      ],
      "source": [
        "# In Colab, the following two lines are unnecessary, but they are very important when working locally\n",
        "# !conda create --name testenv python==3.11\n",
        "# !conda activate testenv\n",
        "!python -m pip install -e ."
      ]
    },
    {
      "cell_type": "markdown",
      "metadata": {
        "id": "ixca0awruUTd"
      },
      "source": [
        "### Step 3: Start Generating a Network!\n",
        "\n",
        "You're pretty much done! All you need to do is call the following bash command. These are the most commonly used parts of each command:\n",
        "\n",
        "- generate\n",
        "    - *-l*: location bounding box, defined as a list of four coordinates `\"latitude_1, longitude_1, latitude_2, longitude_2\"`, where `latitude_1, longitude_1` represent the top left corner of the bounding box, and `latitude_2, longitude_2` represent the bottom right corner. Thic can also be an address, or a name of a well-known location.\n",
        "    - *-n*: name of your project, used in filepaths when generating files\n",
        "    - *-o*: output folder where the files will be generated. This can be anything you'd like, since the folders will be created dynamically in Colab. This is not strictly true if you are running this command locally on your computer.\n",
        "    - *-i* (optional): a string literal of the filepath to your tiles. E.g. \"path/to/tile/z/x/y.png\" or \"path/to/tile/x_y.png\". The tiles must be in xyz format, not in slippy format (.tiff files). This selects all the files in that directory using that format. You can find more details about Tile Image Format on the Data Preparation Guide.\n",
        "- inference\n",
        "    - *--city_info*: the filepath to the city-info json file created by the `generate` function\n",
        "\n",
        "You can call `!python -m tile2net generate --help` or `!python -m tile2net inference --help` for more details on the generate and inference functions, respectively.\n",
        "\n",
        "There are several ways you can use the command line arguments, depending on the context in which you are using the tool:\n",
        "\n",
        "#### Passing in a bounding box of latitude and longitude coordinates\n"
      ]
    },
    {
      "cell_type": "code",
      "execution_count": null,
      "metadata": {
        "colab": {
          "base_uri": "https://localhost:8080/"
        },
        "id": "i-GbQPHdxlCe",
        "outputId": "d01f7501-ce4e-4a79-b596-b3ccb5b96cc8"
      },
      "outputs": [
        {
          "name": "stdout",
          "output_type": "stream",
          "text": [
            "2023-12-13 20:20:41.817885: E tensorflow/compiler/xla/stream_executor/cuda/cuda_dnn.cc:9342] Unable to register cuDNN factory: Attempting to register factory for plugin cuDNN when one has already been registered\n",
            "2023-12-13 20:20:41.817949: E tensorflow/compiler/xla/stream_executor/cuda/cuda_fft.cc:609] Unable to register cuFFT factory: Attempting to register factory for plugin cuFFT when one has already been registered\n",
            "2023-12-13 20:20:41.818000: E tensorflow/compiler/xla/stream_executor/cuda/cuda_blas.cc:1518] Unable to register cuBLAS factory: Attempting to register factory for plugin cuBLAS when one has already been registered\n",
            "2023-12-13 20:20:41.830754: I tensorflow/core/platform/cpu_feature_guard.cc:182] This TensorFlow binary is optimized to use available CPU instructions in performance-critical operations.\n",
            "To enable the following instructions: AVX2 FMA, in other operations, rebuild TensorFlow with the appropriate compiler flags.\n",
            "2023-12-13 20:20:41.831286: E tensorflow/compiler/xla/stream_executor/cuda/cuda_dnn.cc:9342] Unable to register cuDNN factory: Attempting to register factory for plugin cuDNN when one has already been registered\n",
            "2023-12-13 20:20:41.831326: E tensorflow/compiler/xla/stream_executor/cuda/cuda_fft.cc:609] Unable to register cuFFT factory: Attempting to register factory for plugin cuFFT when one has already been registered\n",
            "2023-12-13 20:20:41.831367: E tensorflow/compiler/xla/stream_executor/cuda/cuda_blas.cc:1518] Unable to register cuBLAS factory: Attempting to register factory for plugin cuBLAS when one has already been registered\n",
            "2023-12-13 20:20:41.842447: I tensorflow/core/platform/cpu_feature_guard.cc:182] This TensorFlow binary is optimized to use available CPU instructions in performance-critical operations.\n",
            "To enable the following instructions: AVX2 FMA, in other operations, rebuild TensorFlow with the appropriate compiler flags.\n",
            "2023-12-13 20:20:43.654049: W tensorflow/compiler/tf2tensorrt/utils/py_utils.cc:38] TF-TRT Warning: Could not find TensorRT\n",
            "2023-12-13 20:20:43.678728: W tensorflow/compiler/tf2tensorrt/utils/py_utils.cc:38] TF-TRT Warning: Could not find TensorRT\n",
            "INFO       Geocoding [42.3536483721, -71.0716891532, 42.3555518995, -71.0643742337], this may take awhile...\n",
            "INFO       Using Massachusetts as the source at location=[42.3536483721, -71.0716891532, 42.3555518995, -71.0643742337]\n",
            "INFO       Using base_tilesize=256 from source\n",
            "INFO       Stitching Tiles...\n",
            "           Checking 96 files...                   : 100% 96/96 [00:00<00:00, 6266.78it/s]\n",
            "           Downloading 96 tiles...                : 100% 96/96 [00:00<00:00, 108.44it/s]\n",
            "INFO       All 96 tiles are on disk.\n",
            "           Stitching 6 tiles...                   : 100% 6/6 [00:01<00:00,  3.84it/s]\n",
            "INFO       Dumping to content/output/example/tiles/example_256_info.json\n",
            "INFO       Inferencing. Segmentation results will not be saved.\n",
            "INFO       Downloading weights for segmentation, this may take a while...\n",
            "INFO       Weights downloaded.\n",
            "Using regular batch norm\n",
            "ignore_label = -1\n",
            "num_classes = 4\n",
            "Found 6 folder imgs\n",
            "all imgs 6\n",
            "Using Per Image based weighted loss\n",
            "Using Cross Entropy Loss\n",
            "Loading weights from: checkpoint=/content/tile2net/src/tile2net/raster/resources/assets/weights/satellite_2021.pth\n",
            "=> init weights from normal distribution\n",
            "=> loading pretrained model /content/tile2net/src/tile2net/raster/resources/assets/weights/hrnetv2_w48_imagenet_pretrained.pth\n",
            "Trunk: hrnetv2\n",
            "Model params = 72.1M\n",
            "INFO       Using base_tilesize=256 from source\n",
            "Inference [Iter: 1 / 6]\n",
            "INFO       Polygons are generated and saved!\n",
            "INFO       Starting network creation...\n",
            "100% 32/32 [00:00<00:00, 3194.06it/s]\n",
            "100% 32/32 [00:00<00:00, 1845.15it/s]\n",
            "INFO       ..... creating the processed sidewalk network\n",
            "100% 14/14 [00:00<00:00, 4946.11it/s]\n",
            "100% 14/14 [00:00<00:00, 4074.12it/s]\n"
          ]
        }
      ],
      "source": [
        "!python -m tile2net generate -l \"42.35555189953313, -71.07168915322092, 42.35364837213307, -71.06437423368418\" -n example -o \"content/output\"  | python -m tile2net inference"
      ]
    },
    {
      "cell_type": "markdown",
      "metadata": {
        "id": "6uOfAfZb2BsR"
      },
      "source": [
        "Or you can use the expanded names for each parameter!"
      ]
    },
    {
      "cell_type": "code",
      "execution_count": null,
      "metadata": {
        "colab": {
          "base_uri": "https://localhost:8080/"
        },
        "id": "m6I3rlmX1Lqu",
        "outputId": "ad55a36d-cf5c-4065-8cfe-eb1229c00813"
      },
      "outputs": [
        {
          "name": "stdout",
          "output_type": "stream",
          "text": [
            "2023-12-13 20:39:16.876294: E tensorflow/compiler/xla/stream_executor/cuda/cuda_dnn.cc:9342] Unable to register cuDNN factory: Attempting to register factory for plugin cuDNN when one has already been registered\n",
            "2023-12-13 20:39:16.876378: E tensorflow/compiler/xla/stream_executor/cuda/cuda_fft.cc:609] Unable to register cuFFT factory: Attempting to register factory for plugin cuFFT when one has already been registered\n",
            "2023-12-13 20:39:16.876428: E tensorflow/compiler/xla/stream_executor/cuda/cuda_blas.cc:1518] Unable to register cuBLAS factory: Attempting to register factory for plugin cuBLAS when one has already been registered\n",
            "2023-12-13 20:39:16.891174: I tensorflow/core/platform/cpu_feature_guard.cc:182] This TensorFlow binary is optimized to use available CPU instructions in performance-critical operations.\n",
            "To enable the following instructions: AVX2 AVX512F FMA, in other operations, rebuild TensorFlow with the appropriate compiler flags.\n",
            "2023-12-13 20:39:17.139054: E tensorflow/compiler/xla/stream_executor/cuda/cuda_dnn.cc:9342] Unable to register cuDNN factory: Attempting to register factory for plugin cuDNN when one has already been registered\n",
            "2023-12-13 20:39:17.139123: E tensorflow/compiler/xla/stream_executor/cuda/cuda_fft.cc:609] Unable to register cuFFT factory: Attempting to register factory for plugin cuFFT when one has already been registered\n",
            "2023-12-13 20:39:17.139171: E tensorflow/compiler/xla/stream_executor/cuda/cuda_blas.cc:1518] Unable to register cuBLAS factory: Attempting to register factory for plugin cuBLAS when one has already been registered\n",
            "2023-12-13 20:39:17.150916: I tensorflow/core/platform/cpu_feature_guard.cc:182] This TensorFlow binary is optimized to use available CPU instructions in performance-critical operations.\n",
            "To enable the following instructions: AVX2 AVX512F FMA, in other operations, rebuild TensorFlow with the appropriate compiler flags.\n",
            "2023-12-13 20:39:18.771594: W tensorflow/compiler/tf2tensorrt/utils/py_utils.cc:38] TF-TRT Warning: Could not find TensorRT\n",
            "2023-12-13 20:39:19.021768: W tensorflow/compiler/tf2tensorrt/utils/py_utils.cc:38] TF-TRT Warning: Could not find TensorRT\n",
            "INFO       Geocoding Boston Common, this may take awhile...\n",
            "INFO       Geocoded 'Boston Common' to\n",
            "\t'Boston Common, Beacon Hill, Boston, Suffolk County, Massachusetts, United States'\n",
            "INFO       Geocoding [42.3524608, -71.069224, 42.3576063, -71.0621238], this may take awhile...\n",
            "INFO       Using Massachusetts as the source at location=[42.3524608, -71.069224, 42.3576063, -71.0621238]\n",
            "INFO       Using base_tilesize=256 from source\n",
            "INFO       Stitching Tiles...\n",
            "           Checking 144 files...                  : 100% 144/144 [00:00<00:00, 11490.37it/s]\n",
            "           Downloading 144 tiles...               : 100% 144/144 [00:01<00:00, 86.91it/s] \n",
            "INFO       All 144 tiles are on disk.\n",
            "           Stitching 9 tiles...                   : 100% 9/9 [00:03<00:00,  2.99it/s]\n",
            "INFO       Dumping to content/output2/example/tiles/example_256_info.json\n",
            "INFO       Inferencing. Segmentation results will not be saved.\n",
            "Using regular batch norm\n",
            "ignore_label = -1\n",
            "num_classes = 4\n",
            "Found 9 folder imgs\n",
            "all imgs 9\n",
            "Using Per Image based weighted loss\n",
            "Using Cross Entropy Loss\n",
            "Loading weights from: checkpoint=/content/tile2net/src/tile2net/raster/resources/assets/weights/satellite_2021.pth\n",
            "=> init weights from normal distribution\n",
            "=> loading pretrained model /content/tile2net/src/tile2net/raster/resources/assets/weights/hrnetv2_w48_imagenet_pretrained.pth\n",
            "Trunk: hrnetv2\n",
            "Model params = 72.1M\n",
            "INFO       Using base_tilesize=256 from source\n",
            "Inference [Iter: 1 / 9]\n",
            "INFO       Polygons are generated and saved!\n",
            "INFO       Starting network creation...\n",
            "100% 69/69 [00:00<00:00, 1859.30it/s]\n",
            "100% 69/69 [00:00<00:00, 1058.92it/s]\n"
          ]
        }
      ],
      "source": [
        "!python -m tile2net generate --location \"Boston Common\" --name example --output \"content/output2\"  | python -m tile2net inference"
      ]
    },
    {
      "cell_type": "markdown",
      "metadata": {
        "id": "szWhNVlH2LIk"
      },
      "source": [
        "#### Passing in an address"
      ]
    },
    {
      "cell_type": "code",
      "execution_count": null,
      "metadata": {
        "colab": {
          "base_uri": "https://localhost:8080/"
        },
        "id": "BxVENZKr2Tl3",
        "outputId": "b8418f90-c411-43c3-8cc5-36ab2ac07e64"
      },
      "outputs": [
        {
          "name": "stdout",
          "output_type": "stream",
          "text": [
            "2023-12-13 20:29:48.400526: E tensorflow/compiler/xla/stream_executor/cuda/cuda_dnn.cc:9342] Unable to register cuDNN factory: Attempting to register factory for plugin cuDNN when one has already been registered\n",
            "2023-12-13 20:29:48.400588: E tensorflow/compiler/xla/stream_executor/cuda/cuda_fft.cc:609] Unable to register cuFFT factory: Attempting to register factory for plugin cuFFT when one has already been registered\n",
            "2023-12-13 20:29:48.400637: E tensorflow/compiler/xla/stream_executor/cuda/cuda_blas.cc:1518] Unable to register cuBLAS factory: Attempting to register factory for plugin cuBLAS when one has already been registered\n",
            "2023-12-13 20:29:48.421273: E tensorflow/compiler/xla/stream_executor/cuda/cuda_dnn.cc:9342] Unable to register cuDNN factory: Attempting to register factory for plugin cuDNN when one has already been registered\n",
            "2023-12-13 20:29:48.421327: E tensorflow/compiler/xla/stream_executor/cuda/cuda_fft.cc:609] Unable to register cuFFT factory: Attempting to register factory for plugin cuFFT when one has already been registered\n",
            "2023-12-13 20:29:48.421368: E tensorflow/compiler/xla/stream_executor/cuda/cuda_blas.cc:1518] Unable to register cuBLAS factory: Attempting to register factory for plugin cuBLAS when one has already been registered\n",
            "2023-12-13 20:29:48.424530: I tensorflow/core/platform/cpu_feature_guard.cc:182] This TensorFlow binary is optimized to use available CPU instructions in performance-critical operations.\n",
            "To enable the following instructions: AVX2 FMA, in other operations, rebuild TensorFlow with the appropriate compiler flags.\n",
            "2023-12-13 20:29:48.432654: I tensorflow/core/platform/cpu_feature_guard.cc:182] This TensorFlow binary is optimized to use available CPU instructions in performance-critical operations.\n",
            "To enable the following instructions: AVX2 FMA, in other operations, rebuild TensorFlow with the appropriate compiler flags.\n",
            "2023-12-13 20:29:51.390321: W tensorflow/compiler/tf2tensorrt/utils/py_utils.cc:38] TF-TRT Warning: Could not find TensorRT\n",
            "2023-12-13 20:29:51.468601: W tensorflow/compiler/tf2tensorrt/utils/py_utils.cc:38] TF-TRT Warning: Could not find TensorRT\n",
            "INFO       Geocoding 77 Massachusetts Ave, Cambridge MA, 02139, USA, this may take awhile...\n",
            "INFO       Geocoded '77 Massachusetts Ave, Cambridge MA, 02139, USA' to\n",
            "\t'77 Massachusetts Ave, Massachusetts Avenue, The Port, Cambridgeport, Cambridge, Middlesex County, Massachusetts, 02238, United States'\n",
            "INFO       Geocoding [42.3592183, -71.093671, 42.3593183, -71.093571], this may take awhile...\n",
            "INFO       Using Massachusetts as the source at location=[42.3592183, -71.093671, 42.3593183, -71.093571]\n",
            "INFO       Using base_tilesize=256 from source\n",
            "INFO       Stitching Tiles...\n",
            "           Checking 16 files...                   : 100% 16/16 [00:00<00:00, 1809.40it/s]\n",
            "           Downloading 16 tiles...                : 100% 16/16 [00:01<00:00, 12.26it/s]\n",
            "INFO       All 16 tiles are on disk.\n",
            "           Stitching 1 tiles...                   : 100% 1/1 [00:00<00:00, 18.41it/s]\n",
            "INFO       Dumping to content/output3/example/tiles/example_256_info.json\n",
            "INFO       Inferencing. Segmentation results will not be saved.\n",
            "Using regular batch norm\n",
            "ignore_label = -1\n",
            "num_classes = 4\n",
            "Found 1 folder imgs\n",
            "all imgs 1\n",
            "Using Per Image based weighted loss\n",
            "Using Cross Entropy Loss\n",
            "Loading weights from: checkpoint=/content/tile2net/src/tile2net/raster/resources/assets/weights/satellite_2021.pth\n",
            "=> init weights from normal distribution\n",
            "=> loading pretrained model /content/tile2net/src/tile2net/raster/resources/assets/weights/hrnetv2_w48_imagenet_pretrained.pth\n",
            "Trunk: hrnetv2\n",
            "Model params = 72.1M\n",
            "INFO       Using base_tilesize=256 from source\n",
            "Inference [Iter: 1 / 1]\n",
            "INFO       Polygons are generated and saved!\n",
            "INFO       Starting network creation...\n",
            "100% 14/14 [00:00<00:00, 3295.93it/s]\n",
            "100% 14/14 [00:00<00:00, 2015.87it/s]\n",
            "INFO       ..... creating the processed sidewalk network\n",
            "100% 5/5 [00:00<00:00, 6647.07it/s]\n",
            "100% 5/5 [00:00<00:00, 3917.71it/s]\n"
          ]
        }
      ],
      "source": [
        "!python -m tile2net generate -l \"77 Massachusetts Ave, Cambridge MA, 02139, USA\" -n example -o \"content/output3\"  | python -m tile2net inference"
      ]
    },
    {
      "cell_type": "markdown",
      "metadata": {
        "id": "3ObqJ03-2M5W"
      },
      "source": [
        "#### Custom tiles\n",
        "\n",
        "If the region you have doesn't already exist in the tool, use the *-i* argument to add the filepath to your tiles, and pass in *-z* declaring the zoom level. On Colab, this file path could be acquired through mounting your google drive, or manually uploading the files each session.\n",
        "\n",
        "the `location` argument is still necessary when using your own data, to establish which region within the tiles to process."
      ]
    },
    {
      "cell_type": "code",
      "execution_count": 21,
      "metadata": {
        "id": "d10fBhzo4fyn"
      },
      "outputs": [],
      "source": [
        "# !python -m tile2net generate -l \"\" -i \"path/to/tile/z/x/y.png\" -z 19 -n example -o \"content/output4\"  | python -m tile2net inference"
      ]
    },
    {
      "cell_type": "markdown",
      "metadata": {
        "id": "J4k4xOH5-XVE"
      },
      "source": [
        "#### Separating stitched tile generation and inference of pedestrian networks"
      ]
    },
    {
      "cell_type": "code",
      "execution_count": null,
      "metadata": {
        "colab": {
          "base_uri": "https://localhost:8080/"
        },
        "id": "RGwnxQ3M-TQM",
        "outputId": "9df68b4e-ca52-46b0-fe92-b5f7e893728a"
      },
      "outputs": [
        {
          "name": "stdout",
          "output_type": "stream",
          "text": [
            "2023-12-13 21:01:43.028652: E tensorflow/compiler/xla/stream_executor/cuda/cuda_dnn.cc:9342] Unable to register cuDNN factory: Attempting to register factory for plugin cuDNN when one has already been registered\n",
            "2023-12-13 21:01:43.028711: E tensorflow/compiler/xla/stream_executor/cuda/cuda_fft.cc:609] Unable to register cuFFT factory: Attempting to register factory for plugin cuFFT when one has already been registered\n",
            "2023-12-13 21:01:43.028755: E tensorflow/compiler/xla/stream_executor/cuda/cuda_blas.cc:1518] Unable to register cuBLAS factory: Attempting to register factory for plugin cuBLAS when one has already been registered\n",
            "2023-12-13 21:01:43.037631: I tensorflow/core/platform/cpu_feature_guard.cc:182] This TensorFlow binary is optimized to use available CPU instructions in performance-critical operations.\n",
            "To enable the following instructions: AVX2 FMA, in other operations, rebuild TensorFlow with the appropriate compiler flags.\n",
            "2023-12-13 21:01:44.213883: W tensorflow/compiler/tf2tensorrt/utils/py_utils.cc:38] TF-TRT Warning: Could not find TensorRT\n",
            "INFO       Geocoding 77 Massachusetts Ave, Cambridge MA, 02139, USA, this may take awhile...\n",
            "INFO       Geocoded '77 Massachusetts Ave, Cambridge MA, 02139, USA' to\n",
            "\t'77 Massachusetts Ave, Massachusetts Avenue, The Port, Cambridgeport, Cambridge, Middlesex County, Massachusetts, 02238, United States'\n",
            "INFO       Geocoding [42.3592183, -71.093671, 42.3593183, -71.093571], this may take awhile...\n",
            "INFO       Using Massachusetts as the source at location=[42.3592183, -71.093671, 42.3593183, -71.093571]\n",
            "INFO       Using base_tilesize=256 from source\n",
            "INFO       Stitching Tiles...\n",
            "           Checking 16 files...                   : 100% 16/16 [00:00<00:00, 1893.75it/s]\n",
            "           Downloading 16 tiles...                : 100% 16/16 [00:00<00:00, 31.16it/s]\n",
            "INFO       All 16 tiles are on disk.\n",
            "           Stitching 1 tiles...                   : 100% 1/1 [00:00<00:00, 19.70it/s]\n",
            "INFO       Dumping to content/output5/example/tiles/example_256_info.json\n",
            "{\n",
            "    \"config\": \"/content/tile2net/src/tile2net/tileseg/config.py\",\n",
            "    \"assets\": {\n",
            "        \"weights\": {\n",
            "            \"satellite_2021\": \"/content/tile2net/src/tile2net/raster/resources/assets/weights/satellite_2021.pth\",\n",
            "            \"hrnetv2_w48_imagenet_pretrained\": \"/content/tile2net/src/tile2net/raster/resources/assets/weights/hrnetv2_w48_imagenet_pretrained.pth\"\n",
            "        }\n",
            "    },\n",
            "    \"tiles\": {\n",
            "        \"info\": \"content/output5/example/tiles/example_256_info.json\",\n",
            "        \"static\": \"content/output5/example/tiles/static/ma/256_19\",\n",
            "        \"stitched\": \"content/output5/example/tiles/stitched/256_19_4\"\n",
            "    },\n",
            "    \"polygons\": \"content/output5/example/polygons\",\n",
            "    \"network\": \"content/output5/example/network\",\n",
            "    \"segmentation\": \"content/output5/example/segmentation\",\n",
            "    \"name\": \"example\"\n",
            "}2023-12-13 21:01:57.201422: E tensorflow/compiler/xla/stream_executor/cuda/cuda_dnn.cc:9342] Unable to register cuDNN factory: Attempting to register factory for plugin cuDNN when one has already been registered\n",
            "2023-12-13 21:01:57.201481: E tensorflow/compiler/xla/stream_executor/cuda/cuda_fft.cc:609] Unable to register cuFFT factory: Attempting to register factory for plugin cuFFT when one has already been registered\n",
            "2023-12-13 21:01:57.201523: E tensorflow/compiler/xla/stream_executor/cuda/cuda_blas.cc:1518] Unable to register cuBLAS factory: Attempting to register factory for plugin cuBLAS when one has already been registered\n",
            "2023-12-13 21:01:57.209743: I tensorflow/core/platform/cpu_feature_guard.cc:182] This TensorFlow binary is optimized to use available CPU instructions in performance-critical operations.\n",
            "To enable the following instructions: AVX2 FMA, in other operations, rebuild TensorFlow with the appropriate compiler flags.\n",
            "2023-12-13 21:01:58.421599: W tensorflow/compiler/tf2tensorrt/utils/py_utils.cc:38] TF-TRT Warning: Could not find TensorRT\n",
            "INFO       Inferencing. Segmentation results will not be saved.\n",
            "Using regular batch norm\n",
            "ignore_label = -1\n",
            "num_classes = 4\n",
            "Found 1 folder imgs\n",
            "all imgs 1\n",
            "Using Per Image based weighted loss\n",
            "Using Cross Entropy Loss\n",
            "Loading weights from: checkpoint=/content/tile2net/src/tile2net/raster/resources/assets/weights/satellite_2021.pth\n",
            "=> init weights from normal distribution\n",
            "=> loading pretrained model /content/tile2net/src/tile2net/raster/resources/assets/weights/hrnetv2_w48_imagenet_pretrained.pth\n",
            "Trunk: hrnetv2\n",
            "Model params = 72.1M\n",
            "INFO       Using base_tilesize=256 from source\n",
            "Inference [Iter: 1 / 1]\n",
            "INFO       Polygons are generated and saved!\n",
            "INFO       Starting network creation...\n",
            "100% 14/14 [00:00<00:00, 3497.34it/s]\n",
            "100% 14/14 [00:00<00:00, 2139.41it/s]\n",
            "INFO       ..... creating the processed sidewalk network\n",
            "100% 5/5 [00:00<00:00, 6983.52it/s]\n",
            "100% 5/5 [00:00<00:00, 5009.92it/s]\n"
          ]
        }
      ],
      "source": [
        "!python -m tile2net generate -l \"77 Massachusetts Ave, Cambridge MA, 02139, USA\" -n example -o \"content/output5\"\n",
        "!python -m tile2net inference --city_info \"content/output5/example/tiles/example_256_info.json\""
      ]
    },
    {
      "cell_type": "markdown",
      "metadata": {
        "id": "6GUcBRndCUcW"
      },
      "source": [
        "### Step 4: Explore and Save Your Results\n",
        "\n",
        "Now that you've generated your stitched tiles and created your pedestrian network, it's time to explore!\n",
        "\n",
        "Given that your output directory is `output_dir`, you will see the following folders:\n",
        "\n",
        "- `output_dir/tiles/static`: the raw, unstitched orthorectified tiles used during segmentation\n",
        "- `output_dir/tiles/stitched`: the stitched tiles\n",
        "- `output_dir/segmentation/*`: metadata about the segmentation process used\n",
        "- `output_dir/polygons/*`: shapefiles of polygons created from the segmentation results\n",
        "- `output_dir/network/*`: the final pedestrian network shapefiles, ready to be visualized in any GIS software!\n",
        "\n",
        "In Colab, you can download these files using the `!zip` command:"
      ]
    },
    {
      "cell_type": "code",
      "execution_count": 20,
      "metadata": {
        "colab": {
          "base_uri": "https://localhost:8080/",
          "height": 1000
        },
        "id": "DqceEuCoFP5r",
        "outputId": "8ef569da-9f72-4e92-81e9-675f9750710e"
      },
      "outputs": [
        {
          "name": "stdout",
          "output_type": "stream",
          "text": [
            "[Errno 2] No such file or directory: 'content/output'\n",
            "/content/tile2net/content/output\n",
            "updating: example/ (stored 0%)\n",
            "updating: example/segmentation/ (stored 0%)\n",
            "updating: example/segmentation/hparams.json (deflated 77%)\n",
            "updating: example/segmentation/logging.log (deflated 42%)\n",
            "updating: example/segmentation/metrics.csv (deflated 4%)\n",
            "updating: example/segmentation/events.out.tfevents.1702498875.5db1fbfd31b3.1340.0 (deflated 9%)\n",
            "updating: example/polygons/ (stored 0%)\n",
            "updating: example/polygons/example-Polygons-13-12-2023_20/ (stored 0%)\n",
            "updating: example/polygons/example-Polygons-13-12-2023_20/example-Polygons-13-12-2023_20.dbf (deflated 98%)\n",
            "updating: example/polygons/example-Polygons-13-12-2023_20/example-Polygons-13-12-2023_20.cpg (stored 0%)\n",
            "updating: example/polygons/example-Polygons-13-12-2023_20/example-Polygons-13-12-2023_20.shp (deflated 53%)\n",
            "updating: example/polygons/example-Polygons-13-12-2023_20/example-Polygons-13-12-2023_20.shx (deflated 47%)\n",
            "updating: example/polygons/example-Polygons-13-12-2023_20/example-Polygons-13-12-2023_20.prj (deflated 17%)\n",
            "updating: example/structure.json (deflated 66%)\n",
            "updating: example/tiles/ (stored 0%)\n",
            "updating: example/tiles/static/ (stored 0%)\n",
            "updating: example/tiles/static/ma/ (stored 0%)\n",
            "updating: example/tiles/static/ma/256_19/ (stored 0%)\n",
            "updating: example/tiles/static/ma/256_19/158647_193927.png (deflated 2%)\n",
            "updating: example/tiles/static/ma/256_19/158646_193931.png (deflated 2%)\n",
            "updating: example/tiles/static/ma/256_19/158643_193929.png (deflated 1%)\n",
            "updating: example/tiles/static/ma/256_19/158638_193925.png (deflated 1%)\n",
            "updating: example/tiles/static/ma/256_19/158647_193932.png (deflated 1%)\n",
            "updating: example/tiles/static/ma/256_19/158649_193928.png (deflated 1%)\n",
            "updating: example/tiles/static/ma/256_19/158640_193928.png (deflated 2%)\n",
            "updating: example/tiles/static/ma/256_19/158644_193932.png (deflated 1%)\n",
            "updating: example/tiles/static/ma/256_19/158639_193926.png (deflated 2%)\n",
            "updating: example/tiles/static/ma/256_19/158645_193930.png (deflated 2%)\n",
            "updating: example/tiles/static/ma/256_19/158643_193932.png (deflated 1%)\n",
            "updating: example/tiles/static/ma/256_19/158649_193927.png (deflated 2%)\n",
            "updating: example/tiles/static/ma/256_19/158642_193927.png (deflated 1%)\n",
            "updating: example/tiles/static/ma/256_19/158640_193929.png (deflated 2%)\n",
            "updating: example/tiles/static/ma/256_19/158638_193926.png (deflated 2%)\n",
            "updating: example/tiles/static/ma/256_19/158646_193929.png (deflated 2%)\n",
            "updating: example/tiles/static/ma/256_19/158647_193926.png (deflated 2%)\n",
            "updating: example/tiles/static/ma/256_19/158646_193928.png (deflated 2%)\n",
            "updating: example/tiles/static/ma/256_19/158640_193930.png (deflated 2%)\n",
            "updating: example/tiles/static/ma/256_19/158640_193925.png (deflated 1%)\n",
            "updating: example/tiles/static/ma/256_19/158647_193930.png (deflated 1%)\n",
            "updating: example/tiles/static/ma/256_19/158641_193931.png (deflated 2%)\n",
            "updating: example/tiles/static/ma/256_19/158639_193931.png (deflated 1%)\n",
            "updating: example/tiles/static/ma/256_19/158639_193929.png (deflated 2%)\n",
            "updating: example/tiles/static/ma/256_19/158642_193928.png (deflated 1%)\n",
            "updating: example/tiles/static/ma/256_19/158643_193926.png (deflated 2%)\n",
            "updating: example/tiles/static/ma/256_19/158649_193925.png (deflated 1%)\n",
            "updating: example/tiles/static/ma/256_19/158639_193927.png (deflated 2%)\n",
            "updating: example/tiles/static/ma/256_19/158644_193930.png (deflated 1%)\n",
            "updating: example/tiles/static/ma/256_19/158648_193927.png (deflated 2%)\n",
            "updating: example/tiles/static/ma/256_19/158640_193926.png (deflated 2%)\n",
            "updating: example/tiles/static/ma/256_19/158638_193930.png (deflated 1%)\n",
            "updating: example/tiles/static/ma/256_19/158638_193932.png (deflated 1%)\n",
            "updating: example/tiles/static/ma/256_19/158647_193931.png (deflated 1%)\n",
            "updating: example/tiles/static/ma/256_19/158645_193928.png (deflated 2%)\n",
            "updating: example/tiles/static/ma/256_19/158647_193928.png (deflated 2%)\n",
            "updating: example/tiles/static/ma/256_19/158639_193930.png (deflated 2%)\n",
            "updating: example/tiles/static/ma/256_19/158648_193928.png (deflated 2%)\n",
            "updating: example/tiles/static/ma/256_19/158645_193925.png (deflated 2%)\n",
            "updating: example/tiles/static/ma/256_19/158648_193926.png (deflated 2%)\n",
            "updating: example/tiles/static/ma/256_19/158642_193926.png (deflated 1%)\n",
            "updating: example/tiles/static/ma/256_19/158641_193928.png (deflated 2%)\n",
            "updating: example/tiles/static/ma/256_19/158642_193931.png (deflated 1%)\n",
            "updating: example/tiles/static/ma/256_19/158648_193925.png (deflated 1%)\n",
            "updating: example/tiles/static/ma/256_19/158641_193926.png (deflated 2%)\n",
            "updating: example/tiles/static/ma/256_19/158641_193925.png (deflated 1%)\n",
            "updating: example/tiles/static/ma/256_19/158648_193931.png (deflated 2%)\n",
            "updating: example/tiles/static/ma/256_19/158648_193930.png (deflated 1%)\n",
            "updating: example/tiles/static/ma/256_19/158640_193927.png (deflated 3%)\n",
            "updating: example/tiles/static/ma/256_19/158645_193927.png (deflated 2%)\n",
            "updating: example/tiles/static/ma/256_19/158645_193931.png (deflated 2%)\n",
            "updating: example/tiles/static/ma/256_19/158649_193930.png (deflated 1%)\n",
            "updating: example/tiles/static/ma/256_19/158639_193928.png (deflated 2%)\n",
            "updating: example/tiles/static/ma/256_19/158644_193928.png (deflated 2%)\n",
            "updating: example/tiles/static/ma/256_19/158645_193926.png (deflated 2%)\n",
            "updating: example/tiles/static/ma/256_19/158641_193932.png (deflated 1%)\n",
            "updating: example/tiles/static/ma/256_19/158641_193927.png (deflated 2%)\n",
            "updating: example/tiles/static/ma/256_19/158644_193926.png (deflated 2%)\n",
            "updating: example/tiles/static/ma/256_19/158641_193929.png (deflated 4%)\n",
            "updating: example/tiles/static/ma/256_19/158639_193925.png (deflated 1%)\n",
            "updating: example/tiles/static/ma/256_19/158638_193927.png (deflated 2%)\n",
            "updating: example/tiles/static/ma/256_19/158644_193931.png (deflated 1%)\n",
            "updating: example/tiles/static/ma/256_19/158649_193926.png (deflated 1%)\n",
            "updating: example/tiles/static/ma/256_19/158644_193929.png (deflated 2%)\n",
            "updating: example/tiles/static/ma/256_19/158644_193925.png (deflated 3%)\n",
            "updating: example/tiles/static/ma/256_19/158646_193930.png (deflated 1%)\n",
            "updating: example/tiles/static/ma/256_19/158638_193928.png (deflated 1%)\n",
            "updating: example/tiles/static/ma/256_19/158638_193929.png (deflated 1%)\n",
            "updating: example/tiles/static/ma/256_19/158648_193932.png (deflated 1%)\n",
            "updating: example/tiles/static/ma/256_19/158640_193931.png (deflated 2%)\n",
            "updating: example/tiles/static/ma/256_19/158646_193925.png (deflated 1%)\n",
            "updating: example/tiles/static/ma/256_19/158643_193930.png (deflated 1%)\n",
            "updating: example/tiles/static/ma/256_19/158649_193931.png (deflated 1%)\n",
            "updating: example/tiles/static/ma/256_19/158643_193927.png (deflated 1%)\n",
            "updating: example/tiles/static/ma/256_19/158648_193929.png (deflated 2%)\n",
            "updating: example/tiles/static/ma/256_19/158646_193926.png (deflated 2%)\n",
            "updating: example/tiles/static/ma/256_19/158644_193927.png (deflated 1%)\n",
            "updating: example/tiles/static/ma/256_19/158640_193932.png (deflated 1%)\n",
            "updating: example/tiles/static/ma/256_19/158643_193925.png (deflated 2%)\n",
            "updating: example/tiles/static/ma/256_19/158643_193931.png (deflated 1%)\n",
            "updating: example/tiles/static/ma/256_19/158646_193932.png (deflated 1%)\n",
            "updating: example/tiles/static/ma/256_19/158642_193932.png (deflated 1%)\n",
            "updating: example/tiles/static/ma/256_19/158643_193928.png (deflated 1%)\n",
            "updating: example/tiles/static/ma/256_19/158642_193925.png (deflated 1%)\n",
            "updating: example/tiles/static/ma/256_19/158642_193930.png (deflated 2%)\n",
            "updating: example/tiles/static/ma/256_19/158649_193932.png (deflated 1%)\n",
            "updating: example/tiles/static/ma/256_19/158647_193929.png (deflated 2%)\n",
            "updating: example/tiles/static/ma/256_19/158639_193932.png (deflated 1%)\n",
            "updating: example/tiles/static/ma/256_19/158649_193929.png (deflated 1%)\n",
            "updating: example/tiles/static/ma/256_19/158646_193927.png (deflated 2%)\n",
            "updating: example/tiles/static/ma/256_19/158642_193929.png (deflated 2%)\n",
            "updating: example/tiles/static/ma/256_19/158641_193930.png (deflated 6%)\n",
            "updating: example/tiles/static/ma/256_19/158647_193925.png (deflated 1%)\n",
            "updating: example/tiles/static/ma/256_19/158645_193929.png (deflated 4%)\n",
            "updating: example/tiles/static/ma/256_19/158638_193931.png (deflated 1%)\n",
            "updating: example/tiles/static/ma/256_19/158645_193932.png (deflated 1%)\n",
            "updating: example/tiles/stitched/ (stored 0%)\n",
            "updating: example/tiles/stitched/256_19_4/ (stored 0%)\n",
            "updating: example/tiles/stitched/256_19_4/2_1_5.png (deflated 0%)\n",
            "updating: example/tiles/stitched/256_19_4/2_0_4.png (deflated 0%)\n",
            "updating: example/tiles/stitched/256_19_4/0_1_1.png (deflated 0%)\n",
            "updating: example/tiles/stitched/256_19_4/0_0_0.png (deflated 0%)\n",
            "updating: example/tiles/stitched/256_19_4/1_0_2.png (deflated 0%)\n",
            "updating: example/tiles/stitched/256_19_4/1_1_3.png (deflated 0%)\n",
            "updating: example/tiles/example_256_info.json (deflated 66%)\n",
            "updating: example/network/ (stored 0%)\n",
            "updating: example/network/example-Network-13-12-2023_20/ (stored 0%)\n",
            "updating: example/network/example-Network-13-12-2023_20/example-Network-13-12-2023_20.shp (deflated 71%)\n",
            "updating: example/network/example-Network-13-12-2023_20/example-Network-13-12-2023_20.shx (deflated 66%)\n",
            "updating: example/network/example-Network-13-12-2023_20/example-Network-13-12-2023_20.prj (deflated 17%)\n",
            "updating: example/network/example-Network-13-12-2023_20/example-Network-13-12-2023_20.cpg (stored 0%)\n",
            "updating: example/network/example-Network-13-12-2023_20/example-Network-13-12-2023_20.dbf (deflated 99%)\n"
          ]
        },
        {
          "data": {
            "application/javascript": "\n    async function download(id, filename, size) {\n      if (!google.colab.kernel.accessAllowed) {\n        return;\n      }\n      const div = document.createElement('div');\n      const label = document.createElement('label');\n      label.textContent = `Downloading \"${filename}\": `;\n      div.appendChild(label);\n      const progress = document.createElement('progress');\n      progress.max = size;\n      div.appendChild(progress);\n      document.body.appendChild(div);\n\n      const buffers = [];\n      let downloaded = 0;\n\n      const channel = await google.colab.kernel.comms.open(id);\n      // Send a message to notify the kernel that we're ready.\n      channel.send({})\n\n      for await (const message of channel.messages) {\n        // Send a message to notify the kernel that we're ready.\n        channel.send({})\n        if (message.buffers) {\n          for (const buffer of message.buffers) {\n            buffers.push(buffer);\n            downloaded += buffer.byteLength;\n            progress.value = downloaded;\n          }\n        }\n      }\n      const blob = new Blob(buffers, {type: 'application/binary'});\n      const a = document.createElement('a');\n      a.href = window.URL.createObjectURL(blob);\n      a.download = filename;\n      div.appendChild(a);\n      a.click();\n      div.remove();\n    }\n  ",
            "text/plain": [
              "<IPython.core.display.Javascript object>"
            ]
          },
          "metadata": {},
          "output_type": "display_data"
        },
        {
          "data": {
            "application/javascript": "download(\"download_43077bb4-b129-4868-96b7-39df4aa2c34d\", \"example.zip\", 8549065)",
            "text/plain": [
              "<IPython.core.display.Javascript object>"
            ]
          },
          "metadata": {},
          "output_type": "display_data"
        }
      ],
      "source": [
        "%cd content/output\n",
        "!zip -r example.zip example\n",
        "\n",
        "from google.colab import files\n",
        "files.download('example.zip')"
      ]
    }
  ],
  "metadata": {
    "accelerator": "GPU",
    "colab": {
      "gpuType": "T4",
      "provenance": []
    },
    "kernelspec": {
      "display_name": "Python 3",
      "name": "python3"
    },
    "language_info": {
      "name": "python"
    }
  },
  "nbformat": 4,
  "nbformat_minor": 0
}
