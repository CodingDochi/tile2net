{
  "cells": [
    {
      "cell_type": "markdown",
      "metadata": {},
      "source": [
        "# Running Tile2Net on Colab\n",
        "\n",
        "If you don't have access to a physical GPU on your computer, or your GPU is not powerful enough, you can use the following workflow to use the tool!\n",
        "\n",
        "There are two ways to use Tile2Net - via the command line or via imported python modules. Using a colab workflow, the first way is a bit more straightforward, but both are possible.\n",
        "\n",
        "You will notice exclamation points `!` and percent symbols `%` at the front of many code blocks in this notebook. Both are Colab syntax used to execute bash commands and \"magic\" commands in the colab environment. The relevant magic commands will be explained as they come up.\n",
        "\n",
        "## Command Line Interface\n",
        "\n",
        "### Step 1: Clone the Repository"
      ]
    },
    {
      "cell_type": "code",
      "execution_count": null,
      "metadata": {
        "colab": {
          "base_uri": "https://localhost:8080/"
        },
        "id": "jRu2L-ME6bxl",
        "outputId": "57042c04-d912-4e3b-e7e1-b6fb89f7fe12"
      },
      "outputs": [
        {
          "name": "stdout",
          "output_type": "stream",
          "text": [
            "Cloning into 'tile2net'...\n",
            "remote: Enumerating objects: 990, done.\u001b[K\n",
            "remote: Counting objects: 100% (512/512), done.\u001b[K\n",
            "remote: Compressing objects: 100% (187/187), done.\u001b[K\n",
            "remote: Total 990 (delta 347), reused 370 (delta 295), pack-reused 478\u001b[K\n",
            "Receiving objects: 100% (990/990), 1.82 MiB | 10.17 MiB/s, done.\n",
            "Resolving deltas: 100% (538/538), done.\n"
          ]
        }
      ],
      "source": [
        "!git clone https://github.com/VIDA-NYU/tile2net.git"
      ]
    },
    {
      "cell_type": "markdown",
      "metadata": {},
      "source": [
        "Once the repository has cloned, you can use the magic `%cd` command to go into the resulting    tile2net `directory`. It is important to use the magic command rather than calling `!cd`, because the latter creates a temporary subshell in which the command is called, whereas the former will persist the directory change."
      ]
    },
    {
      "cell_type": "code",
      "execution_count": null,
      "metadata": {
        "colab": {
          "base_uri": "https://localhost:8080/"
        },
        "id": "LcQdVR4-6u2Z",
        "outputId": "87bdbf27-587f-4caa-fe89-54262f87f793"
      },
      "outputs": [
        {
          "name": "stdout",
          "output_type": "stream",
          "text": [
            "/content/tile2net\n"
          ]
        }
      ],
      "source": [
        "%cd tile2net"
      ]
    },
    {
      "cell_type": "markdown",
      "metadata": {},
      "source": [
        "Always make sure you're up to date with the latest version of the code! "
      ]
    },
    {
      "cell_type": "code",
      "execution_count": null,
      "metadata": {
        "colab": {
          "base_uri": "https://localhost:8080/"
        },
        "id": "LE67k4kKwc8-",
        "outputId": "2a0bc5a3-bf69-4046-a801-37b7fb22d05e"
      },
      "outputs": [
        {
          "name": "stdout",
          "output_type": "stream",
          "text": [
            "Already up to date.\n"
          ]
        }
      ],
      "source": [
        "!git pull"
      ]
    },
    {
      "cell_type": "markdown",
      "metadata": {},
      "source": [
        "## Step 2: Activate a Virtual Environment and Install Dependencies\n",
        "\n",
        "It is highly recommended to create a virtual environment using either pip or conda to install Tile2Net and its dependencies. The following commands create an environment with conda and python version 3.11 and install all of the dependencies present in the [requirements-dev.txt](https://github.com/VIDA-NYU/tile2net/blob/main/requirements-dev.txt) file (That's what the period at the end does!)"
      ]
    },
    {
      "cell_type": "code",
      "execution_count": null,
      "metadata": {
        "colab": {
          "base_uri": "https://localhost:8080/"
        },
        "id": "ZZ5c_ZGO27Ln",
        "outputId": "fe5a6915-88f9-4893-d9e0-c92322b7a35b"
      },
      "outputs": [
        {
          "name": "stdout",
          "output_type": "stream",
          "text": [
            "/bin/bash: line 1: conda: command not found\n",
            "/bin/bash: line 1: conda: command not found\n",
            "Obtaining file:///content/tile2net\n",
            "  Installing build dependencies ... \u001b[?25l\u001b[?25hdone\n",
            "  Checking if build backend supports build_editable ... \u001b[?25l\u001b[?25hdone\n",
            "  Getting requirements to build editable ... \u001b[?25l\u001b[?25hdone\n",
            "  Preparing editable metadata (pyproject.toml) ... \u001b[?25l\u001b[?25hdone\n",
            "Requirement already satisfied: centerline in /usr/local/lib/python3.10/dist-packages (from tile2net==0.3.0) (1.0.1)\n",
            "Requirement already satisfied: jupyter in /usr/local/lib/python3.10/dist-packages (from tile2net==0.3.0) (1.0.0)\n",
            "Requirement already satisfied: geopandas in /usr/local/lib/python3.10/dist-packages (from tile2net==0.3.0) (0.13.2)\n",
            "Requirement already satisfied: geopy in /usr/local/lib/python3.10/dist-packages (from tile2net==0.3.0) (2.3.0)\n",
            "Requirement already satisfied: matplotlib in /usr/local/lib/python3.10/dist-packages (from tile2net==0.3.0) (3.7.1)\n",
            "Requirement already satisfied: momepy in /usr/local/lib/python3.10/dist-packages (from tile2net==0.3.0) (0.6.0)\n",
            "Requirement already satisfied: numba in /usr/local/lib/python3.10/dist-packages (from tile2net==0.3.0) (0.56.4)\n",
            "Requirement already satisfied: opencv-python in /usr/local/lib/python3.10/dist-packages (from tile2net==0.3.0) (4.8.0.76)\n",
            "Requirement already satisfied: osmnx in /usr/local/lib/python3.10/dist-packages (from tile2net==0.3.0) (1.7.1)\n",
            "Requirement already satisfied: pillow in /usr/local/lib/python3.10/dist-packages (from tile2net==0.3.0) (9.4.0)\n",
            "Requirement already satisfied: pyarrow in /usr/local/lib/python3.10/dist-packages (from tile2net==0.3.0) (9.0.0)\n",
            "Requirement already satisfied: pyogrio in /usr/local/lib/python3.10/dist-packages (from tile2net==0.3.0) (0.7.2)\n",
            "Requirement already satisfied: rasterio in /usr/local/lib/python3.10/dist-packages (from tile2net==0.3.0) (1.3.9)\n",
            "Requirement already satisfied: scikit-image in /usr/local/lib/python3.10/dist-packages (from tile2net==0.3.0) (0.19.3)\n",
            "Requirement already satisfied: scikit-learn in /usr/local/lib/python3.10/dist-packages (from tile2net==0.3.0) (1.2.2)\n",
            "Requirement already satisfied: shapely==2.0.1 in /usr/local/lib/python3.10/dist-packages (from tile2net==0.3.0) (2.0.1)\n",
            "Requirement already satisfied: tqdm in /usr/local/lib/python3.10/dist-packages (from tile2net==0.3.0) (4.66.1)\n",
            "Requirement already satisfied: torch in /usr/local/lib/python3.10/dist-packages (from tile2net==0.3.0) (2.1.0+cu118)\n",
            "Requirement already satisfied: torchvision in /usr/local/lib/python3.10/dist-packages (from tile2net==0.3.0) (0.16.0+cu118)\n",
            "Requirement already satisfied: argh==0.29.4 in /usr/local/lib/python3.10/dist-packages (from tile2net==0.3.0) (0.29.4)\n",
            "Requirement already satisfied: coolname in /usr/local/lib/python3.10/dist-packages (from tile2net==0.3.0) (2.2.0)\n",
            "Requirement already satisfied: tabulate in /usr/local/lib/python3.10/dist-packages (from tile2net==0.3.0) (0.9.0)\n",
            "Requirement already satisfied: tensorboardx in /usr/local/lib/python3.10/dist-packages (from tile2net==0.3.0) (2.6.2.2)\n",
            "Requirement already satisfied: packaging in /usr/local/lib/python3.10/dist-packages (from tile2net==0.3.0) (23.2)\n",
            "Requirement already satisfied: sphinx in /usr/local/lib/python3.10/dist-packages (from tile2net==0.3.0) (5.0.2)\n",
            "Requirement already satisfied: torchaudio in /usr/local/lib/python3.10/dist-packages (from tile2net==0.3.0) (2.1.0+cu118)\n",
            "Requirement already satisfied: runx in /usr/local/lib/python3.10/dist-packages (from tile2net==0.3.0) (0.0.11)\n",
            "Requirement already satisfied: toolz in /usr/local/lib/python3.10/dist-packages (from tile2net==0.3.0) (0.12.0)\n",
            "Requirement already satisfied: more-itertools in /usr/local/lib/python3.10/dist-packages (from tile2net==0.3.0) (10.1.0)\n",
            "Requirement already satisfied: gdown in /usr/local/lib/python3.10/dist-packages (from tile2net==0.3.0) (4.6.6)\n",
            "Requirement already satisfied: pytest in /usr/local/lib/python3.10/dist-packages (from tile2net==0.3.0) (7.4.3)\n",
            "Requirement already satisfied: imageio in /usr/local/lib/python3.10/dist-packages (from tile2net==0.3.0) (2.31.6)\n",
            "Requirement already satisfied: numpy>=1.14 in /usr/local/lib/python3.10/dist-packages (from shapely==2.0.1->tile2net==0.3.0) (1.23.5)\n",
            "Requirement already satisfied: Fiona>=1.7.0 in /usr/local/lib/python3.10/dist-packages (from centerline->tile2net==0.3.0) (1.9.5)\n",
            "Requirement already satisfied: scipy>=0.16.1 in /usr/local/lib/python3.10/dist-packages (from centerline->tile2net==0.3.0) (1.11.3)\n",
            "Requirement already satisfied: Click>=7.0 in /usr/local/lib/python3.10/dist-packages (from centerline->tile2net==0.3.0) (8.1.7)\n",
            "Requirement already satisfied: filelock in /usr/local/lib/python3.10/dist-packages (from gdown->tile2net==0.3.0) (3.12.4)\n",
            "Requirement already satisfied: requests[socks] in /usr/local/lib/python3.10/dist-packages (from gdown->tile2net==0.3.0) (2.31.0)\n",
            "Requirement already satisfied: six in /usr/local/lib/python3.10/dist-packages (from gdown->tile2net==0.3.0) (1.16.0)\n",
            "Requirement already satisfied: beautifulsoup4 in /usr/local/lib/python3.10/dist-packages (from gdown->tile2net==0.3.0) (4.11.2)\n",
            "Requirement already satisfied: pandas>=1.1.0 in /usr/local/lib/python3.10/dist-packages (from geopandas->tile2net==0.3.0) (1.5.3)\n",
            "Requirement already satisfied: pyproj>=3.0.1 in /usr/local/lib/python3.10/dist-packages (from geopandas->tile2net==0.3.0) (3.6.1)\n",
            "Requirement already satisfied: geographiclib<3,>=1.52 in /usr/local/lib/python3.10/dist-packages (from geopy->tile2net==0.3.0) (2.0)\n",
            "Requirement already satisfied: notebook in /usr/local/lib/python3.10/dist-packages (from jupyter->tile2net==0.3.0) (6.5.5)\n",
            "Requirement already satisfied: qtconsole in /usr/local/lib/python3.10/dist-packages (from jupyter->tile2net==0.3.0) (5.5.0)\n",
            "Requirement already satisfied: jupyter-console in /usr/local/lib/python3.10/dist-packages (from jupyter->tile2net==0.3.0) (6.1.0)\n",
            "Requirement already satisfied: nbconvert in /usr/local/lib/python3.10/dist-packages (from jupyter->tile2net==0.3.0) (6.5.4)\n",
            "Requirement already satisfied: ipykernel in /usr/local/lib/python3.10/dist-packages (from jupyter->tile2net==0.3.0) (5.5.6)\n",
            "Requirement already satisfied: ipywidgets in /usr/local/lib/python3.10/dist-packages (from jupyter->tile2net==0.3.0) (7.7.1)\n",
            "Requirement already satisfied: contourpy>=1.0.1 in /usr/local/lib/python3.10/dist-packages (from matplotlib->tile2net==0.3.0) (1.1.1)\n",
            "Requirement already satisfied: cycler>=0.10 in /usr/local/lib/python3.10/dist-packages (from matplotlib->tile2net==0.3.0) (0.12.1)\n",
            "Requirement already satisfied: fonttools>=4.22.0 in /usr/local/lib/python3.10/dist-packages (from matplotlib->tile2net==0.3.0) (4.43.1)\n",
            "Requirement already satisfied: kiwisolver>=1.0.1 in /usr/local/lib/python3.10/dist-packages (from matplotlib->tile2net==0.3.0) (1.4.5)\n",
            "Requirement already satisfied: pyparsing>=2.3.1 in /usr/local/lib/python3.10/dist-packages (from matplotlib->tile2net==0.3.0) (3.1.1)\n",
            "Requirement already satisfied: python-dateutil>=2.7 in /usr/local/lib/python3.10/dist-packages (from matplotlib->tile2net==0.3.0) (2.8.2)\n",
            "Requirement already satisfied: libpysal>=4.6.0 in /usr/local/lib/python3.10/dist-packages (from momepy->tile2net==0.3.0) (4.9.2)\n",
            "Requirement already satisfied: networkx>=2.3 in /usr/local/lib/python3.10/dist-packages (from momepy->tile2net==0.3.0) (3.2)\n",
            "Requirement already satisfied: llvmlite<0.40,>=0.39.0dev0 in /usr/local/lib/python3.10/dist-packages (from numba->tile2net==0.3.0) (0.39.1)\n",
            "Requirement already satisfied: setuptools in /usr/local/lib/python3.10/dist-packages (from numba->tile2net==0.3.0) (67.7.2)\n",
            "Requirement already satisfied: certifi in /usr/local/lib/python3.10/dist-packages (from pyogrio->tile2net==0.3.0) (2023.7.22)\n",
            "Requirement already satisfied: iniconfig in /usr/local/lib/python3.10/dist-packages (from pytest->tile2net==0.3.0) (2.0.0)\n",
            "Requirement already satisfied: pluggy<2.0,>=0.12 in /usr/local/lib/python3.10/dist-packages (from pytest->tile2net==0.3.0) (1.3.0)\n",
            "Requirement already satisfied: exceptiongroup>=1.0.0rc8 in /usr/local/lib/python3.10/dist-packages (from pytest->tile2net==0.3.0) (1.1.3)\n",
            "Requirement already satisfied: tomli>=1.0.0 in /usr/local/lib/python3.10/dist-packages (from pytest->tile2net==0.3.0) (2.0.1)\n",
            "Requirement already satisfied: affine in /usr/local/lib/python3.10/dist-packages (from rasterio->tile2net==0.3.0) (2.4.0)\n",
            "Requirement already satisfied: attrs in /usr/local/lib/python3.10/dist-packages (from rasterio->tile2net==0.3.0) (23.1.0)\n",
            "Requirement already satisfied: cligj>=0.5 in /usr/local/lib/python3.10/dist-packages (from rasterio->tile2net==0.3.0) (0.7.2)\n",
            "Requirement already satisfied: snuggs>=1.4.1 in /usr/local/lib/python3.10/dist-packages (from rasterio->tile2net==0.3.0) (1.4.7)\n",
            "Requirement already satisfied: click-plugins in /usr/local/lib/python3.10/dist-packages (from rasterio->tile2net==0.3.0) (1.1.1)\n",
            "Requirement already satisfied: pyyaml>=5.1.1 in /usr/local/lib/python3.10/dist-packages (from runx->tile2net==0.3.0) (6.0.1)\n",
            "Requirement already satisfied: protobuf>=3.20 in /usr/local/lib/python3.10/dist-packages (from tensorboardx->tile2net==0.3.0) (3.20.3)\n",
            "Requirement already satisfied: tifffile>=2019.7.26 in /usr/local/lib/python3.10/dist-packages (from scikit-image->tile2net==0.3.0) (2023.9.26)\n",
            "Requirement already satisfied: PyWavelets>=1.1.1 in /usr/local/lib/python3.10/dist-packages (from scikit-image->tile2net==0.3.0) (1.4.1)\n",
            "Requirement already satisfied: joblib>=1.1.1 in /usr/local/lib/python3.10/dist-packages (from scikit-learn->tile2net==0.3.0) (1.3.2)\n",
            "Requirement already satisfied: threadpoolctl>=2.0.0 in /usr/local/lib/python3.10/dist-packages (from scikit-learn->tile2net==0.3.0) (3.2.0)\n",
            "Requirement already satisfied: sphinxcontrib-applehelp in /usr/local/lib/python3.10/dist-packages (from sphinx->tile2net==0.3.0) (1.0.7)\n",
            "Requirement already satisfied: sphinxcontrib-devhelp in /usr/local/lib/python3.10/dist-packages (from sphinx->tile2net==0.3.0) (1.0.5)\n",
            "Requirement already satisfied: sphinxcontrib-jsmath in /usr/local/lib/python3.10/dist-packages (from sphinx->tile2net==0.3.0) (1.0.1)\n",
            "Requirement already satisfied: sphinxcontrib-htmlhelp>=2.0.0 in /usr/local/lib/python3.10/dist-packages (from sphinx->tile2net==0.3.0) (2.0.4)\n",
            "Requirement already satisfied: sphinxcontrib-serializinghtml>=1.1.5 in /usr/local/lib/python3.10/dist-packages (from sphinx->tile2net==0.3.0) (1.1.9)\n",
            "Requirement already satisfied: sphinxcontrib-qthelp in /usr/local/lib/python3.10/dist-packages (from sphinx->tile2net==0.3.0) (1.0.6)\n",
            "Requirement already satisfied: Jinja2>=2.3 in /usr/local/lib/python3.10/dist-packages (from sphinx->tile2net==0.3.0) (3.1.2)\n",
            "Requirement already satisfied: Pygments>=2.0 in /usr/local/lib/python3.10/dist-packages (from sphinx->tile2net==0.3.0) (2.16.1)\n",
            "Requirement already satisfied: docutils<0.19,>=0.14 in /usr/local/lib/python3.10/dist-packages (from sphinx->tile2net==0.3.0) (0.18.1)\n",
            "Requirement already satisfied: snowballstemmer>=1.1 in /usr/local/lib/python3.10/dist-packages (from sphinx->tile2net==0.3.0) (2.2.0)\n",
            "Requirement already satisfied: babel>=1.3 in /usr/local/lib/python3.10/dist-packages (from sphinx->tile2net==0.3.0) (2.13.1)\n",
            "Requirement already satisfied: alabaster<0.8,>=0.7 in /usr/local/lib/python3.10/dist-packages (from sphinx->tile2net==0.3.0) (0.7.13)\n",
            "Requirement already satisfied: imagesize in /usr/local/lib/python3.10/dist-packages (from sphinx->tile2net==0.3.0) (1.4.1)\n",
            "Requirement already satisfied: typing-extensions in /usr/local/lib/python3.10/dist-packages (from torch->tile2net==0.3.0) (4.5.0)\n",
            "Requirement already satisfied: sympy in /usr/local/lib/python3.10/dist-packages (from torch->tile2net==0.3.0) (1.12)\n",
            "Requirement already satisfied: fsspec in /usr/local/lib/python3.10/dist-packages (from torch->tile2net==0.3.0) (2023.6.0)\n",
            "Requirement already satisfied: triton==2.1.0 in /usr/local/lib/python3.10/dist-packages (from torch->tile2net==0.3.0) (2.1.0)\n",
            "Requirement already satisfied: MarkupSafe>=2.0 in /usr/local/lib/python3.10/dist-packages (from Jinja2>=2.3->sphinx->tile2net==0.3.0) (2.1.3)\n",
            "Requirement already satisfied: platformdirs>=2.0.2 in /usr/local/lib/python3.10/dist-packages (from libpysal>=4.6.0->momepy->tile2net==0.3.0) (3.11.0)\n",
            "Requirement already satisfied: soupsieve>1.2 in /usr/local/lib/python3.10/dist-packages (from beautifulsoup4->gdown->tile2net==0.3.0) (2.5)\n",
            "Requirement already satisfied: pytz>=2020.1 in /usr/local/lib/python3.10/dist-packages (from pandas>=1.1.0->geopandas->tile2net==0.3.0) (2023.3.post1)\n",
            "Requirement already satisfied: charset-normalizer<4,>=2 in /usr/local/lib/python3.10/dist-packages (from requests[socks]->gdown->tile2net==0.3.0) (3.3.1)\n",
            "Requirement already satisfied: idna<4,>=2.5 in /usr/local/lib/python3.10/dist-packages (from requests[socks]->gdown->tile2net==0.3.0) (3.4)\n",
            "Requirement already satisfied: urllib3<3,>=1.21.1 in /usr/local/lib/python3.10/dist-packages (from requests[socks]->gdown->tile2net==0.3.0) (2.0.7)\n",
            "Requirement already satisfied: ipython-genutils in /usr/local/lib/python3.10/dist-packages (from ipykernel->jupyter->tile2net==0.3.0) (0.2.0)\n",
            "Requirement already satisfied: ipython>=5.0.0 in /usr/local/lib/python3.10/dist-packages (from ipykernel->jupyter->tile2net==0.3.0) (7.34.0)\n",
            "Requirement already satisfied: traitlets>=4.1.0 in /usr/local/lib/python3.10/dist-packages (from ipykernel->jupyter->tile2net==0.3.0) (5.7.1)\n",
            "Requirement already satisfied: jupyter-client in /usr/local/lib/python3.10/dist-packages (from ipykernel->jupyter->tile2net==0.3.0) (6.1.12)\n",
            "Requirement already satisfied: tornado>=4.2 in /usr/local/lib/python3.10/dist-packages (from ipykernel->jupyter->tile2net==0.3.0) (6.3.2)\n",
            "Requirement already satisfied: widgetsnbextension~=3.6.0 in /usr/local/lib/python3.10/dist-packages (from ipywidgets->jupyter->tile2net==0.3.0) (3.6.6)\n",
            "Requirement already satisfied: jupyterlab-widgets>=1.0.0 in /usr/local/lib/python3.10/dist-packages (from ipywidgets->jupyter->tile2net==0.3.0) (3.0.9)\n",
            "Requirement already satisfied: prompt-toolkit!=3.0.0,!=3.0.1,<3.1.0,>=2.0.0 in /usr/local/lib/python3.10/dist-packages (from jupyter-console->jupyter->tile2net==0.3.0) (3.0.39)\n",
            "Requirement already satisfied: lxml in /usr/local/lib/python3.10/dist-packages (from nbconvert->jupyter->tile2net==0.3.0) (4.9.3)\n",
            "Requirement already satisfied: bleach in /usr/local/lib/python3.10/dist-packages (from nbconvert->jupyter->tile2net==0.3.0) (6.1.0)\n",
            "Requirement already satisfied: defusedxml in /usr/local/lib/python3.10/dist-packages (from nbconvert->jupyter->tile2net==0.3.0) (0.7.1)\n",
            "Requirement already satisfied: entrypoints>=0.2.2 in /usr/local/lib/python3.10/dist-packages (from nbconvert->jupyter->tile2net==0.3.0) (0.4)\n",
            "Requirement already satisfied: jupyter-core>=4.7 in /usr/local/lib/python3.10/dist-packages (from nbconvert->jupyter->tile2net==0.3.0) (5.4.0)\n",
            "Requirement already satisfied: jupyterlab-pygments in /usr/local/lib/python3.10/dist-packages (from nbconvert->jupyter->tile2net==0.3.0) (0.2.2)\n",
            "Requirement already satisfied: mistune<2,>=0.8.1 in /usr/local/lib/python3.10/dist-packages (from nbconvert->jupyter->tile2net==0.3.0) (0.8.4)\n",
            "Requirement already satisfied: nbclient>=0.5.0 in /usr/local/lib/python3.10/dist-packages (from nbconvert->jupyter->tile2net==0.3.0) (0.8.0)\n",
            "Requirement already satisfied: nbformat>=5.1 in /usr/local/lib/python3.10/dist-packages (from nbconvert->jupyter->tile2net==0.3.0) (5.9.2)\n",
            "Requirement already satisfied: pandocfilters>=1.4.1 in /usr/local/lib/python3.10/dist-packages (from nbconvert->jupyter->tile2net==0.3.0) (1.5.0)\n",
            "Requirement already satisfied: tinycss2 in /usr/local/lib/python3.10/dist-packages (from nbconvert->jupyter->tile2net==0.3.0) (1.2.1)\n",
            "Requirement already satisfied: pyzmq<25,>=17 in /usr/local/lib/python3.10/dist-packages (from notebook->jupyter->tile2net==0.3.0) (23.2.1)\n",
            "Requirement already satisfied: argon2-cffi in /usr/local/lib/python3.10/dist-packages (from notebook->jupyter->tile2net==0.3.0) (23.1.0)\n",
            "Requirement already satisfied: nest-asyncio>=1.5 in /usr/local/lib/python3.10/dist-packages (from notebook->jupyter->tile2net==0.3.0) (1.5.8)\n",
            "Requirement already satisfied: Send2Trash>=1.8.0 in /usr/local/lib/python3.10/dist-packages (from notebook->jupyter->tile2net==0.3.0) (1.8.2)\n",
            "Requirement already satisfied: terminado>=0.8.3 in /usr/local/lib/python3.10/dist-packages (from notebook->jupyter->tile2net==0.3.0) (0.17.1)\n",
            "Requirement already satisfied: prometheus-client in /usr/local/lib/python3.10/dist-packages (from notebook->jupyter->tile2net==0.3.0) (0.17.1)\n",
            "Requirement already satisfied: nbclassic>=0.4.7 in /usr/local/lib/python3.10/dist-packages (from notebook->jupyter->tile2net==0.3.0) (1.0.0)\n",
            "Requirement already satisfied: qtpy>=2.4.0 in /usr/local/lib/python3.10/dist-packages (from qtconsole->jupyter->tile2net==0.3.0) (2.4.1)\n",
            "Requirement already satisfied: PySocks!=1.5.7,>=1.5.6 in /usr/local/lib/python3.10/dist-packages (from requests[socks]->gdown->tile2net==0.3.0) (1.7.1)\n",
            "Requirement already satisfied: mpmath>=0.19 in /usr/local/lib/python3.10/dist-packages (from sympy->torch->tile2net==0.3.0) (1.3.0)\n",
            "Requirement already satisfied: jedi>=0.16 in /usr/local/lib/python3.10/dist-packages (from ipython>=5.0.0->ipykernel->jupyter->tile2net==0.3.0) (0.19.1)\n",
            "Requirement already satisfied: decorator in /usr/local/lib/python3.10/dist-packages (from ipython>=5.0.0->ipykernel->jupyter->tile2net==0.3.0) (4.4.2)\n",
            "Requirement already satisfied: pickleshare in /usr/local/lib/python3.10/dist-packages (from ipython>=5.0.0->ipykernel->jupyter->tile2net==0.3.0) (0.7.5)\n",
            "Requirement already satisfied: backcall in /usr/local/lib/python3.10/dist-packages (from ipython>=5.0.0->ipykernel->jupyter->tile2net==0.3.0) (0.2.0)\n",
            "Requirement already satisfied: matplotlib-inline in /usr/local/lib/python3.10/dist-packages (from ipython>=5.0.0->ipykernel->jupyter->tile2net==0.3.0) (0.1.6)\n",
            "Requirement already satisfied: pexpect>4.3 in /usr/local/lib/python3.10/dist-packages (from ipython>=5.0.0->ipykernel->jupyter->tile2net==0.3.0) (4.8.0)\n",
            "Requirement already satisfied: jupyter-server>=1.8 in /usr/local/lib/python3.10/dist-packages (from nbclassic>=0.4.7->notebook->jupyter->tile2net==0.3.0) (1.24.0)\n",
            "Requirement already satisfied: notebook-shim>=0.2.3 in /usr/local/lib/python3.10/dist-packages (from nbclassic>=0.4.7->notebook->jupyter->tile2net==0.3.0) (0.2.3)\n",
            "Requirement already satisfied: fastjsonschema in /usr/local/lib/python3.10/dist-packages (from nbformat>=5.1->nbconvert->jupyter->tile2net==0.3.0) (2.18.1)\n",
            "Requirement already satisfied: jsonschema>=2.6 in /usr/local/lib/python3.10/dist-packages (from nbformat>=5.1->nbconvert->jupyter->tile2net==0.3.0) (4.19.1)\n",
            "Requirement already satisfied: wcwidth in /usr/local/lib/python3.10/dist-packages (from prompt-toolkit!=3.0.0,!=3.0.1,<3.1.0,>=2.0.0->jupyter-console->jupyter->tile2net==0.3.0) (0.2.8)\n",
            "Requirement already satisfied: ptyprocess in /usr/local/lib/python3.10/dist-packages (from terminado>=0.8.3->notebook->jupyter->tile2net==0.3.0) (0.7.0)\n",
            "Requirement already satisfied: argon2-cffi-bindings in /usr/local/lib/python3.10/dist-packages (from argon2-cffi->notebook->jupyter->tile2net==0.3.0) (21.2.0)\n",
            "Requirement already satisfied: webencodings in /usr/local/lib/python3.10/dist-packages (from bleach->nbconvert->jupyter->tile2net==0.3.0) (0.5.1)\n",
            "Requirement already satisfied: parso<0.9.0,>=0.8.3 in /usr/local/lib/python3.10/dist-packages (from jedi>=0.16->ipython>=5.0.0->ipykernel->jupyter->tile2net==0.3.0) (0.8.3)\n",
            "Requirement already satisfied: jsonschema-specifications>=2023.03.6 in /usr/local/lib/python3.10/dist-packages (from jsonschema>=2.6->nbformat>=5.1->nbconvert->jupyter->tile2net==0.3.0) (2023.7.1)\n",
            "Requirement already satisfied: referencing>=0.28.4 in /usr/local/lib/python3.10/dist-packages (from jsonschema>=2.6->nbformat>=5.1->nbconvert->jupyter->tile2net==0.3.0) (0.30.2)\n",
            "Requirement already satisfied: rpds-py>=0.7.1 in /usr/local/lib/python3.10/dist-packages (from jsonschema>=2.6->nbformat>=5.1->nbconvert->jupyter->tile2net==0.3.0) (0.10.6)\n",
            "Requirement already satisfied: anyio<4,>=3.1.0 in /usr/local/lib/python3.10/dist-packages (from jupyter-server>=1.8->nbclassic>=0.4.7->notebook->jupyter->tile2net==0.3.0) (3.7.1)\n",
            "Requirement already satisfied: websocket-client in /usr/local/lib/python3.10/dist-packages (from jupyter-server>=1.8->nbclassic>=0.4.7->notebook->jupyter->tile2net==0.3.0) (1.6.4)\n",
            "Requirement already satisfied: cffi>=1.0.1 in /usr/local/lib/python3.10/dist-packages (from argon2-cffi-bindings->argon2-cffi->notebook->jupyter->tile2net==0.3.0) (1.16.0)\n",
            "Requirement already satisfied: sniffio>=1.1 in /usr/local/lib/python3.10/dist-packages (from anyio<4,>=3.1.0->jupyter-server>=1.8->nbclassic>=0.4.7->notebook->jupyter->tile2net==0.3.0) (1.3.0)\n",
            "Requirement already satisfied: pycparser in /usr/local/lib/python3.10/dist-packages (from cffi>=1.0.1->argon2-cffi-bindings->argon2-cffi->notebook->jupyter->tile2net==0.3.0) (2.21)\n",
            "Building wheels for collected packages: tile2net\n",
            "  Building editable for tile2net (pyproject.toml) ... \u001b[?25l\u001b[?25hdone\n",
            "  Created wheel for tile2net: filename=tile2net-0.3.0-0.editable-py3-none-any.whl size=7129 sha256=ca4d733ddae46413f394bc689023a7ef74b8aaaeb25c70473009a31fd29a0fd4\n",
            "  Stored in directory: /tmp/pip-ephem-wheel-cache-lm0ujl7z/wheels/a5/bd/75/79a9fbaad70a2644aa29bcc252739705b54fab92852d511c64\n",
            "Successfully built tile2net\n",
            "Installing collected packages: tile2net\n",
            "  Attempting uninstall: tile2net\n",
            "    Found existing installation: tile2net 0.3.0\n",
            "    Uninstalling tile2net-0.3.0:\n",
            "      Successfully uninstalled tile2net-0.3.0\n",
            "Successfully installed tile2net-0.3.0\n"
          ]
        }
      ],
      "source": [
        "!conda create --name testenv python==3.11\n",
        "!conda activate testenv\n",
        "!python -m pip install -e ."
      ]
    },
    {
      "cell_type": "markdown",
      "metadata": {},
      "source": [
        "## Step 3: Start Generating a Network!\n",
        "\n",
        "You're pretty much done! All you need to do is call the following bash command. It has the following parts:\n",
        "\n",
        "- generate\n",
        "    - *-l*: location bounding box, defined as a list of four coordinates `\"latitude_1, longitude_1, latitude_2, longitude_2\"`, where `latitude_1, longitude_1` represent the top left corner of the bounding box, and `latitude_2, longitude_2` represent the bottom right corner\n",
        "    - *-n*: name of your project, used in filepaths when generating files\n",
        "    - *-o*: output folder where the files will be generated. This can be anything you'd like, since the folders will be created dynamically in Colab. This is not strictly true if you are running this command locally on your computer. \n",
        "- inference\n",
        "\n",
        "if region they have doesn't exist, they can put the pattern of the filepath there\n",
        "better to give exact lat and lon when you have the data on your own\n",
        "or --input\n",
        "-i \"path/to/tile/z/x/y.png\" = file path to your tiles, it has to be a string literal. You need to pass -z=zoom if you do this\n",
        "-i \"path/to/tile/x_y.png\". You need the x and y there\n",
        "if not slippy tile format (.tif file)"
      ]
    },
    {
      "cell_type": "code",
      "execution_count": null,
      "metadata": {
        "colab": {
          "base_uri": "https://localhost:8080/"
        },
        "id": "i-GbQPHdxlCe",
        "outputId": "58ce12db-e630-4c61-a2ea-769e4d1c2882"
      },
      "outputs": [
        {
          "name": "stdout",
          "output_type": "stream",
          "text": [
            "2023-11-06 16:54:06.210549: E tensorflow/compiler/xla/stream_executor/cuda/cuda_dnn.cc:9342] Unable to register cuDNN factory: Attempting to register factory for plugin cuDNN when one has already been registered\n",
            "2023-11-06 16:54:06.210616: E tensorflow/compiler/xla/stream_executor/cuda/cuda_fft.cc:609] Unable to register cuFFT factory: Attempting to register factory for plugin cuFFT when one has already been registered\n",
            "2023-11-06 16:54:06.210656: E tensorflow/compiler/xla/stream_executor/cuda/cuda_blas.cc:1518] Unable to register cuBLAS factory: Attempting to register factory for plugin cuBLAS when one has already been registered\n",
            "2023-11-06 16:54:06.222942: I tensorflow/core/platform/cpu_feature_guard.cc:182] This TensorFlow binary is optimized to use available CPU instructions in performance-critical operations.\n",
            "To enable the following instructions: AVX2 FMA, in other operations, rebuild TensorFlow with the appropriate compiler flags.\n",
            "2023-11-06 16:54:06.280839: E tensorflow/compiler/xla/stream_executor/cuda/cuda_dnn.cc:9342] Unable to register cuDNN factory: Attempting to register factory for plugin cuDNN when one has already been registered\n",
            "2023-11-06 16:54:06.280892: E tensorflow/compiler/xla/stream_executor/cuda/cuda_fft.cc:609] Unable to register cuFFT factory: Attempting to register factory for plugin cuFFT when one has already been registered\n",
            "2023-11-06 16:54:06.280930: E tensorflow/compiler/xla/stream_executor/cuda/cuda_blas.cc:1518] Unable to register cuBLAS factory: Attempting to register factory for plugin cuBLAS when one has already been registered\n",
            "2023-11-06 16:54:06.294520: I tensorflow/core/platform/cpu_feature_guard.cc:182] This TensorFlow binary is optimized to use available CPU instructions in performance-critical operations.\n",
            "To enable the following instructions: AVX2 FMA, in other operations, rebuild TensorFlow with the appropriate compiler flags.\n",
            "2023-11-06 16:54:08.033066: W tensorflow/compiler/tf2tensorrt/utils/py_utils.cc:38] TF-TRT Warning: Could not find TensorRT\n",
            "2023-11-06 16:54:08.069400: W tensorflow/compiler/tf2tensorrt/utils/py_utils.cc:38] TF-TRT Warning: Could not find TensorRT\n",
            "INFO       Geocoding [42.3536483721, -71.0716891532, 42.3555518995, -71.0643742337], this may take awhile...\n",
            "INFO       Using Massachusetts as the source at location=[42.3536483721, -71.0716891532, 42.3555518995, -71.0643742337]\n",
            "INFO       Using base_tilesize=256 from source\n",
            "INFO       Stitching Tiles...\n",
            "           Checking 96 files...                   : 100% 96/96 [00:00<00:00, 92927.11it/s]\n",
            "INFO       All 96 tiles are on disk.\n",
            "INFO       All tiles already stitched.\n",
            "INFO       Dumping to content/output/example/tiles/example_256_info.json\n",
            "DEBUG      Inference piped\n",
            "INFO       Inferencing. Segmentation results will be saved to content/output/example/segmentation\n",
            "Using regular batch norm\n",
            "ignore_label = -1\n",
            "num_classes = 4\n",
            "Found 6 folder imgs\n",
            "all imgs 6\n",
            "Using Per Image based weighted loss\n",
            "Using Cross Entropy Loss\n",
            "Loading weights from: checkpoint=/content/tile2net/src/tile2net/raster/resources/assets/weights/satellite_2021.pth\n",
            "=> init weights from normal distribution\n",
            "=> loading pretrained model /content/tile2net/src/tile2net/raster/resources/assets/weights/hrnetv2_w48_imagenet_pretrained.pth\n",
            "Trunk: hrnetv2\n",
            "Model params = 72.1M\n",
            "INFO       Using base_tilesize=256 from source\n",
            "Inference [Iter: 1 / 6]\n",
            "WARNING    Number of invalid geometries: 0 out of 45\n",
            "WARNING    Number of invalid geometries: 0 out of 31\n",
            "WARNING    Number of invalid geometries: 0 out of 15\n",
            "WARNING    Number of invalid geometries: 0 out of 14\n",
            "WARNING    Number of invalid geometries: 0 out of 31\n",
            "WARNING    Number of invalid geometries: 0 out of 25\n",
            "INFO       Polygons are generated and saved!\n",
            "INFO       Starting network creation...\n",
            "gdf     value    f_type  convexity                                           geometry\n",
            "14  255.0  sidewalk   0.516802  POLYGON ((-7911475.473 5213850.914, -7911441.4...\n",
            "15  255.0  sidewalk   1.000000  POLYGON ((-7911339.619 5213887.340, -7911338.4...\n",
            "16  255.0  sidewalk   0.194258  POLYGON ((-7911582.664 5213871.814, -7911591.9...\n",
            "17  255.0  sidewalk   0.734198  POLYGON ((-7911302.296 5213905.852, -7911296.6...\n",
            "18  255.0  sidewalk   0.200540  POLYGON ((-7911619.091 5213959.596, -7911660.8...\n",
            "19  255.0  sidewalk   1.000000  POLYGON ((-7911689.258 5214068.579, -7911687.4...\n",
            "20  255.0  sidewalk   0.503436  POLYGON ((-7911671.045 5214097.542, -7911681.7...\n",
            "21  255.0  sidewalk   1.000000  POLYGON ((-7911280.201 5214119.936, -7911287.0...\n",
            "22  255.0  sidewalk   0.653792  POLYGON ((-7911691.050 5214130.088, -7911691.0...\n",
            "23  255.0  sidewalk   0.209847  POLYGON ((-7911633.722 5214165.320, -7911632.5...\n",
            "24  255.0  sidewalk   1.000000  POLYGON ((-7911362.012 5214319.686, -7911364.4...\n",
            "25  255.0  sidewalk   0.723110  POLYGON ((-7911365.894 5214407.470, -7911385.3...\n",
            "26  255.0  sidewalk   1.000000  POLYGON ((-7911691.050 5214406.276, -7911690.4...\n",
            "27  255.0  sidewalk   1.000000  POLYGON ((-7911400.116 5214413.655, -7911406.5...\n",
            "28  255.0  sidewalk   1.000000  POLYGON ((-7911620.883 5214432.551, -7911623.2...\n",
            "29  255.0  sidewalk   1.000000  POLYGON ((-7911627.452 5214451.064, -7911628.9...\n",
            "30  255.0  sidewalk   1.000000  POLYGON ((-7911219.887 5213854.795, -7911221.0...\n",
            "31  255.0  sidewalk   0.254317  POLYGON ((-7910870.247 5213846.136, -7910874.4...\n",
            "32  255.0  sidewalk   0.115579  POLYGON ((-7911178.981 5213918.990, -7911179.8...\n",
            "33  255.0  sidewalk   0.283660  POLYGON ((-7911207.347 5213878.084, -7911215.4...\n",
            "34  255.0  sidewalk   1.000000  POLYGON ((-7911218.991 5213934.516, -7911223.4...\n",
            "35  255.0  sidewalk   1.000000  POLYGON ((-7911188.835 5213941.383, -7911192.7...\n",
            "36  255.0  sidewalk   0.141770  POLYGON ((-7910851.138 5213933.321, -7910851.1...\n",
            "37  255.0  sidewalk   1.000000  POLYGON ((-7911124.938 5214033.943, -7911123.4...\n",
            "38  255.0  sidewalk   1.000000  POLYGON ((-7910773.805 5214055.143, -7910777.0...\n",
            "39  255.0  sidewalk   1.000000  POLYGON ((-7911270.167 5214095.521, -7911274.0...\n",
            "40  255.0  sidewalk   0.264418  POLYGON ((-7910816.503 5214079.030, -7910818.2...\n",
            "41  255.0  sidewalk   1.000000  POLYGON ((-7911252.134 5214136.059, -7911259.3...\n",
            "42  255.0  sidewalk   1.000000  POLYGON ((-7911047.904 5214188.012, -7911050.8...\n",
            "43  255.0  sidewalk   0.216476  POLYGON ((-7911196.000 5213984.379, -7911200.7...\n",
            "44  255.0  sidewalk   1.000000  POLYGON ((-7911051.188 5214190.102, -7911057.1...\n",
            "45  255.0  sidewalk   0.737320  POLYGON ((-7910919.513 5214453.751, -7910932.3...\n",
            "100% 32/32 [00:00<00:00, 3401.28it/s]\n",
            "in Elongation: 14    POLYGON ((-7911475.473 5213850.914, -7911441.4...\n",
            "15    POLYGON ((-7911339.619 5213887.340, -7911338.4...\n",
            "16    POLYGON ((-7911582.664 5213871.814, -7911591.9...\n",
            "17    POLYGON ((-7911302.296 5213905.852, -7911296.6...\n",
            "18    POLYGON ((-7911619.091 5213959.596, -7911660.8...\n",
            "19    POLYGON ((-7911689.258 5214068.579, -7911687.4...\n",
            "20    POLYGON ((-7911671.045 5214097.542, -7911681.7...\n",
            "21    POLYGON ((-7911280.201 5214119.936, -7911287.0...\n",
            "22    POLYGON ((-7911691.050 5214130.088, -7911691.0...\n",
            "23    POLYGON ((-7911633.722 5214165.320, -7911632.5...\n",
            "24    POLYGON ((-7911362.012 5214319.686, -7911364.4...\n",
            "25    POLYGON ((-7911365.894 5214407.470, -7911385.3...\n",
            "26    POLYGON ((-7911691.050 5214406.276, -7911690.4...\n",
            "27    POLYGON ((-7911400.116 5214413.655, -7911406.5...\n",
            "28    POLYGON ((-7911620.883 5214432.551, -7911623.2...\n",
            "29    POLYGON ((-7911627.452 5214451.064, -7911628.9...\n",
            "30    POLYGON ((-7911219.887 5213854.795, -7911221.0...\n",
            "31    POLYGON ((-7910870.247 5213846.136, -7910874.4...\n",
            "32    POLYGON ((-7911178.981 5213918.990, -7911179.8...\n",
            "33    POLYGON ((-7911207.347 5213878.084, -7911215.4...\n",
            "34    POLYGON ((-7911218.991 5213934.516, -7911223.4...\n",
            "35    POLYGON ((-7911188.835 5213941.383, -7911192.7...\n",
            "36    POLYGON ((-7910851.138 5213933.321, -7910851.1...\n",
            "37    POLYGON ((-7911124.938 5214033.943, -7911123.4...\n",
            "38    POLYGON ((-7910773.805 5214055.143, -7910777.0...\n",
            "39    POLYGON ((-7911270.167 5214095.521, -7911274.0...\n",
            "40    POLYGON ((-7910816.503 5214079.030, -7910818.2...\n",
            "41    POLYGON ((-7911252.134 5214136.059, -7911259.3...\n",
            "42    POLYGON ((-7911047.904 5214188.012, -7911050.8...\n",
            "43    POLYGON ((-7911196.000 5213984.379, -7911200.7...\n",
            "44    POLYGON ((-7911051.188 5214190.102, -7911057.1...\n",
            "45    POLYGON ((-7910919.513 5214453.751, -7910932.3...\n",
            "Name: geometry, dtype: geometry\n",
            "100% 32/32 [00:00<00:00, 2011.51it/s]\n",
            "INFO       ..... creating the processed sidewalk network\n",
            "/usr/local/lib/python3.10/dist-packages/geopandas/array.py:1486: UserWarning: CRS not set for some of the concatenation inputs. Setting output's CRS as WGS 84 / Pseudo-Mercator (the single non-null crs provided).\n",
            "  warnings.warn(\n",
            "WARNING    Number of invalid geometries: 0 out of 14\n",
            "WARNING    Number of invalid geometries: 0 out of 14\n",
            "100% 14/14 [00:00<00:00, 6739.38it/s]\n",
            "in Elongation: 0     POLYGON ((-7911539.258 5213846.019, -7911543.6...\n",
            "1     POLYGON ((-7911394.346 5213880.110, -7911399.7...\n",
            "2     POLYGON ((-7911611.736 5213963.831, -7911612.3...\n",
            "3     POLYGON ((-7911637.209 5214094.905, -7911636.9...\n",
            "4     POLYGON ((-7911667.938 5214120.149, -7911672.9...\n",
            "5     POLYGON ((-7911317.870 5214223.418, -7911322.7...\n",
            "6     POLYGON ((-7911609.128 5214409.197, -7911613.2...\n",
            "7     POLYGON ((-7910854.609 5213911.581, -7910857.0...\n",
            "8     POLYGON ((-7911202.631 5213916.194, -7911205.6...\n",
            "9     POLYGON ((-7911179.086 5213946.199, -7911173.6...\n",
            "10    POLYGON ((-7911216.325 5213948.713, -7911223.3...\n",
            "11    POLYGON ((-7911194.413 5213982.329, -7911194.0...\n",
            "12    POLYGON ((-7910778.211 5214056.227, -7910783.4...\n",
            "13    POLYGON ((-7910825.122 5214070.265, -7910840.4...\n",
            "Name: geometry, dtype: geometry\n",
            "100% 14/14 [00:00<00:00, 4377.21it/s]\n",
            "/usr/local/lib/python3.10/dist-packages/shapely/linear.py:208: RuntimeWarning: invalid value encountered in shortest_line\n",
            "  return lib.shortest_line(a, b, **kwargs)\n"
          ]
        }
      ],
      "source": [
        "!python -m tile2net generate -l \"42.35555189953313, -71.07168915322092, 42.35364837213307, -71.06437423368418\" -n example -o \"content/output\"  | python -m tile2net inference"
      ]
    },
    {
      "cell_type": "markdown",
      "metadata": {},
      "source": [
        "## Python Modules"
      ]
    }
  ],
  "metadata": {
    "accelerator": "GPU",
    "colab": {
      "gpuType": "T4",
      "provenance": []
    },
    "kernelspec": {
      "display_name": "Python 3",
      "name": "python3"
    },
    "language_info": {
      "name": "python"
    }
  },
  "nbformat": 4,
  "nbformat_minor": 0
}
