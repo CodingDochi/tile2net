{
  "cells": [
    {
      "cell_type": "markdown",
      "metadata": {
        "id": "I_iiHOpKuUTE"
      },
      "source": [
        "# Running Tile2Net on Colab\n",
        "\n",
        "If you don't have access to a physical GPU on your computer, or your GPU is not powerful enough, you can use the following workflow to use the tool!\n",
        "\n",
        "There are two ways to use Tile2Net - via the command line or via imported python modules. Using a Colab workflow, the first way is a bit more straightforward, but both are possible.\n",
        "\n",
        "You will notice exclamation points `!` and percent symbols `%` at the front of many code blocks in this notebook. Both are Colab syntax used to execute bash commands and \"magic\" commands in the colab environment. The relevant magic commands will be explained as they come up.\n",
        "\n",
        "## Command Line Interface\n",
        "\n",
        "### Step 0: Mount Google Drive\n",
        "\n",
        "This step is optional, and is only necessary if you plan to upload your own tiles to the tool."
      ]
    },
    {
      "cell_type": "code",
      "execution_count": 1,
      "metadata": {
        "colab": {
          "base_uri": "https://localhost:8080/"
        },
        "id": "j9DfBKFnBuSn",
        "outputId": "f2747b1e-bff1-4d32-8a1e-997696fb5035"
      },
      "outputs": [
        {
          "name": "stdout",
          "output_type": "stream",
          "text": [
            "Mounted at /content/drive\n"
          ]
        }
      ],
      "source": [
        "from google.colab import drive\n",
        "drive.mount('/content/drive')"
      ]
    },
    {
      "cell_type": "markdown",
      "metadata": {
        "id": "FZxvTk1pBDxy"
      },
      "source": [
        "### Step 1: Clone the Repository"
      ]
    },
    {
      "cell_type": "code",
      "execution_count": 2,
      "metadata": {
        "colab": {
          "base_uri": "https://localhost:8080/"
        },
        "id": "jRu2L-ME6bxl",
        "outputId": "2444c61e-d46e-4930-e39c-63223454ae8c"
      },
      "outputs": [
        {
          "name": "stdout",
          "output_type": "stream",
          "text": [
            "Cloning into 'tile2net'...\n",
            "remote: Enumerating objects: 1220, done.\u001b[K\n",
            "remote: Counting objects: 100% (741/741), done.\u001b[K\n",
            "remote: Compressing objects: 100% (239/239), done.\u001b[K\n",
            "remote: Total 1220 (delta 506), reused 582 (delta 449), pack-reused 479\u001b[K\n",
            "Receiving objects: 100% (1220/1220), 1.86 MiB | 26.88 MiB/s, done.\n",
            "Resolving deltas: 100% (698/698), done.\n"
          ]
        }
      ],
      "source": [
        "!git clone https://github.com/VIDA-NYU/tile2net.git"
      ]
    },
    {
      "cell_type": "markdown",
      "metadata": {
        "id": "aWksRf4huUTN"
      },
      "source": [
        "Once the repository has cloned, you can use the magic `%cd` command to go into the resulting    tile2net `directory`. It is important to use the magic command rather than calling `!cd`, because the latter creates a temporary subshell in which the command is called, whereas the former will persist the directory change."
      ]
    },
    {
      "cell_type": "code",
      "execution_count": 3,
      "metadata": {
        "colab": {
          "base_uri": "https://localhost:8080/"
        },
        "id": "iyN62x3Wufz5",
        "outputId": "7af9edc3-8a00-406c-d0d8-398843e70b65"
      },
      "outputs": [
        {
          "name": "stdout",
          "output_type": "stream",
          "text": [
            "/content\n"
          ]
        }
      ],
      "source": [
        "!cd tile2net\n",
        "!pwd"
      ]
    },
    {
      "cell_type": "code",
      "execution_count": 4,
      "metadata": {
        "colab": {
          "base_uri": "https://localhost:8080/"
        },
        "id": "LcQdVR4-6u2Z",
        "outputId": "df88f4fd-907e-465e-e094-3d9ad8d26dc3"
      },
      "outputs": [
        {
          "name": "stdout",
          "output_type": "stream",
          "text": [
            "/content/tile2net\n",
            "/content/tile2net\n"
          ]
        }
      ],
      "source": [
        "%cd tile2net\n",
        "!pwd"
      ]
    },
    {
      "cell_type": "markdown",
      "metadata": {
        "id": "QjY6xjO_uUTR"
      },
      "source": [
        "Always make sure you're up to date with the latest version of the code!"
      ]
    },
    {
      "cell_type": "code",
      "execution_count": 5,
      "metadata": {
        "colab": {
          "base_uri": "https://localhost:8080/"
        },
        "id": "LE67k4kKwc8-",
        "outputId": "664d064e-85dd-4419-f767-bc9c1ffc17db"
      },
      "outputs": [
        {
          "name": "stdout",
          "output_type": "stream",
          "text": [
            "Already up to date.\n"
          ]
        }
      ],
      "source": [
        "!git pull"
      ]
    },
    {
      "cell_type": "markdown",
      "metadata": {
        "id": "1ng5TNAjuUTW"
      },
      "source": [
        "### Step 2: Activate a Virtual Environment and Install Dependencies\n",
        "\n",
        "When using Colab, it is not necessary to create a conda environment, because each session creates its own environment. The following command installs all of the dependencies present in the [requirements-dev.txt](https://github.com/VIDA-NYU/tile2net/blob/main/requirements-dev.txt) file (That's what the period at the end does!)"
      ]
    },
    {
      "cell_type": "code",
      "execution_count": 6,
      "metadata": {
        "colab": {
          "base_uri": "https://localhost:8080/"
        },
        "id": "ZZ5c_ZGO27Ln",
        "outputId": "50eab5c2-0cfb-40d2-9fd5-146c21178e1b"
      },
      "outputs": [
        {
          "name": "stdout",
          "output_type": "stream",
          "text": [
            "Obtaining file:///content/tile2net\n",
            "  Installing build dependencies ... \u001b[?25l\u001b[?25hdone\n",
            "  Checking if build backend supports build_editable ... \u001b[?25l\u001b[?25hdone\n",
            "  Getting requirements to build editable ... \u001b[?25l\u001b[?25hdone\n",
            "  Preparing editable metadata (pyproject.toml) ... \u001b[?25l\u001b[?25hdone\n",
            "Collecting centerline (from tile2net==0.3.0)\n",
            "  Downloading centerline-1.0.1-py2.py3-none-any.whl (7.9 kB)\n",
            "Collecting jupyter (from tile2net==0.3.0)\n",
            "  Downloading jupyter-1.0.0-py2.py3-none-any.whl (2.7 kB)\n",
            "Requirement already satisfied: geopandas in /usr/local/lib/python3.10/dist-packages (from tile2net==0.3.0) (0.13.2)\n",
            "Requirement already satisfied: geopy in /usr/local/lib/python3.10/dist-packages (from tile2net==0.3.0) (2.3.0)\n",
            "Requirement already satisfied: matplotlib in /usr/local/lib/python3.10/dist-packages (from tile2net==0.3.0) (3.7.1)\n",
            "Collecting momepy (from tile2net==0.3.0)\n",
            "  Downloading momepy-0.7.0-py3-none-any.whl (277 kB)\n",
            "\u001b[2K     \u001b[90m━━━━━━━━━━━━━━━━━━━━━━━━━━━━━━━━━━━━━━━━\u001b[0m \u001b[32m277.8/277.8 kB\u001b[0m \u001b[31m5.0 MB/s\u001b[0m eta \u001b[36m0:00:00\u001b[0m\n",
            "\u001b[?25hRequirement already satisfied: numba in /usr/local/lib/python3.10/dist-packages (from tile2net==0.3.0) (0.58.1)\n",
            "Requirement already satisfied: opencv-python in /usr/local/lib/python3.10/dist-packages (from tile2net==0.3.0) (4.8.0.76)\n",
            "Collecting osmnx (from tile2net==0.3.0)\n",
            "  Downloading osmnx-1.8.1-py3-none-any.whl (102 kB)\n",
            "\u001b[2K     \u001b[90m━━━━━━━━━━━━━━━━━━━━━━━━━━━━━━━━━━━━━━━━\u001b[0m \u001b[32m102.8/102.8 kB\u001b[0m \u001b[31m14.9 MB/s\u001b[0m eta \u001b[36m0:00:00\u001b[0m\n",
            "\u001b[?25hRequirement already satisfied: pillow in /usr/local/lib/python3.10/dist-packages (from tile2net==0.3.0) (9.4.0)\n",
            "Requirement already satisfied: pyarrow in /usr/local/lib/python3.10/dist-packages (from tile2net==0.3.0) (10.0.1)\n",
            "Collecting pyogrio (from tile2net==0.3.0)\n",
            "  Downloading pyogrio-0.7.2-cp310-cp310-manylinux_2_17_x86_64.manylinux2014_x86_64.whl (22.0 MB)\n",
            "\u001b[2K     \u001b[90m━━━━━━━━━━━━━━━━━━━━━━━━━━━━━━━━━━━━━━━━\u001b[0m \u001b[32m22.0/22.0 MB\u001b[0m \u001b[31m19.1 MB/s\u001b[0m eta \u001b[36m0:00:00\u001b[0m\n",
            "\u001b[?25hCollecting rasterio (from tile2net==0.3.0)\n",
            "  Downloading rasterio-1.3.9-cp310-cp310-manylinux2014_x86_64.whl (20.6 MB)\n",
            "\u001b[2K     \u001b[90m━━━━━━━━━━━━━━━━━━━━━━━━━━━━━━━━━━━━━━━━\u001b[0m \u001b[32m20.6/20.6 MB\u001b[0m \u001b[31m39.9 MB/s\u001b[0m eta \u001b[36m0:00:00\u001b[0m\n",
            "\u001b[?25hRequirement already satisfied: scikit-image in /usr/local/lib/python3.10/dist-packages (from tile2net==0.3.0) (0.19.3)\n",
            "Requirement already satisfied: scikit-learn in /usr/local/lib/python3.10/dist-packages (from tile2net==0.3.0) (1.2.2)\n",
            "Collecting shapely==2.0.1 (from tile2net==0.3.0)\n",
            "  Downloading shapely-2.0.1-cp310-cp310-manylinux_2_17_x86_64.manylinux2014_x86_64.whl (2.3 MB)\n",
            "\u001b[2K     \u001b[90m━━━━━━━━━━━━━━━━━━━━━━━━━━━━━━━━━━━━━━━━\u001b[0m \u001b[32m2.3/2.3 MB\u001b[0m \u001b[31m93.4 MB/s\u001b[0m eta \u001b[36m0:00:00\u001b[0m\n",
            "\u001b[?25hRequirement already satisfied: tqdm in /usr/local/lib/python3.10/dist-packages (from tile2net==0.3.0) (4.66.1)\n",
            "Requirement already satisfied: torch in /usr/local/lib/python3.10/dist-packages (from tile2net==0.3.0) (2.1.0+cu121)\n",
            "Requirement already satisfied: torchvision in /usr/local/lib/python3.10/dist-packages (from tile2net==0.3.0) (0.16.0+cu121)\n",
            "Collecting argh==0.29.4 (from tile2net==0.3.0)\n",
            "  Downloading argh-0.29.4-py3-none-any.whl (40 kB)\n",
            "\u001b[2K     \u001b[90m━━━━━━━━━━━━━━━━━━━━━━━━━━━━━━━━━━━━━━━━\u001b[0m \u001b[32m40.5/40.5 kB\u001b[0m \u001b[31m5.5 MB/s\u001b[0m eta \u001b[36m0:00:00\u001b[0m\n",
            "\u001b[?25hCollecting coolname (from tile2net==0.3.0)\n",
            "  Downloading coolname-2.2.0-py2.py3-none-any.whl (37 kB)\n",
            "Requirement already satisfied: tabulate in /usr/local/lib/python3.10/dist-packages (from tile2net==0.3.0) (0.9.0)\n",
            "Collecting tensorboardx (from tile2net==0.3.0)\n",
            "  Downloading tensorboardX-2.6.2.2-py2.py3-none-any.whl (101 kB)\n",
            "\u001b[2K     \u001b[90m━━━━━━━━━━━━━━━━━━━━━━━━━━━━━━━━━━━━━━━━\u001b[0m \u001b[32m101.7/101.7 kB\u001b[0m \u001b[31m15.0 MB/s\u001b[0m eta \u001b[36m0:00:00\u001b[0m\n",
            "\u001b[?25hRequirement already satisfied: packaging in /usr/local/lib/python3.10/dist-packages (from tile2net==0.3.0) (23.2)\n",
            "Requirement already satisfied: sphinx in /usr/local/lib/python3.10/dist-packages (from tile2net==0.3.0) (5.0.2)\n",
            "Requirement already satisfied: torchaudio in /usr/local/lib/python3.10/dist-packages (from tile2net==0.3.0) (2.1.0+cu121)\n",
            "Collecting runx (from tile2net==0.3.0)\n",
            "  Downloading runx-0.0.11-py3-none-any.whl (29 kB)\n",
            "Requirement already satisfied: toolz in /usr/local/lib/python3.10/dist-packages (from tile2net==0.3.0) (0.12.0)\n",
            "Requirement already satisfied: more-itertools in /usr/local/lib/python3.10/dist-packages (from tile2net==0.3.0) (10.1.0)\n",
            "Requirement already satisfied: gdown in /usr/local/lib/python3.10/dist-packages (from tile2net==0.3.0) (4.6.6)\n",
            "Requirement already satisfied: pytest in /usr/local/lib/python3.10/dist-packages (from tile2net==0.3.0) (7.4.3)\n",
            "Requirement already satisfied: imageio in /usr/local/lib/python3.10/dist-packages (from tile2net==0.3.0) (2.31.6)\n",
            "Requirement already satisfied: numpy>=1.14 in /usr/local/lib/python3.10/dist-packages (from shapely==2.0.1->tile2net==0.3.0) (1.23.5)\n",
            "Requirement already satisfied: Fiona>=1.7.0 in /usr/local/lib/python3.10/dist-packages (from centerline->tile2net==0.3.0) (1.9.5)\n",
            "Requirement already satisfied: scipy>=0.16.1 in /usr/local/lib/python3.10/dist-packages (from centerline->tile2net==0.3.0) (1.11.4)\n",
            "Requirement already satisfied: Click>=7.0 in /usr/local/lib/python3.10/dist-packages (from centerline->tile2net==0.3.0) (8.1.7)\n",
            "Requirement already satisfied: filelock in /usr/local/lib/python3.10/dist-packages (from gdown->tile2net==0.3.0) (3.13.1)\n",
            "Requirement already satisfied: requests[socks] in /usr/local/lib/python3.10/dist-packages (from gdown->tile2net==0.3.0) (2.31.0)\n",
            "Requirement already satisfied: six in /usr/local/lib/python3.10/dist-packages (from gdown->tile2net==0.3.0) (1.16.0)\n",
            "Requirement already satisfied: beautifulsoup4 in /usr/local/lib/python3.10/dist-packages (from gdown->tile2net==0.3.0) (4.11.2)\n",
            "Requirement already satisfied: pandas>=1.1.0 in /usr/local/lib/python3.10/dist-packages (from geopandas->tile2net==0.3.0) (1.5.3)\n",
            "Requirement already satisfied: pyproj>=3.0.1 in /usr/local/lib/python3.10/dist-packages (from geopandas->tile2net==0.3.0) (3.6.1)\n",
            "Requirement already satisfied: geographiclib<3,>=1.52 in /usr/local/lib/python3.10/dist-packages (from geopy->tile2net==0.3.0) (2.0)\n",
            "Requirement already satisfied: notebook in /usr/local/lib/python3.10/dist-packages (from jupyter->tile2net==0.3.0) (6.5.5)\n",
            "Collecting qtconsole (from jupyter->tile2net==0.3.0)\n",
            "  Downloading qtconsole-5.5.1-py3-none-any.whl (123 kB)\n",
            "\u001b[2K     \u001b[90m━━━━━━━━━━━━━━━━━━━━━━━━━━━━━━━━━━━━━━━━\u001b[0m \u001b[32m123.4/123.4 kB\u001b[0m \u001b[31m18.0 MB/s\u001b[0m eta \u001b[36m0:00:00\u001b[0m\n",
            "\u001b[?25hRequirement already satisfied: jupyter-console in /usr/local/lib/python3.10/dist-packages (from jupyter->tile2net==0.3.0) (6.1.0)\n",
            "Requirement already satisfied: nbconvert in /usr/local/lib/python3.10/dist-packages (from jupyter->tile2net==0.3.0) (6.5.4)\n",
            "Requirement already satisfied: ipykernel in /usr/local/lib/python3.10/dist-packages (from jupyter->tile2net==0.3.0) (5.5.6)\n",
            "Requirement already satisfied: ipywidgets in /usr/local/lib/python3.10/dist-packages (from jupyter->tile2net==0.3.0) (7.7.1)\n",
            "Requirement already satisfied: contourpy>=1.0.1 in /usr/local/lib/python3.10/dist-packages (from matplotlib->tile2net==0.3.0) (1.2.0)\n",
            "Requirement already satisfied: cycler>=0.10 in /usr/local/lib/python3.10/dist-packages (from matplotlib->tile2net==0.3.0) (0.12.1)\n",
            "Requirement already satisfied: fonttools>=4.22.0 in /usr/local/lib/python3.10/dist-packages (from matplotlib->tile2net==0.3.0) (4.47.0)\n",
            "Requirement already satisfied: kiwisolver>=1.0.1 in /usr/local/lib/python3.10/dist-packages (from matplotlib->tile2net==0.3.0) (1.4.5)\n",
            "Requirement already satisfied: pyparsing>=2.3.1 in /usr/local/lib/python3.10/dist-packages (from matplotlib->tile2net==0.3.0) (3.1.1)\n",
            "Requirement already satisfied: python-dateutil>=2.7 in /usr/local/lib/python3.10/dist-packages (from matplotlib->tile2net==0.3.0) (2.8.2)\n",
            "Collecting libpysal>=4.6.0 (from momepy->tile2net==0.3.0)\n",
            "  Downloading libpysal-4.9.2-py3-none-any.whl (2.8 MB)\n",
            "\u001b[2K     \u001b[90m━━━━━━━━━━━━━━━━━━━━━━━━━━━━━━━━━━━━━━━━\u001b[0m \u001b[32m2.8/2.8 MB\u001b[0m \u001b[31m97.4 MB/s\u001b[0m eta \u001b[36m0:00:00\u001b[0m\n",
            "\u001b[?25hRequirement already satisfied: networkx>=2.7 in /usr/local/lib/python3.10/dist-packages (from momepy->tile2net==0.3.0) (3.2.1)\n",
            "Requirement already satisfied: llvmlite<0.42,>=0.41.0dev0 in /usr/local/lib/python3.10/dist-packages (from numba->tile2net==0.3.0) (0.41.1)\n",
            "Requirement already satisfied: certifi in /usr/local/lib/python3.10/dist-packages (from pyogrio->tile2net==0.3.0) (2023.11.17)\n",
            "Requirement already satisfied: iniconfig in /usr/local/lib/python3.10/dist-packages (from pytest->tile2net==0.3.0) (2.0.0)\n",
            "Requirement already satisfied: pluggy<2.0,>=0.12 in /usr/local/lib/python3.10/dist-packages (from pytest->tile2net==0.3.0) (1.3.0)\n",
            "Requirement already satisfied: exceptiongroup>=1.0.0rc8 in /usr/local/lib/python3.10/dist-packages (from pytest->tile2net==0.3.0) (1.2.0)\n",
            "Requirement already satisfied: tomli>=1.0.0 in /usr/local/lib/python3.10/dist-packages (from pytest->tile2net==0.3.0) (2.0.1)\n",
            "Collecting affine (from rasterio->tile2net==0.3.0)\n",
            "  Downloading affine-2.4.0-py3-none-any.whl (15 kB)\n",
            "Requirement already satisfied: attrs in /usr/local/lib/python3.10/dist-packages (from rasterio->tile2net==0.3.0) (23.1.0)\n",
            "Requirement already satisfied: cligj>=0.5 in /usr/local/lib/python3.10/dist-packages (from rasterio->tile2net==0.3.0) (0.7.2)\n",
            "Collecting snuggs>=1.4.1 (from rasterio->tile2net==0.3.0)\n",
            "  Downloading snuggs-1.4.7-py3-none-any.whl (5.4 kB)\n",
            "Requirement already satisfied: click-plugins in /usr/local/lib/python3.10/dist-packages (from rasterio->tile2net==0.3.0) (1.1.1)\n",
            "Requirement already satisfied: setuptools in /usr/local/lib/python3.10/dist-packages (from rasterio->tile2net==0.3.0) (67.7.2)\n",
            "Requirement already satisfied: pyyaml>=5.1.1 in /usr/local/lib/python3.10/dist-packages (from runx->tile2net==0.3.0) (6.0.1)\n",
            "Requirement already satisfied: protobuf>=3.20 in /usr/local/lib/python3.10/dist-packages (from tensorboardx->tile2net==0.3.0) (3.20.3)\n",
            "Requirement already satisfied: tifffile>=2019.7.26 in /usr/local/lib/python3.10/dist-packages (from scikit-image->tile2net==0.3.0) (2023.12.9)\n",
            "Requirement already satisfied: PyWavelets>=1.1.1 in /usr/local/lib/python3.10/dist-packages (from scikit-image->tile2net==0.3.0) (1.5.0)\n",
            "Requirement already satisfied: joblib>=1.1.1 in /usr/local/lib/python3.10/dist-packages (from scikit-learn->tile2net==0.3.0) (1.3.2)\n",
            "Requirement already satisfied: threadpoolctl>=2.0.0 in /usr/local/lib/python3.10/dist-packages (from scikit-learn->tile2net==0.3.0) (3.2.0)\n",
            "Requirement already satisfied: sphinxcontrib-applehelp in /usr/local/lib/python3.10/dist-packages (from sphinx->tile2net==0.3.0) (1.0.7)\n",
            "Requirement already satisfied: sphinxcontrib-devhelp in /usr/local/lib/python3.10/dist-packages (from sphinx->tile2net==0.3.0) (1.0.5)\n",
            "Requirement already satisfied: sphinxcontrib-jsmath in /usr/local/lib/python3.10/dist-packages (from sphinx->tile2net==0.3.0) (1.0.1)\n",
            "Requirement already satisfied: sphinxcontrib-htmlhelp>=2.0.0 in /usr/local/lib/python3.10/dist-packages (from sphinx->tile2net==0.3.0) (2.0.4)\n",
            "Requirement already satisfied: sphinxcontrib-serializinghtml>=1.1.5 in /usr/local/lib/python3.10/dist-packages (from sphinx->tile2net==0.3.0) (1.1.9)\n",
            "Requirement already satisfied: sphinxcontrib-qthelp in /usr/local/lib/python3.10/dist-packages (from sphinx->tile2net==0.3.0) (1.0.6)\n",
            "Requirement already satisfied: Jinja2>=2.3 in /usr/local/lib/python3.10/dist-packages (from sphinx->tile2net==0.3.0) (3.1.2)\n",
            "Requirement already satisfied: Pygments>=2.0 in /usr/local/lib/python3.10/dist-packages (from sphinx->tile2net==0.3.0) (2.16.1)\n",
            "Requirement already satisfied: docutils<0.19,>=0.14 in /usr/local/lib/python3.10/dist-packages (from sphinx->tile2net==0.3.0) (0.18.1)\n",
            "Requirement already satisfied: snowballstemmer>=1.1 in /usr/local/lib/python3.10/dist-packages (from sphinx->tile2net==0.3.0) (2.2.0)\n",
            "Requirement already satisfied: babel>=1.3 in /usr/local/lib/python3.10/dist-packages (from sphinx->tile2net==0.3.0) (2.14.0)\n",
            "Requirement already satisfied: alabaster<0.8,>=0.7 in /usr/local/lib/python3.10/dist-packages (from sphinx->tile2net==0.3.0) (0.7.13)\n",
            "Requirement already satisfied: imagesize in /usr/local/lib/python3.10/dist-packages (from sphinx->tile2net==0.3.0) (1.4.1)\n",
            "Requirement already satisfied: typing-extensions in /usr/local/lib/python3.10/dist-packages (from torch->tile2net==0.3.0) (4.5.0)\n",
            "Requirement already satisfied: sympy in /usr/local/lib/python3.10/dist-packages (from torch->tile2net==0.3.0) (1.12)\n",
            "Requirement already satisfied: fsspec in /usr/local/lib/python3.10/dist-packages (from torch->tile2net==0.3.0) (2023.6.0)\n",
            "Requirement already satisfied: triton==2.1.0 in /usr/local/lib/python3.10/dist-packages (from torch->tile2net==0.3.0) (2.1.0)\n",
            "Requirement already satisfied: MarkupSafe>=2.0 in /usr/local/lib/python3.10/dist-packages (from Jinja2>=2.3->sphinx->tile2net==0.3.0) (2.1.3)\n",
            "Requirement already satisfied: platformdirs>=2.0.2 in /usr/local/lib/python3.10/dist-packages (from libpysal>=4.6.0->momepy->tile2net==0.3.0) (4.1.0)\n",
            "Requirement already satisfied: soupsieve>1.2 in /usr/local/lib/python3.10/dist-packages (from beautifulsoup4->gdown->tile2net==0.3.0) (2.5)\n",
            "Requirement already satisfied: pytz>=2020.1 in /usr/local/lib/python3.10/dist-packages (from pandas>=1.1.0->geopandas->tile2net==0.3.0) (2023.3.post1)\n",
            "Requirement already satisfied: charset-normalizer<4,>=2 in /usr/local/lib/python3.10/dist-packages (from requests[socks]->gdown->tile2net==0.3.0) (3.3.2)\n",
            "Requirement already satisfied: idna<4,>=2.5 in /usr/local/lib/python3.10/dist-packages (from requests[socks]->gdown->tile2net==0.3.0) (3.6)\n",
            "Requirement already satisfied: urllib3<3,>=1.21.1 in /usr/local/lib/python3.10/dist-packages (from requests[socks]->gdown->tile2net==0.3.0) (2.0.7)\n",
            "Requirement already satisfied: ipython-genutils in /usr/local/lib/python3.10/dist-packages (from ipykernel->jupyter->tile2net==0.3.0) (0.2.0)\n",
            "Requirement already satisfied: ipython>=5.0.0 in /usr/local/lib/python3.10/dist-packages (from ipykernel->jupyter->tile2net==0.3.0) (7.34.0)\n",
            "Requirement already satisfied: traitlets>=4.1.0 in /usr/local/lib/python3.10/dist-packages (from ipykernel->jupyter->tile2net==0.3.0) (5.7.1)\n",
            "Requirement already satisfied: jupyter-client in /usr/local/lib/python3.10/dist-packages (from ipykernel->jupyter->tile2net==0.3.0) (6.1.12)\n",
            "Requirement already satisfied: tornado>=4.2 in /usr/local/lib/python3.10/dist-packages (from ipykernel->jupyter->tile2net==0.3.0) (6.3.2)\n",
            "Requirement already satisfied: widgetsnbextension~=3.6.0 in /usr/local/lib/python3.10/dist-packages (from ipywidgets->jupyter->tile2net==0.3.0) (3.6.6)\n",
            "Requirement already satisfied: jupyterlab-widgets>=1.0.0 in /usr/local/lib/python3.10/dist-packages (from ipywidgets->jupyter->tile2net==0.3.0) (3.0.9)\n",
            "Requirement already satisfied: prompt-toolkit!=3.0.0,!=3.0.1,<3.1.0,>=2.0.0 in /usr/local/lib/python3.10/dist-packages (from jupyter-console->jupyter->tile2net==0.3.0) (3.0.43)\n",
            "Requirement already satisfied: lxml in /usr/local/lib/python3.10/dist-packages (from nbconvert->jupyter->tile2net==0.3.0) (4.9.4)\n",
            "Requirement already satisfied: bleach in /usr/local/lib/python3.10/dist-packages (from nbconvert->jupyter->tile2net==0.3.0) (6.1.0)\n",
            "Requirement already satisfied: defusedxml in /usr/local/lib/python3.10/dist-packages (from nbconvert->jupyter->tile2net==0.3.0) (0.7.1)\n",
            "Requirement already satisfied: entrypoints>=0.2.2 in /usr/local/lib/python3.10/dist-packages (from nbconvert->jupyter->tile2net==0.3.0) (0.4)\n",
            "Requirement already satisfied: jupyter-core>=4.7 in /usr/local/lib/python3.10/dist-packages (from nbconvert->jupyter->tile2net==0.3.0) (5.5.1)\n",
            "Requirement already satisfied: jupyterlab-pygments in /usr/local/lib/python3.10/dist-packages (from nbconvert->jupyter->tile2net==0.3.0) (0.3.0)\n",
            "Requirement already satisfied: mistune<2,>=0.8.1 in /usr/local/lib/python3.10/dist-packages (from nbconvert->jupyter->tile2net==0.3.0) (0.8.4)\n",
            "Requirement already satisfied: nbclient>=0.5.0 in /usr/local/lib/python3.10/dist-packages (from nbconvert->jupyter->tile2net==0.3.0) (0.9.0)\n",
            "Requirement already satisfied: nbformat>=5.1 in /usr/local/lib/python3.10/dist-packages (from nbconvert->jupyter->tile2net==0.3.0) (5.9.2)\n",
            "Requirement already satisfied: pandocfilters>=1.4.1 in /usr/local/lib/python3.10/dist-packages (from nbconvert->jupyter->tile2net==0.3.0) (1.5.0)\n",
            "Requirement already satisfied: tinycss2 in /usr/local/lib/python3.10/dist-packages (from nbconvert->jupyter->tile2net==0.3.0) (1.2.1)\n",
            "Requirement already satisfied: pyzmq<25,>=17 in /usr/local/lib/python3.10/dist-packages (from notebook->jupyter->tile2net==0.3.0) (23.2.1)\n",
            "Requirement already satisfied: argon2-cffi in /usr/local/lib/python3.10/dist-packages (from notebook->jupyter->tile2net==0.3.0) (23.1.0)\n",
            "Requirement already satisfied: nest-asyncio>=1.5 in /usr/local/lib/python3.10/dist-packages (from notebook->jupyter->tile2net==0.3.0) (1.5.8)\n",
            "Requirement already satisfied: Send2Trash>=1.8.0 in /usr/local/lib/python3.10/dist-packages (from notebook->jupyter->tile2net==0.3.0) (1.8.2)\n",
            "Requirement already satisfied: terminado>=0.8.3 in /usr/local/lib/python3.10/dist-packages (from notebook->jupyter->tile2net==0.3.0) (0.18.0)\n",
            "Requirement already satisfied: prometheus-client in /usr/local/lib/python3.10/dist-packages (from notebook->jupyter->tile2net==0.3.0) (0.19.0)\n",
            "Requirement already satisfied: nbclassic>=0.4.7 in /usr/local/lib/python3.10/dist-packages (from notebook->jupyter->tile2net==0.3.0) (1.0.0)\n",
            "Collecting qtpy>=2.4.0 (from qtconsole->jupyter->tile2net==0.3.0)\n",
            "  Downloading QtPy-2.4.1-py3-none-any.whl (93 kB)\n",
            "\u001b[2K     \u001b[90m━━━━━━━━━━━━━━━━━━━━━━━━━━━━━━━━━━━━━━━━\u001b[0m \u001b[32m93.5/93.5 kB\u001b[0m \u001b[31m13.9 MB/s\u001b[0m eta \u001b[36m0:00:00\u001b[0m\n",
            "\u001b[?25hRequirement already satisfied: PySocks!=1.5.7,>=1.5.6 in /usr/local/lib/python3.10/dist-packages (from requests[socks]->gdown->tile2net==0.3.0) (1.7.1)\n",
            "Requirement already satisfied: mpmath>=0.19 in /usr/local/lib/python3.10/dist-packages (from sympy->torch->tile2net==0.3.0) (1.3.0)\n",
            "Collecting jedi>=0.16 (from ipython>=5.0.0->ipykernel->jupyter->tile2net==0.3.0)\n",
            "  Downloading jedi-0.19.1-py2.py3-none-any.whl (1.6 MB)\n",
            "\u001b[2K     \u001b[90m━━━━━━━━━━━━━━━━━━━━━━━━━━━━━━━━━━━━━━━━\u001b[0m \u001b[32m1.6/1.6 MB\u001b[0m \u001b[31m88.9 MB/s\u001b[0m eta \u001b[36m0:00:00\u001b[0m\n",
            "\u001b[?25hRequirement already satisfied: decorator in /usr/local/lib/python3.10/dist-packages (from ipython>=5.0.0->ipykernel->jupyter->tile2net==0.3.0) (4.4.2)\n",
            "Requirement already satisfied: pickleshare in /usr/local/lib/python3.10/dist-packages (from ipython>=5.0.0->ipykernel->jupyter->tile2net==0.3.0) (0.7.5)\n",
            "Requirement already satisfied: backcall in /usr/local/lib/python3.10/dist-packages (from ipython>=5.0.0->ipykernel->jupyter->tile2net==0.3.0) (0.2.0)\n",
            "Requirement already satisfied: matplotlib-inline in /usr/local/lib/python3.10/dist-packages (from ipython>=5.0.0->ipykernel->jupyter->tile2net==0.3.0) (0.1.6)\n",
            "Requirement already satisfied: pexpect>4.3 in /usr/local/lib/python3.10/dist-packages (from ipython>=5.0.0->ipykernel->jupyter->tile2net==0.3.0) (4.9.0)\n",
            "Requirement already satisfied: jupyter-server>=1.8 in /usr/local/lib/python3.10/dist-packages (from nbclassic>=0.4.7->notebook->jupyter->tile2net==0.3.0) (1.24.0)\n",
            "Requirement already satisfied: notebook-shim>=0.2.3 in /usr/local/lib/python3.10/dist-packages (from nbclassic>=0.4.7->notebook->jupyter->tile2net==0.3.0) (0.2.3)\n",
            "Requirement already satisfied: fastjsonschema in /usr/local/lib/python3.10/dist-packages (from nbformat>=5.1->nbconvert->jupyter->tile2net==0.3.0) (2.19.0)\n",
            "Requirement already satisfied: jsonschema>=2.6 in /usr/local/lib/python3.10/dist-packages (from nbformat>=5.1->nbconvert->jupyter->tile2net==0.3.0) (4.19.2)\n",
            "Requirement already satisfied: wcwidth in /usr/local/lib/python3.10/dist-packages (from prompt-toolkit!=3.0.0,!=3.0.1,<3.1.0,>=2.0.0->jupyter-console->jupyter->tile2net==0.3.0) (0.2.12)\n",
            "Requirement already satisfied: ptyprocess in /usr/local/lib/python3.10/dist-packages (from terminado>=0.8.3->notebook->jupyter->tile2net==0.3.0) (0.7.0)\n",
            "Requirement already satisfied: argon2-cffi-bindings in /usr/local/lib/python3.10/dist-packages (from argon2-cffi->notebook->jupyter->tile2net==0.3.0) (21.2.0)\n",
            "Requirement already satisfied: webencodings in /usr/local/lib/python3.10/dist-packages (from bleach->nbconvert->jupyter->tile2net==0.3.0) (0.5.1)\n",
            "Requirement already satisfied: parso<0.9.0,>=0.8.3 in /usr/local/lib/python3.10/dist-packages (from jedi>=0.16->ipython>=5.0.0->ipykernel->jupyter->tile2net==0.3.0) (0.8.3)\n",
            "Requirement already satisfied: jsonschema-specifications>=2023.03.6 in /usr/local/lib/python3.10/dist-packages (from jsonschema>=2.6->nbformat>=5.1->nbconvert->jupyter->tile2net==0.3.0) (2023.11.2)\n",
            "Requirement already satisfied: referencing>=0.28.4 in /usr/local/lib/python3.10/dist-packages (from jsonschema>=2.6->nbformat>=5.1->nbconvert->jupyter->tile2net==0.3.0) (0.32.0)\n",
            "Requirement already satisfied: rpds-py>=0.7.1 in /usr/local/lib/python3.10/dist-packages (from jsonschema>=2.6->nbformat>=5.1->nbconvert->jupyter->tile2net==0.3.0) (0.15.2)\n",
            "Requirement already satisfied: anyio<4,>=3.1.0 in /usr/local/lib/python3.10/dist-packages (from jupyter-server>=1.8->nbclassic>=0.4.7->notebook->jupyter->tile2net==0.3.0) (3.7.1)\n",
            "Requirement already satisfied: websocket-client in /usr/local/lib/python3.10/dist-packages (from jupyter-server>=1.8->nbclassic>=0.4.7->notebook->jupyter->tile2net==0.3.0) (1.7.0)\n",
            "Requirement already satisfied: cffi>=1.0.1 in /usr/local/lib/python3.10/dist-packages (from argon2-cffi-bindings->argon2-cffi->notebook->jupyter->tile2net==0.3.0) (1.16.0)\n",
            "Requirement already satisfied: sniffio>=1.1 in /usr/local/lib/python3.10/dist-packages (from anyio<4,>=3.1.0->jupyter-server>=1.8->nbclassic>=0.4.7->notebook->jupyter->tile2net==0.3.0) (1.3.0)\n",
            "Requirement already satisfied: pycparser in /usr/local/lib/python3.10/dist-packages (from cffi>=1.0.1->argon2-cffi-bindings->argon2-cffi->notebook->jupyter->tile2net==0.3.0) (2.21)\n",
            "Building wheels for collected packages: tile2net\n",
            "  Building editable for tile2net (pyproject.toml) ... \u001b[?25l\u001b[?25hdone\n",
            "  Created wheel for tile2net: filename=tile2net-0.3.0-0.editable-py3-none-any.whl size=7152 sha256=cf766f2bbc3df664cc724543dc26723611b7e07b765bfd4b645b81c17c20ce8d\n",
            "  Stored in directory: /tmp/pip-ephem-wheel-cache-5fnhakkx/wheels/a5/bd/75/79a9fbaad70a2644aa29bcc252739705b54fab92852d511c64\n",
            "Successfully built tile2net\n",
            "Installing collected packages: coolname, tensorboardx, snuggs, shapely, qtpy, pyogrio, jedi, argh, affine, runx, rasterio, centerline, qtconsole, osmnx, libpysal, momepy, jupyter, tile2net\n",
            "  Attempting uninstall: shapely\n",
            "    Found existing installation: shapely 2.0.2\n",
            "    Uninstalling shapely-2.0.2:\n",
            "      Successfully uninstalled shapely-2.0.2\n",
            "\u001b[31mERROR: pip's dependency resolver does not currently take into account all the packages that are installed. This behaviour is the source of the following dependency conflicts.\n",
            "lida 0.0.10 requires fastapi, which is not installed.\n",
            "lida 0.0.10 requires kaleido, which is not installed.\n",
            "lida 0.0.10 requires python-multipart, which is not installed.\n",
            "lida 0.0.10 requires uvicorn, which is not installed.\u001b[0m\u001b[31m\n",
            "\u001b[0mSuccessfully installed affine-2.4.0 argh-0.29.4 centerline-1.0.1 coolname-2.2.0 jedi-0.19.1 jupyter-1.0.0 libpysal-4.9.2 momepy-0.7.0 osmnx-1.8.1 pyogrio-0.7.2 qtconsole-5.5.1 qtpy-2.4.1 rasterio-1.3.9 runx-0.0.11 shapely-2.0.1 snuggs-1.4.7 tensorboardx-2.6.2.2 tile2net-0.3.0\n"
          ]
        }
      ],
      "source": [
        "# In Colab, the following two lines are unnecessary, but they are very important when working locally\n",
        "# !conda create --name testenv python==3.11\n",
        "# !conda activate testenv\n",
        "!python -m pip install -e ."
      ]
    },
    {
      "cell_type": "markdown",
      "metadata": {
        "id": "ixca0awruUTd"
      },
      "source": [
        "### Step 3: Start Generating a Network!\n",
        "\n",
        "You're pretty much done! All you need to do is call the same bash commands from the quick start command line tutorial, but with a `!` in front.\n",
        "\n",
        "You can call `!python -m tile2net generate --help` or `!python -m tile2net inference --help` for more details on the generate and inference functions, respectively.\n",
        "\n",
        "For example:"
      ]
    },
    {
      "cell_type": "code",
      "execution_count": null,
      "metadata": {
        "colab": {
          "base_uri": "https://localhost:8080/"
        },
        "id": "i-GbQPHdxlCe",
        "outputId": "d01f7501-ce4e-4a79-b596-b3ccb5b96cc8"
      },
      "outputs": [
        {
          "name": "stdout",
          "output_type": "stream",
          "text": [
            "2023-12-13 20:20:41.817885: E tensorflow/compiler/xla/stream_executor/cuda/cuda_dnn.cc:9342] Unable to register cuDNN factory: Attempting to register factory for plugin cuDNN when one has already been registered\n",
            "2023-12-13 20:20:41.817949: E tensorflow/compiler/xla/stream_executor/cuda/cuda_fft.cc:609] Unable to register cuFFT factory: Attempting to register factory for plugin cuFFT when one has already been registered\n",
            "2023-12-13 20:20:41.818000: E tensorflow/compiler/xla/stream_executor/cuda/cuda_blas.cc:1518] Unable to register cuBLAS factory: Attempting to register factory for plugin cuBLAS when one has already been registered\n",
            "2023-12-13 20:20:41.830754: I tensorflow/core/platform/cpu_feature_guard.cc:182] This TensorFlow binary is optimized to use available CPU instructions in performance-critical operations.\n",
            "To enable the following instructions: AVX2 FMA, in other operations, rebuild TensorFlow with the appropriate compiler flags.\n",
            "2023-12-13 20:20:41.831286: E tensorflow/compiler/xla/stream_executor/cuda/cuda_dnn.cc:9342] Unable to register cuDNN factory: Attempting to register factory for plugin cuDNN when one has already been registered\n",
            "2023-12-13 20:20:41.831326: E tensorflow/compiler/xla/stream_executor/cuda/cuda_fft.cc:609] Unable to register cuFFT factory: Attempting to register factory for plugin cuFFT when one has already been registered\n",
            "2023-12-13 20:20:41.831367: E tensorflow/compiler/xla/stream_executor/cuda/cuda_blas.cc:1518] Unable to register cuBLAS factory: Attempting to register factory for plugin cuBLAS when one has already been registered\n",
            "2023-12-13 20:20:41.842447: I tensorflow/core/platform/cpu_feature_guard.cc:182] This TensorFlow binary is optimized to use available CPU instructions in performance-critical operations.\n",
            "To enable the following instructions: AVX2 FMA, in other operations, rebuild TensorFlow with the appropriate compiler flags.\n",
            "2023-12-13 20:20:43.654049: W tensorflow/compiler/tf2tensorrt/utils/py_utils.cc:38] TF-TRT Warning: Could not find TensorRT\n",
            "2023-12-13 20:20:43.678728: W tensorflow/compiler/tf2tensorrt/utils/py_utils.cc:38] TF-TRT Warning: Could not find TensorRT\n",
            "INFO       Geocoding [42.3536483721, -71.0716891532, 42.3555518995, -71.0643742337], this may take awhile...\n",
            "INFO       Using Massachusetts as the source at location=[42.3536483721, -71.0716891532, 42.3555518995, -71.0643742337]\n",
            "INFO       Using base_tilesize=256 from source\n",
            "INFO       Stitching Tiles...\n",
            "           Checking 96 files...                   : 100% 96/96 [00:00<00:00, 6266.78it/s]\n",
            "           Downloading 96 tiles...                : 100% 96/96 [00:00<00:00, 108.44it/s]\n",
            "INFO       All 96 tiles are on disk.\n",
            "           Stitching 6 tiles...                   : 100% 6/6 [00:01<00:00,  3.84it/s]\n",
            "INFO       Dumping to content/output/example/tiles/example_256_info.json\n",
            "INFO       Inferencing. Segmentation results will not be saved.\n",
            "INFO       Downloading weights for segmentation, this may take a while...\n",
            "INFO       Weights downloaded.\n",
            "Using regular batch norm\n",
            "ignore_label = -1\n",
            "num_classes = 4\n",
            "Found 6 folder imgs\n",
            "all imgs 6\n",
            "Using Per Image based weighted loss\n",
            "Using Cross Entropy Loss\n",
            "Loading weights from: checkpoint=/content/tile2net/src/tile2net/raster/resources/assets/weights/satellite_2021.pth\n",
            "=> init weights from normal distribution\n",
            "=> loading pretrained model /content/tile2net/src/tile2net/raster/resources/assets/weights/hrnetv2_w48_imagenet_pretrained.pth\n",
            "Trunk: hrnetv2\n",
            "Model params = 72.1M\n",
            "INFO       Using base_tilesize=256 from source\n",
            "Inference [Iter: 1 / 6]\n",
            "INFO       Polygons are generated and saved!\n",
            "INFO       Starting network creation...\n",
            "100% 32/32 [00:00<00:00, 3194.06it/s]\n",
            "100% 32/32 [00:00<00:00, 1845.15it/s]\n",
            "INFO       ..... creating the processed sidewalk network\n",
            "100% 14/14 [00:00<00:00, 4946.11it/s]\n",
            "100% 14/14 [00:00<00:00, 4074.12it/s]\n"
          ]
        }
      ],
      "source": [
        "!python -m tile2net generate -l \"42.35555189953313, -71.07168915322092, 42.35364837213307, -71.06437423368418\" -n example -o \"content/output\"  | python -m tile2net inference"
      ]
    },
    {
      "cell_type": "markdown",
      "metadata": {
        "id": "3ObqJ03-2M5W"
      },
      "source": [
        "#### Custom Tiles\n",
        "\n",
        "If the region you have doesn't already exist in the tool, use the *-i* argument to add the filepath to your tiles, and pass in *-z* declaring the zoom level. On Colab, this file path could be acquired through mounting your google drive, or manually uploading the files each session.\n",
        "\n",
        "the `location` argument is still necessary when using your own data, to establish which region within the tiles to process."
      ]
    },
    {
      "cell_type": "code",
      "execution_count": null,
      "metadata": {
        "colab": {
          "base_uri": "https://localhost:8080/"
        },
        "id": "d10fBhzo4fyn",
        "outputId": "e994539a-c30b-4257-d471-bd7e3ef1273c"
      },
      "outputs": [
        {
          "name": "stdout",
          "output_type": "stream",
          "text": [
            "2023-12-15 21:29:33.637122: E external/local_xla/xla/stream_executor/cuda/cuda_dnn.cc:9261] Unable to register cuDNN factory: Attempting to register factory for plugin cuDNN when one has already been registered\n",
            "2023-12-15 21:29:33.637169: E external/local_xla/xla/stream_executor/cuda/cuda_fft.cc:607] Unable to register cuFFT factory: Attempting to register factory for plugin cuFFT when one has already been registered\n",
            "2023-12-15 21:29:33.638642: E external/local_xla/xla/stream_executor/cuda/cuda_blas.cc:1515] Unable to register cuBLAS factory: Attempting to register factory for plugin cuBLAS when one has already been registered\n",
            "2023-12-15 21:29:33.646164: I tensorflow/core/platform/cpu_feature_guard.cc:182] This TensorFlow binary is optimized to use available CPU instructions in performance-critical operations.\n",
            "To enable the following instructions: AVX2 FMA, in other operations, rebuild TensorFlow with the appropriate compiler flags.\n",
            "2023-12-15 21:29:34.773321: W tensorflow/compiler/tf2tensorrt/utils/py_utils.cc:38] TF-TRT Warning: Could not find TensorRT\n",
            "INFO       Stitching Tiles...\n",
            "INFO       All tiles already stitched.\n",
            "INFO       Dumping to /content/drive/MyDrive/Junior/UROP/Week 1/denver_feature_modification/examples_densearea/denver_dense/tiles/denver_dense_256_info.json\n",
            "{\n",
            "    \"config\": \"/content/tile2net/src/tile2net/tileseg/config.py\",\n",
            "    \"assets\": {\n",
            "        \"weights\": {\n",
            "            \"satellite_2021\": \"/content/tile2net/src/tile2net/raster/resources/assets/weights/satellite_2021.pth\",\n",
            "            \"hrnetv2_w48_imagenet_pretrained\": \"/content/tile2net/src/tile2net/raster/resources/assets/weights/hrnetv2_w48_imagenet_pretrained.pth\"\n",
            "        }\n",
            "    },\n",
            "    \"tiles\": {\n",
            "        \"info\": \"/content/drive/MyDrive/Junior/UROP/Week 1/denver_feature_modification/examples_densearea/denver_dense/tiles/denver_dense_256_info.json\",\n",
            "        \"static\": \"/content/drive/MyDrive/Junior/UROP/Week 1/denver_feature_modification/examples_densearea/20\",\n",
            "        \"stitched\": \"/content/drive/MyDrive/Junior/UROP/Week 1/denver_feature_modification/examples_densearea/denver_dense/tiles/stitched/256_20_4\"\n",
            "    },\n",
            "    \"polygons\": \"/content/drive/MyDrive/Junior/UROP/Week 1/denver_feature_modification/examples_densearea/denver_dense/polygons\",\n",
            "    \"network\": \"/content/drive/MyDrive/Junior/UROP/Week 1/denver_feature_modification/examples_densearea/denver_dense/network\",\n",
            "    \"segmentation\": \"/content/drive/MyDrive/Junior/UROP/Week 1/denver_feature_modification/examples_densearea/denver_dense/segmentation\",\n",
            "    \"name\": \"denver_dense\"\n",
            "}"
          ]
        }
      ],
      "source": [
        "!python -m tile2net generate -l \"39.711437026, -104.997424, 39.74059289, -104.959666158\" -i \"/content/drive/MyDrive/Junior/UROP/Week 1/denver_feature_modification/examples_densearea/20/x/y.png\" -z 20 -n denver_dense -o \"/content/drive/MyDrive/Junior/UROP/Week 1/denver_feature_modification/examples_densearea\"\n",
        "# | python -m tile2net inference\n"
      ]
    },
    {
      "cell_type": "markdown",
      "metadata": {
        "id": "6GUcBRndCUcW"
      },
      "source": [
        "### Step 4: Explore and Save Your Results\n",
        "\n",
        "Now that you've generated your stitched tiles and created your pedestrian network, it's time to explore!\n",
        "\n",
        "Given that your output directory is `output_dir`, you will see the following folders:\n",
        "\n",
        "- `output_dir/tiles/static`: the raw, unstitched orthorectified tiles used during segmentation\n",
        "- `output_dir/tiles/stitched`: the stitched tiles\n",
        "- `output_dir/segmentation/*`: metadata about the segmentation process used\n",
        "- `output_dir/polygons/*`: shapefiles of polygons created from the segmentation results\n",
        "- `output_dir/network/*`: the final pedestrian network shapefiles, ready to be visualized in any GIS software!\n",
        "\n",
        "In Colab, you can download these files using the `!zip` command:"
      ]
    },
    {
      "cell_type": "code",
      "execution_count": null,
      "metadata": {
        "colab": {
          "base_uri": "https://localhost:8080/",
          "height": 1000
        },
        "id": "DqceEuCoFP5r",
        "outputId": "8ef569da-9f72-4e92-81e9-675f9750710e"
      },
      "outputs": [
        {
          "name": "stdout",
          "output_type": "stream",
          "text": [
            "[Errno 2] No such file or directory: 'content/output'\n",
            "/content/tile2net/content/output\n",
            "updating: example/ (stored 0%)\n",
            "updating: example/segmentation/ (stored 0%)\n",
            "updating: example/segmentation/hparams.json (deflated 77%)\n",
            "updating: example/segmentation/logging.log (deflated 42%)\n",
            "updating: example/segmentation/metrics.csv (deflated 4%)\n",
            "updating: example/segmentation/events.out.tfevents.1702498875.5db1fbfd31b3.1340.0 (deflated 9%)\n",
            "updating: example/polygons/ (stored 0%)\n",
            "updating: example/polygons/example-Polygons-13-12-2023_20/ (stored 0%)\n",
            "updating: example/polygons/example-Polygons-13-12-2023_20/example-Polygons-13-12-2023_20.dbf (deflated 98%)\n",
            "updating: example/polygons/example-Polygons-13-12-2023_20/example-Polygons-13-12-2023_20.cpg (stored 0%)\n",
            "updating: example/polygons/example-Polygons-13-12-2023_20/example-Polygons-13-12-2023_20.shp (deflated 53%)\n",
            "updating: example/polygons/example-Polygons-13-12-2023_20/example-Polygons-13-12-2023_20.shx (deflated 47%)\n",
            "updating: example/polygons/example-Polygons-13-12-2023_20/example-Polygons-13-12-2023_20.prj (deflated 17%)\n",
            "updating: example/structure.json (deflated 66%)\n",
            "updating: example/tiles/ (stored 0%)\n",
            "updating: example/tiles/static/ (stored 0%)\n",
            "updating: example/tiles/static/ma/ (stored 0%)\n",
            "updating: example/tiles/static/ma/256_19/ (stored 0%)\n",
            "updating: example/tiles/static/ma/256_19/158647_193927.png (deflated 2%)\n",
            "updating: example/tiles/static/ma/256_19/158646_193931.png (deflated 2%)\n",
            "updating: example/tiles/static/ma/256_19/158643_193929.png (deflated 1%)\n",
            "updating: example/tiles/static/ma/256_19/158638_193925.png (deflated 1%)\n",
            "updating: example/tiles/static/ma/256_19/158647_193932.png (deflated 1%)\n",
            "updating: example/tiles/static/ma/256_19/158649_193928.png (deflated 1%)\n",
            "updating: example/tiles/static/ma/256_19/158640_193928.png (deflated 2%)\n",
            "updating: example/tiles/static/ma/256_19/158644_193932.png (deflated 1%)\n",
            "updating: example/tiles/static/ma/256_19/158639_193926.png (deflated 2%)\n",
            "updating: example/tiles/static/ma/256_19/158645_193930.png (deflated 2%)\n",
            "updating: example/tiles/static/ma/256_19/158643_193932.png (deflated 1%)\n",
            "updating: example/tiles/static/ma/256_19/158649_193927.png (deflated 2%)\n",
            "updating: example/tiles/static/ma/256_19/158642_193927.png (deflated 1%)\n",
            "updating: example/tiles/static/ma/256_19/158640_193929.png (deflated 2%)\n",
            "updating: example/tiles/static/ma/256_19/158638_193926.png (deflated 2%)\n",
            "updating: example/tiles/static/ma/256_19/158646_193929.png (deflated 2%)\n",
            "updating: example/tiles/static/ma/256_19/158647_193926.png (deflated 2%)\n",
            "updating: example/tiles/static/ma/256_19/158646_193928.png (deflated 2%)\n",
            "updating: example/tiles/static/ma/256_19/158640_193930.png (deflated 2%)\n",
            "updating: example/tiles/static/ma/256_19/158640_193925.png (deflated 1%)\n",
            "updating: example/tiles/static/ma/256_19/158647_193930.png (deflated 1%)\n",
            "updating: example/tiles/static/ma/256_19/158641_193931.png (deflated 2%)\n",
            "updating: example/tiles/static/ma/256_19/158639_193931.png (deflated 1%)\n",
            "updating: example/tiles/static/ma/256_19/158639_193929.png (deflated 2%)\n",
            "updating: example/tiles/static/ma/256_19/158642_193928.png (deflated 1%)\n",
            "updating: example/tiles/static/ma/256_19/158643_193926.png (deflated 2%)\n",
            "updating: example/tiles/static/ma/256_19/158649_193925.png (deflated 1%)\n",
            "updating: example/tiles/static/ma/256_19/158639_193927.png (deflated 2%)\n",
            "updating: example/tiles/static/ma/256_19/158644_193930.png (deflated 1%)\n",
            "updating: example/tiles/static/ma/256_19/158648_193927.png (deflated 2%)\n",
            "updating: example/tiles/static/ma/256_19/158640_193926.png (deflated 2%)\n",
            "updating: example/tiles/static/ma/256_19/158638_193930.png (deflated 1%)\n",
            "updating: example/tiles/static/ma/256_19/158638_193932.png (deflated 1%)\n",
            "updating: example/tiles/static/ma/256_19/158647_193931.png (deflated 1%)\n",
            "updating: example/tiles/static/ma/256_19/158645_193928.png (deflated 2%)\n",
            "updating: example/tiles/static/ma/256_19/158647_193928.png (deflated 2%)\n",
            "updating: example/tiles/static/ma/256_19/158639_193930.png (deflated 2%)\n",
            "updating: example/tiles/static/ma/256_19/158648_193928.png (deflated 2%)\n",
            "updating: example/tiles/static/ma/256_19/158645_193925.png (deflated 2%)\n",
            "updating: example/tiles/static/ma/256_19/158648_193926.png (deflated 2%)\n",
            "updating: example/tiles/static/ma/256_19/158642_193926.png (deflated 1%)\n",
            "updating: example/tiles/static/ma/256_19/158641_193928.png (deflated 2%)\n",
            "updating: example/tiles/static/ma/256_19/158642_193931.png (deflated 1%)\n",
            "updating: example/tiles/static/ma/256_19/158648_193925.png (deflated 1%)\n",
            "updating: example/tiles/static/ma/256_19/158641_193926.png (deflated 2%)\n",
            "updating: example/tiles/static/ma/256_19/158641_193925.png (deflated 1%)\n",
            "updating: example/tiles/static/ma/256_19/158648_193931.png (deflated 2%)\n",
            "updating: example/tiles/static/ma/256_19/158648_193930.png (deflated 1%)\n",
            "updating: example/tiles/static/ma/256_19/158640_193927.png (deflated 3%)\n",
            "updating: example/tiles/static/ma/256_19/158645_193927.png (deflated 2%)\n",
            "updating: example/tiles/static/ma/256_19/158645_193931.png (deflated 2%)\n",
            "updating: example/tiles/static/ma/256_19/158649_193930.png (deflated 1%)\n",
            "updating: example/tiles/static/ma/256_19/158639_193928.png (deflated 2%)\n",
            "updating: example/tiles/static/ma/256_19/158644_193928.png (deflated 2%)\n",
            "updating: example/tiles/static/ma/256_19/158645_193926.png (deflated 2%)\n",
            "updating: example/tiles/static/ma/256_19/158641_193932.png (deflated 1%)\n",
            "updating: example/tiles/static/ma/256_19/158641_193927.png (deflated 2%)\n",
            "updating: example/tiles/static/ma/256_19/158644_193926.png (deflated 2%)\n",
            "updating: example/tiles/static/ma/256_19/158641_193929.png (deflated 4%)\n",
            "updating: example/tiles/static/ma/256_19/158639_193925.png (deflated 1%)\n",
            "updating: example/tiles/static/ma/256_19/158638_193927.png (deflated 2%)\n",
            "updating: example/tiles/static/ma/256_19/158644_193931.png (deflated 1%)\n",
            "updating: example/tiles/static/ma/256_19/158649_193926.png (deflated 1%)\n",
            "updating: example/tiles/static/ma/256_19/158644_193929.png (deflated 2%)\n",
            "updating: example/tiles/static/ma/256_19/158644_193925.png (deflated 3%)\n",
            "updating: example/tiles/static/ma/256_19/158646_193930.png (deflated 1%)\n",
            "updating: example/tiles/static/ma/256_19/158638_193928.png (deflated 1%)\n",
            "updating: example/tiles/static/ma/256_19/158638_193929.png (deflated 1%)\n",
            "updating: example/tiles/static/ma/256_19/158648_193932.png (deflated 1%)\n",
            "updating: example/tiles/static/ma/256_19/158640_193931.png (deflated 2%)\n",
            "updating: example/tiles/static/ma/256_19/158646_193925.png (deflated 1%)\n",
            "updating: example/tiles/static/ma/256_19/158643_193930.png (deflated 1%)\n",
            "updating: example/tiles/static/ma/256_19/158649_193931.png (deflated 1%)\n",
            "updating: example/tiles/static/ma/256_19/158643_193927.png (deflated 1%)\n",
            "updating: example/tiles/static/ma/256_19/158648_193929.png (deflated 2%)\n",
            "updating: example/tiles/static/ma/256_19/158646_193926.png (deflated 2%)\n",
            "updating: example/tiles/static/ma/256_19/158644_193927.png (deflated 1%)\n",
            "updating: example/tiles/static/ma/256_19/158640_193932.png (deflated 1%)\n",
            "updating: example/tiles/static/ma/256_19/158643_193925.png (deflated 2%)\n",
            "updating: example/tiles/static/ma/256_19/158643_193931.png (deflated 1%)\n",
            "updating: example/tiles/static/ma/256_19/158646_193932.png (deflated 1%)\n",
            "updating: example/tiles/static/ma/256_19/158642_193932.png (deflated 1%)\n",
            "updating: example/tiles/static/ma/256_19/158643_193928.png (deflated 1%)\n",
            "updating: example/tiles/static/ma/256_19/158642_193925.png (deflated 1%)\n",
            "updating: example/tiles/static/ma/256_19/158642_193930.png (deflated 2%)\n",
            "updating: example/tiles/static/ma/256_19/158649_193932.png (deflated 1%)\n",
            "updating: example/tiles/static/ma/256_19/158647_193929.png (deflated 2%)\n",
            "updating: example/tiles/static/ma/256_19/158639_193932.png (deflated 1%)\n",
            "updating: example/tiles/static/ma/256_19/158649_193929.png (deflated 1%)\n",
            "updating: example/tiles/static/ma/256_19/158646_193927.png (deflated 2%)\n",
            "updating: example/tiles/static/ma/256_19/158642_193929.png (deflated 2%)\n",
            "updating: example/tiles/static/ma/256_19/158641_193930.png (deflated 6%)\n",
            "updating: example/tiles/static/ma/256_19/158647_193925.png (deflated 1%)\n",
            "updating: example/tiles/static/ma/256_19/158645_193929.png (deflated 4%)\n",
            "updating: example/tiles/static/ma/256_19/158638_193931.png (deflated 1%)\n",
            "updating: example/tiles/static/ma/256_19/158645_193932.png (deflated 1%)\n",
            "updating: example/tiles/stitched/ (stored 0%)\n",
            "updating: example/tiles/stitched/256_19_4/ (stored 0%)\n",
            "updating: example/tiles/stitched/256_19_4/2_1_5.png (deflated 0%)\n",
            "updating: example/tiles/stitched/256_19_4/2_0_4.png (deflated 0%)\n",
            "updating: example/tiles/stitched/256_19_4/0_1_1.png (deflated 0%)\n",
            "updating: example/tiles/stitched/256_19_4/0_0_0.png (deflated 0%)\n",
            "updating: example/tiles/stitched/256_19_4/1_0_2.png (deflated 0%)\n",
            "updating: example/tiles/stitched/256_19_4/1_1_3.png (deflated 0%)\n",
            "updating: example/tiles/example_256_info.json (deflated 66%)\n",
            "updating: example/network/ (stored 0%)\n",
            "updating: example/network/example-Network-13-12-2023_20/ (stored 0%)\n",
            "updating: example/network/example-Network-13-12-2023_20/example-Network-13-12-2023_20.shp (deflated 71%)\n",
            "updating: example/network/example-Network-13-12-2023_20/example-Network-13-12-2023_20.shx (deflated 66%)\n",
            "updating: example/network/example-Network-13-12-2023_20/example-Network-13-12-2023_20.prj (deflated 17%)\n",
            "updating: example/network/example-Network-13-12-2023_20/example-Network-13-12-2023_20.cpg (stored 0%)\n",
            "updating: example/network/example-Network-13-12-2023_20/example-Network-13-12-2023_20.dbf (deflated 99%)\n"
          ]
        },
        {
          "data": {
            "application/javascript": "\n    async function download(id, filename, size) {\n      if (!google.colab.kernel.accessAllowed) {\n        return;\n      }\n      const div = document.createElement('div');\n      const label = document.createElement('label');\n      label.textContent = `Downloading \"${filename}\": `;\n      div.appendChild(label);\n      const progress = document.createElement('progress');\n      progress.max = size;\n      div.appendChild(progress);\n      document.body.appendChild(div);\n\n      const buffers = [];\n      let downloaded = 0;\n\n      const channel = await google.colab.kernel.comms.open(id);\n      // Send a message to notify the kernel that we're ready.\n      channel.send({})\n\n      for await (const message of channel.messages) {\n        // Send a message to notify the kernel that we're ready.\n        channel.send({})\n        if (message.buffers) {\n          for (const buffer of message.buffers) {\n            buffers.push(buffer);\n            downloaded += buffer.byteLength;\n            progress.value = downloaded;\n          }\n        }\n      }\n      const blob = new Blob(buffers, {type: 'application/binary'});\n      const a = document.createElement('a');\n      a.href = window.URL.createObjectURL(blob);\n      a.download = filename;\n      div.appendChild(a);\n      a.click();\n      div.remove();\n    }\n  ",
            "text/plain": [
              "<IPython.core.display.Javascript object>"
            ]
          },
          "metadata": {},
          "output_type": "display_data"
        },
        {
          "data": {
            "application/javascript": "download(\"download_43077bb4-b129-4868-96b7-39df4aa2c34d\", \"example.zip\", 8549065)",
            "text/plain": [
              "<IPython.core.display.Javascript object>"
            ]
          },
          "metadata": {},
          "output_type": "display_data"
        }
      ],
      "source": [
        "%cd content/output\n",
        "!zip -r example.zip example\n",
        "\n",
        "from google.colab import files\n",
        "files.download('example.zip')"
      ]
    },
    {
      "cell_type": "markdown",
      "metadata": {
        "id": "REGKgK5sJqBx"
      },
      "source": [
        "## Python Modules\n",
        "\n"
      ]
    },
    {
      "cell_type": "markdown",
      "metadata": {
        "id": "eF9Wg9PgbcNA"
      },
      "source": [
        "To use Google Colab with the python module version of tile2net, the process is almost identical to the process described in the quick start module tutorial, with one caveat: you must restart your runtime after installing your libraries, but before running any commands that may require those libraries\n",
        "\n",
        "First, follow steps 0-2 as directed in the [Command Line Interface](#command-line-interface) section.\n",
        "\n",
        "**Then, go to `Runtime>Restart Session` or use the shortcut `CTRL+M .`**\n",
        "\n",
        "After this, you can use the tile2net module as the Quick Start Module tutorial describes"
      ]
    },
    {
      "cell_type": "code",
      "execution_count": 1,
      "metadata": {
        "colab": {
          "base_uri": "https://localhost:8080/"
        },
        "id": "bVvFwVXycIL3",
        "outputId": "4e7b559e-9049-4aab-d4c9-2df9fe4b3302"
      },
      "outputs": [
        {
          "name": "stderr",
          "output_type": "stream",
          "text": [
            "INFO       Geocoding (40.979938916261304, -74.10826618803702), this may take awhile...\n",
            "INFO       Geocoded '(40.979938916261304, -74.10826618803702)' to\n",
            "\t'76, North Irving Street, Southeast Ridgewood, Ridgewood, Bergen County, New Jersey, 07450, United States'\n",
            "INFO       Geocoding [40.9495164385, -74.1483364348, 41.0103613941, -74.0681959412], this may take awhile...\n",
            "INFO       Using NewJersey as the source at location=[40.9495164385, -74.1483364348, 41.0103613941, -74.0681959412]\n",
            "INFO       Using base_tilesize=256 from source\n"
          ]
        },
        {
          "data": {
            "text/plain": [
              "tile2net.raster.project.Project"
            ]
          },
          "execution_count": 1,
          "metadata": {},
          "output_type": "execute_result"
        }
      ],
      "source": [
        "import tile2net\n",
        "\n",
        "location = \"41.010361394056375, -74.14833643482527, 40.949516438466226, -74.06819594124879\"\n",
        "raster = tile2net.Raster(\n",
        "    location=location,\n",
        "    # name='boston common',\n",
        "    output_dir='./example_dir',\n",
        "    zoom=19\n",
        ")\n",
        "raster.Project"
      ]
    }
  ],
  "metadata": {
    "accelerator": "GPU",
    "colab": {
      "gpuType": "T4",
      "provenance": []
    },
    "kernelspec": {
      "display_name": "Python 3",
      "name": "python3"
    },
    "language_info": {
      "name": "python"
    }
  },
  "nbformat": 4,
  "nbformat_minor": 0
}
