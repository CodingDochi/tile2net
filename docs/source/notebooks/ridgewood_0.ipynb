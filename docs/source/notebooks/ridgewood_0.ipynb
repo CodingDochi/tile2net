{
 "cells": [
  {
   "cell_type": "markdown",
   "metadata": {
    "tags": []
   },
   "source": [
    "# Case Study #1: Finding high-traffic crosswalks in Ridgewood, NJ"
   ]
  },
  {
   "cell_type": "markdown",
   "metadata": {},
   "source": [
    "This case study is a series of posts highlighting the use of `tile2net` \n",
    "in working with a community to visualize their pedestrian infrastructure and \n",
    "help them make informed decisions about crossing guards and safe sidewalks around the school district\n",
    "\n",
    "External sources used:\n",
    "\n",
    "-  [NJ Office of Information Technology, Office of GIS (NJOGIS)](https://njogis-newjersey.opendata.arcgis.com/datasets/newjersey::municipal-boundaries-of-nj-hosted-3857/about)\n",
    "https://www.arcgis.com/home/user.html?user=NJOGIS\n",
    "- [Center for Education Statistics](https://nces.ed.gov/ccd/schoolsearch/school_list.asp?Search=1&DistrictID=3413830)\n",
    "\n",
    "Libraries required:\n",
    "\n",
    "- tile2net"
   ]
  },
  {
   "cell_type": "markdown",
   "metadata": {},
   "source": [
    "## Part 0: Motivation"
   ]
  },
  {
   "cell_type": "markdown",
   "metadata": {},
   "source": [
    "### Currently available sidewalk data"
   ]
  },
  {
   "cell_type": "markdown",
   "metadata": {},
   "source": [
    "Ridgewood is a town of about 26,000 people in Bergen County, New Jersey. According to the [National Center for Education Statistics](https://nces.ed.gov/ccd/schoolsearch/school_list.asp?Search=1&DistrictID=3413830): Ridgewood Public schools serves about 5,500 enrolled students, distributed among six elementary schools, two middle schools, and one high school. "
   ]
  },
  {
   "cell_type": "markdown",
   "metadata": {},
   "source": [
    "![A Map of Ridgewood, NJ indicating the schools, public and private](./ridgewood_Schools.png)\n",
    "A Map of Ridgewood, NJ indicating the public and private schools. The colors are distributed as follows:\n",
    "\n",
    "- Pink: Public Elementary School\n",
    "- Teal: Public Middle School\n",
    "- Green: Public High School\n",
    "- Purple: Public Nursery/Pre-School\n",
    "- Orange: Other"
   ]
  },
  {
   "cell_type": "markdown",
   "metadata": {},
   "source": [
    "The [NJ Department of Transportation](https://www.nj.gov/transportation/refdata/countysidewalks/downloads.shtm) Provides sidewalk condition statistics and geometry linearly referenced to road center-lines. "
   ]
  },
  {
   "cell_type": "markdown",
   "metadata": {
    "tags": []
   },
   "source": [
    "![A map of ridgewood and points indicating schools and sidewalk data attached to road centerlines](./ridgewood_schools_paths.png)"
   ]
  },
  {
   "cell_type": "markdown",
   "metadata": {},
   "source": [
    "There are several problems with the DoT data:\n",
    "\n",
    "1) Road center-lines are not sidewalk geometry - the existence of a road does not guarantee the existence of a sidewalk\n",
    "2) Roads with a functional class lower than ___________ (that is, local and ______ roads) are not tracked.\n",
    "3) Attaching sidewalk data to road center-lines makes for poor visualization and poor network analysis capabilities. \n",
    "3) Other pedestrian infrastructure (park paths, crosswalks, plazas etc.) are not captured\n",
    "\n",
    "That's where `tile2net` comes in!"
   ]
  }
 ],
 "metadata": {
  "language_info": {
   "name": "python"
  }
 },
 "nbformat": 4,
 "nbformat_minor": 2
}
