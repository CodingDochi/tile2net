{
  "cells": [
    {
      "cell_type": "markdown",
      "metadata": {
        "id": "I_iiHOpKuUTE"
      },
      "source": [
        "# Quick Start - Command Line\n",
        "\n",
        "The following provides some guidance into starting your own Tile2Net project on a command line. Don't forget that, in order to actually perform the inference operation in [Step 3](#step-3-start-generating-a-network), your device must fulfill the hardware requirements detailed on the Installation page, most notably having access to a GPU. \n",
        "\n",
        "## Command Line Interface"
      ]
    },
    {
      "cell_type": "markdown",
      "metadata": {
        "id": "FZxvTk1pBDxy"
      },
      "source": [
        "### Step 1: Clone the Repository"
      ]
    },
    {
      "cell_type": "markdown",
      "metadata": {},
      "source": [
        "in your chosen terminal, execute:\n",
        "\n",
        "```\n",
        "git clone https://github.com/VIDA-NYU/tile2net.git\n",
        "cd tile2net\n",
        "```"
      ]
    },
    {
      "cell_type": "markdown",
      "metadata": {
        "id": "QjY6xjO_uUTR"
      },
      "source": [
        "Always make sure you're up to date with the latest version of the code!"
      ]
    },
    {
      "cell_type": "markdown",
      "metadata": {},
      "source": [
        "```\n",
        "git pull\n",
        "```"
      ]
    },
    {
      "cell_type": "markdown",
      "metadata": {
        "id": "1ng5TNAjuUTW"
      },
      "source": [
        "### Step 2: Activate a Virtual Environment and Install Dependencies\n",
        "\n",
        "It is highly recommended to create a virtual environment using either pip or conda to install Tile2Net and its dependencies. The following commands create an environment with conda and python version 3.11 and install all of the dependencies present in the [requirements-dev.txt](https://github.com/VIDA-NYU/tile2net/blob/main/requirements-dev.txt) file (That's what the period at the end does!)"
      ]
    },
    {
      "cell_type": "markdown",
      "metadata": {},
      "source": [
        "```\n",
        "conda create --name testenv python=3.11\n",
        "conda activate testenv\n",
        "python -m pip install -e .\n",
        "```"
      ]
    },
    {
      "cell_type": "markdown",
      "metadata": {},
      "source": [
        "You might end up getting a timeout error while installing requirements - that's ok! try increasing your timeout when installing requirements:\n",
        "\n",
        "```\n",
        "python -m pip --timeout 1000 install -e .\n",
        "```"
      ]
    },
    {
      "cell_type": "markdown",
      "metadata": {
        "id": "ixca0awruUTd"
      },
      "source": [
        "### Step 3: Start Generating a Network!\n",
        "\n",
        "You're pretty much done! All you need to do is call the following bash command. These are the most commonly used parts of each command:\n",
        "\n",
        "- generate\n",
        "    - *-l*: location bounding box, defined as a list of four coordinates `\"latitude_1, longitude_1, latitude_2, longitude_2\"`, where `latitude_1, longitude_1` represent the top left corner of the bounding box, and `latitude_2, longitude_2` represent the bottom right corner. Thic can also be an address, or a name of a well-known location.\n",
        "    - *-n*: name of your project, used in filepaths when generating files\n",
        "    - *-o*: output folder where the files will be generated. This can be anything you'd like, since the folders will be created dynamically in Colab. This is not strictly true if you are running this command locally on your computer.\n",
        "    - *-i* (optional): a string literal of the filepath to your tiles. E.g. \"path/to/tile/z/x/y.png\" or \"path/to/tile/x_y.png\". The tiles must be in xyz format, not in slippy format (.tiff files). This selects all the files in that directory using that format. You can find more details about Tile Image Format on the Data Preparation Guide.\n",
        "- inference\n",
        "    - *--city_info*: the filepath to the city-info json file created by the `generate` function\n",
        "\n",
        "You can call `python -m tile2net generate --help` or `python -m tile2net inference --help` for more details on the generate and inference functions, respectively.\n",
        "\n",
        "There are several ways you can use the command line arguments, depending on the context in which you are using the tool:\n",
        "\n",
        "#### I. Passing in a bounding box of latitude and longitude coordinates\n"
      ]
    },
    {
      "cell_type": "markdown",
      "metadata": {},
      "source": [
        "```\n",
        "python -m tile2net generate -l \"42.35555189953313, -71.07168915322092, 42.35364837213307, -71.06437423368418\" -n example -o \"content/output\"  | python -m tile2net inference\n",
        "```"
      ]
    },
    {
      "cell_type": "markdown",
      "metadata": {
        "id": "6uOfAfZb2BsR"
      },
      "source": [
        "Or you can use the expanded names for each parameter!"
      ]
    },
    {
      "cell_type": "markdown",
      "metadata": {},
      "source": [
        "```\n",
        "python -m tile2net generate --location \"Boston Common\" --name example --output \"content/output2\"  | python -m tile2net inference\n",
        "```"
      ]
    },
    {
      "cell_type": "markdown",
      "metadata": {
        "id": "szWhNVlH2LIk"
      },
      "source": [
        "#### II. Passing in an address"
      ]
    },
    {
      "cell_type": "markdown",
      "metadata": {},
      "source": [
        "```\n",
        "python -m tile2net generate -l \"77 Massachusetts Ave, Cambridge MA, 02139, USA\" -n example -o \"content/output3\"  | python -m tile2net inference\n",
        "```"
      ]
    },
    {
      "cell_type": "markdown",
      "metadata": {
        "id": "3ObqJ03-2M5W"
      },
      "source": [
        "#### III. Custom tiles\n",
        "\n",
        "If the region you have doesn't already exist in the tool, use the *-i* argument to add the filepath to your tiles, and pass in *-z* declaring the zoom level. On Colab, this file path could be acquired through mounting your google drive, or manually uploading the files each session.\n",
        "\n",
        "the `location` argument is still necessary when using your own data, to establish which region within the tiles to process."
      ]
    },
    {
      "cell_type": "markdown",
      "metadata": {},
      "source": [
        "```\n",
        "python -m tile2net generate -l \"\" -i \"path/to/tile/z/x/y.png\" -z 19 -n example -o \"content/output4\"  | python -m tile2net inference\n",
        "```"
      ]
    },
    {
      "cell_type": "markdown",
      "metadata": {
        "id": "J4k4xOH5-XVE"
      },
      "source": [
        "#### IV. Separating stitched tile generation and inference of pedestrian networks\n",
        "\n",
        "If you want to separate the generate and inference functions, perhaps to run generate on a CPU and inference on a GPU, or if you already have a project json file to perform inference on, use the following commands as a template:"
      ]
    },
    {
      "cell_type": "markdown",
      "metadata": {},
      "source": [
        "```\n",
        "python -m tile2net generate -l \"77 Massachusetts Ave, Cambridge MA, 02139, USA\" -n example -o \"content/output5\"\n",
        "python -m tile2net inference --city_info \"content/output5/example/tiles/example_256_info.json\"\n",
        "```"
      ]
    },
    {
      "cell_type": "markdown",
      "metadata": {
        "id": "6GUcBRndCUcW"
      },
      "source": [
        "### Step 4: Explore and Save Your Results\n",
        "\n",
        "Now that you've generated your stitched tiles and created your pedestrian network, it's time to explore!\n",
        "\n",
        "Given that your output directory is `output_dir`, you will see the following folders:\n",
        "\n",
        "- `output_dir/tiles/static`: the raw, unstitched orthorectified tiles used during segmentation\n",
        "- `output_dir/tiles/stitched`: the stitched tiles\n",
        "- `output_dir/segmentation/*`: metadata about the segmentation process used\n",
        "- `output_dir/polygons/*`: shapefiles of polygons created from the segmentation results\n",
        "- `output_dir/network/*`: the final pedestrian network shapefiles, ready to be visualized in any GIS software!\n",
        "\n",
        "Don't forget to include every file in the `polygons` or `network` folders (.cpg, .dbf, .prg, .shp, .shx, etc) when importing your networks into GIS software!"
      ]
    }
  ],
  "metadata": {
    "accelerator": "GPU",
    "colab": {
      "gpuType": "T4",
      "provenance": []
    },
    "kernelspec": {
      "display_name": "Python 3",
      "name": "python3"
    },
    "language_info": {
      "name": "python",
      "version": "3.11.5"
    }
  },
  "nbformat": 4,
  "nbformat_minor": 0
}
